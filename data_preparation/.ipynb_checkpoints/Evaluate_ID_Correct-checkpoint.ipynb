{
 "cells": [
  {
   "cell_type": "code",
   "execution_count": 1,
   "id": "suspected-vessel",
   "metadata": {},
   "outputs": [],
   "source": [
    "import numpy as np\n",
    "import lmdb\n",
    "import os\n",
    "import pickle\n",
    "import torch\n",
    "from tqdm import tqdm\n",
    "import json\n",
    "# from mmf.utils.file_io import PathManager\n",
    "from iopath.common.file_io import PathManager as pm\n",
    "\n",
    "PathManager = pm()"
   ]
  },
  {
   "cell_type": "code",
   "execution_count": 2,
   "id": "killing-subscriber",
   "metadata": {},
   "outputs": [],
   "source": [
    "class PaddedFasterRCNNFeatureReader:\n",
    "    def __init__(self, max_loc):\n",
    "        self.max_loc = max_loc\n",
    "        self.first = True\n",
    "        self.take_item = False\n",
    "\n",
    "    def _load(self, image_feat_path):\n",
    "        image_info = {}\n",
    "        image_info[\"features\"] = load_feat(image_feat_path)\n",
    "\n",
    "        info_path = \"{}_info.npy\".format(image_feat_path.split(\".npy\")[0])\n",
    "        if PathManager.exists(info_path):\n",
    "            image_info.update(load_feat(info_path).item())\n",
    "\n",
    "        return image_info\n",
    "\n",
    "    def read(self, image_feat_path):\n",
    "        image_info = self._load(image_feat_path)\n",
    "        if self.first:\n",
    "            self.first = False\n",
    "            if (\n",
    "                image_info[\"features\"].size == 1\n",
    "                and \"image_feat\" in image_info[\"features\"].item()\n",
    "            ):\n",
    "                self.take_item = True\n",
    "\n",
    "        image_feature = image_info[\"features\"]\n",
    "#         print(image_info[\"features\"].size)\n",
    "        if self.take_item:\n",
    "            item = image_info[\"features\"].item()\n",
    "            if \"image_text\" in item:\n",
    "                image_info[\"image_text\"] = item[\"image_text\"]\n",
    "                image_info[\"is_ocr\"] = item[\"image_bbox_source\"]\n",
    "                image_feature = item[\"image_feat\"]\n",
    "\n",
    "            if \"info\" in item:\n",
    "                if \"image_text\" in item[\"info\"]:\n",
    "                    image_info.update(item[\"info\"])\n",
    "                image_feature = item[\"feature\"]\n",
    "\n",
    "        # Handle case of features with class probs\n",
    "        if (\n",
    "            image_info[\"features\"].size == 1\n",
    "            and \"features\" in image_info[\"features\"].item()\n",
    "        ):\n",
    "            item = image_info[\"features\"].item()\n",
    "            image_feature = item[\"features\"]\n",
    "            image_info[\"image_height\"] = item[\"image_height\"]\n",
    "            image_info[\"image_width\"] = item[\"image_width\"]\n",
    "\n",
    "            # Resize these to self.max_loc\n",
    "            image_loc, _ = image_feature.shape\n",
    "            image_info[\"cls_prob\"] = np.zeros(\n",
    "                (self.max_loc, item[\"cls_prob\"].shape[1]), dtype=np.float32\n",
    "            )\n",
    "            image_info[\"cls_prob\"][0:image_loc,] = item[\"cls_prob\"][: self.max_loc, :]\n",
    "            image_info[\"bbox\"] = np.zeros(\n",
    "                (self.max_loc, item[\"bbox\"].shape[1]), dtype=np.float32\n",
    "            )\n",
    "            image_info[\"bbox\"][0:image_loc,] = item[\"bbox\"][: self.max_loc, :]\n",
    "            image_info[\"num_boxes\"] = item[\"num_boxes\"]\n",
    "\n",
    "        # Handle the case of ResNet152 features\n",
    "        if len(image_feature.shape) > 2:\n",
    "            shape = image_feature.shape\n",
    "            image_feature = image_feature.reshape(-1, shape[-1])\n",
    "\n",
    "        image_loc, image_dim = image_feature.shape\n",
    "        tmp_image_feat = np.zeros((self.max_loc, image_dim), dtype=np.float32)\n",
    "        tmp_image_feat[0:image_loc,] = image_feature[: self.max_loc, :]  # noqa\n",
    "        image_feature = torch.from_numpy(tmp_image_feat)\n",
    "\n",
    "        del image_info[\"features\"]\n",
    "        image_info[\"max_features\"] = torch.tensor(image_loc, dtype=torch.long)\n",
    "        return image_feature, image_info\n",
    "\n",
    "\n",
    "class LMDBFeatureReader(PaddedFasterRCNNFeatureReader):\n",
    "    def __init__(self, max_loc, base_path):\n",
    "        super().__init__(max_loc)\n",
    "        self.db_path = base_path\n",
    "\n",
    "        if not PathManager.exists(self.db_path):\n",
    "            raise RuntimeError(\n",
    "                \"{} path specified for LMDB features doesn't exists.\".format(\n",
    "                    self.db_path\n",
    "                )\n",
    "            )\n",
    "        self.env = None\n",
    "\n",
    "    def _init_db(self):\n",
    "        self.env = lmdb.open(\n",
    "            self.db_path,\n",
    "            subdir=os.path.isdir(self.db_path),\n",
    "            readonly=True,\n",
    "            lock=False,\n",
    "            readahead=False,\n",
    "            meminit=False,\n",
    "        )\n",
    "        print(\"initialize_db\")\n",
    "        with self.env.begin(write=False, buffers=True) as txn:\n",
    "            #print(\"fuck\")\n",
    "            self.image_ids = pickle.loads(txn.get(b\"keys\"))\n",
    "            self.image_id_indices = {\n",
    "                self.image_ids[i]: i for i in range(0, len(self.image_ids))\n",
    "            }\n",
    "            #print(self.image_id_indices)\n",
    "\n",
    "    def _load(self, image_file_path):\n",
    "        #print(\"env is: {}\".format(self.env))\n",
    "        if self.env is None:\n",
    "            self._init_db()\n",
    "        split = os.path.relpath(image_file_path, self.db_path).split(\".npy\")[0]\n",
    "\n",
    "        try:\n",
    "            image_id = int(split.split(\"_\")[-1])\n",
    "            # Try fetching to see if it actually exists otherwise fall back to\n",
    "            # default\n",
    "            img_id_idx = self.image_id_indices[str(image_id).encode()]\n",
    "        except (ValueError, KeyError):\n",
    "            # The image id is complex or involves folder, use it directly\n",
    "            image_id = str(split).encode()\n",
    "            img_id_idx = self.image_id_indices[image_id]\n",
    "\n",
    "        with self.env.begin(write=False, buffers=True) as txn:\n",
    "            image_info = pickle.loads(txn.get(self.image_ids[img_id_idx]))\n",
    "\n",
    "        return image_info"
   ]
  },
  {
   "cell_type": "code",
   "execution_count": 3,
   "id": "wired-selection",
   "metadata": {},
   "outputs": [],
   "source": [
    "# data_path = \"/fsx/zmykevin/data/mmf_data/datasets/cc/defaults/annotations/train_vinvl_2.npy\"\n",
    "# val_annotation = np.load(data_path, allow_pickle=True)\n",
    "ann_data_path = \"/home/zmykevin/fb_intern/data/mmf_data/datasets/cc/defaults/annotations/train_vinvl_bookcorpus_retrieved_sorted_all_nps_9.npy\"\n",
    "annotations = np.load(ann_data_path, allow_pickle=True)\n",
    "# annotations = []\n",
    "# with open(ann_data_path, \"r\") as f:\n",
    "#     for line in f:\n",
    "#         annotations.append(json.loads(line))\n",
    "#print(annotations[0])"
   ]
  },
  {
   "cell_type": "code",
   "execution_count": 4,
   "id": "given-revision",
   "metadata": {},
   "outputs": [],
   "source": [
    "base_path = \"/home/zmykevin/fb_intern/data/mmf_data/datasets/cc/defaults/features/lmdbs/cc_vinvl_train_10.lmdb\"\n",
    "#Load the Image Feature\n",
    "feature_reader = LMDBFeatureReader(100, base_path)"
   ]
  },
  {
   "cell_type": "code",
   "execution_count": 5,
   "id": "3eae4d60",
   "metadata": {},
   "outputs": [],
   "source": [
    "with open(\"/home/zmykevin/fb_intern/data/mingyang_data/CC/cc_objects_id.json\", \"r\") as f:\n",
    "    object_ids = json.load(f)"
   ]
  },
  {
   "cell_type": "code",
   "execution_count": null,
   "id": "described-heater",
   "metadata": {},
   "outputs": [
    {
     "name": "stderr",
     "output_type": "stream",
     "text": [
      "  0%|                                                                                                                                                                                                   | 1/575457 [00:00<20:29:52,  7.80it/s]"
     ]
    },
    {
     "name": "stdout",
     "output_type": "stream",
     "text": [
      "initialize_db\n"
     ]
    },
    {
     "name": "stderr",
     "output_type": "stream",
     "text": [
      " 49%|██████████████████████████████████████████████████████████████████████████████████████████████▎                                                                                                 | 282555/575457 [01:03<11:59, 407.27it/s]"
     ]
    }
   ],
   "source": [
    "bad_count = 0\n",
    "vinvl_annotations = []\n",
    "for x in tqdm(annotations):\n",
    "    try:\n",
    "        img_id = x['image_id']\n",
    "        img_feat_path = \"/home/zmykevin/fb_intern/data/mmf_data/datasets/cc/defaults/features/lmdbs/cc_vinvl_train_9.lmdb/cc_{}\".format(img_id)\n",
    "        \n",
    "#         img_feat_path = \"/fsx/zmykevin/data/mmf_data/datasets/flickr30k/defaults/features/vinvl_detectron.lmdb/flick30k_{}.npy\".format(img_id)\n",
    "        #read the img_id\n",
    "        feat, info= feature_reader.read(img_feat_path)\n",
    "        y = x.copy()\n",
    "        current_object_ids = [object_ids[x] for x in y[\"objects\"]]\n",
    "        y[\"objects_ids\"] = current_object_ids\n",
    "        vinvl_annotations.append(y)\n",
    "\n",
    "    except:\n",
    "        continue\n",
    "#         print(\"this img_id does not work: {}\".format(x[\"image_id\"]))\n",
    "\n",
    "    #break\n",
    "#print(bad_count)\n",
    "print(len(vinvl_annotations))"
   ]
  },
  {
   "cell_type": "code",
   "execution_count": 20,
   "id": "8b1ab895",
   "metadata": {},
   "outputs": [],
   "source": [
    "with open(\"/home/zmykevin/fb_intern/data/mmf_data/datasets/cc/defaults/annotations/train_vinvl_bc_retrieved_10.npy\", \"wb\") as f:\n",
    "    np.save(f, vinvl_annotations)"
   ]
  },
  {
   "cell_type": "code",
   "execution_count": 43,
   "id": "internal-dancing",
   "metadata": {},
   "outputs": [
    {
     "name": "stdout",
     "output_type": "stream",
     "text": [
      "17188\n"
     ]
    }
   ],
   "source": [
    "print(len(vinvl_annotations))\n",
    "#print(info)\n",
    "\n",
    "with open(\"/fsx/zmykevin/data/mmf_data/datasets/visual_entailment/defaults/annotations/snli_ve_vinvl_test.jsonl\", \"w\") as f:\n",
    "    for ann in vinvl_annotations:\n",
    "        json.dump(ann, f)\n",
    "        f.write('\\n')"
   ]
  },
  {
   "cell_type": "code",
   "execution_count": 58,
   "id": "naked-cassette",
   "metadata": {},
   "outputs": [
    {
     "ename": "AttributeError",
     "evalue": "'LMDBFeatureReader' object has no attribute 'image_ids'",
     "output_type": "error",
     "traceback": [
      "\u001b[0;31m---------------------------------------------------------------------------\u001b[0m",
      "\u001b[0;31mAttributeError\u001b[0m                            Traceback (most recent call last)",
      "\u001b[0;32m<ipython-input-58-dd6000dffa48>\u001b[0m in \u001b[0;36m<module>\u001b[0;34m\u001b[0m\n\u001b[0;32m----> 1\u001b[0;31m \u001b[0mprint\u001b[0m\u001b[0;34m(\u001b[0m\u001b[0mtype\u001b[0m\u001b[0;34m(\u001b[0m\u001b[0mfeature_reader\u001b[0m\u001b[0;34m.\u001b[0m\u001b[0mimage_ids\u001b[0m\u001b[0;34m)\u001b[0m\u001b[0;34m)\u001b[0m\u001b[0;34m\u001b[0m\u001b[0;34m\u001b[0m\u001b[0m\n\u001b[0m",
      "\u001b[0;31mAttributeError\u001b[0m: 'LMDBFeatureReader' object has no attribute 'image_ids'"
     ]
    }
   ],
   "source": [
    "print(type(feature_reader.image_ids))"
   ]
  },
  {
   "cell_type": "code",
   "execution_count": null,
   "id": "turned-kazakhstan",
   "metadata": {},
   "outputs": [],
   "source": []
  }
 ],
 "metadata": {
  "kernelspec": {
   "display_name": "Python 3 (ipykernel)",
   "language": "python",
   "name": "python3"
  },
  "language_info": {
   "codemirror_mode": {
    "name": "ipython",
    "version": 3
   },
   "file_extension": ".py",
   "mimetype": "text/x-python",
   "name": "python",
   "nbconvert_exporter": "python",
   "pygments_lexer": "ipython3",
   "version": "3.7.10"
  }
 },
 "nbformat": 4,
 "nbformat_minor": 5
}
