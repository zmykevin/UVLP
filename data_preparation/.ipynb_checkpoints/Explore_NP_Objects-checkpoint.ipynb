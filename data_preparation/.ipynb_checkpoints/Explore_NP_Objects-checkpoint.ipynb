{
 "cells": [
  {
   "cell_type": "code",
   "execution_count": 1,
   "id": "80ca0155",
   "metadata": {},
   "outputs": [],
   "source": [
    "import numpy as np\n",
    "from tqdm import tqdm\n",
    "import json"
   ]
  },
  {
   "cell_type": "code",
   "execution_count": 7,
   "id": "25b0a362",
   "metadata": {},
   "outputs": [
    {
     "name": "stderr",
     "output_type": "stream",
     "text": [
      "100%|██████████| 259957/259957 [00:01<00:00, 178296.55it/s]\n",
      "100%|██████████| 259795/259795 [00:01<00:00, 188998.32it/s]\n",
      "100%|██████████| 259835/259835 [00:01<00:00, 187811.15it/s]\n",
      "100%|██████████| 779454/779454 [00:04<00:00, 182433.73it/s]\n",
      "100%|██████████| 259496/259496 [00:01<00:00, 177467.38it/s]\n",
      "100%|██████████| 259436/259436 [00:01<00:00, 190826.78it/s]\n",
      "100%|██████████| 259596/259596 [00:01<00:00, 189208.57it/s]\n",
      "100%|██████████| 663031/663031 [00:03<00:00, 191813.89it/s]\n"
     ]
    }
   ],
   "source": [
    "range_list=[0,1,2,3,6,7,8,9]\n",
    "objects_classes = {}\n",
    "#base_path = \"/fsx/zmykevin/data/mmf_data/datasets/cc/defaults/annotations/train_vinvl_sbert_retrieved_sorted_all_nps_cs_0.npy\"\n",
    "category_id = 0\n",
    "for chunk_id in range_list:\n",
    "    base_path = \"/fsx/zmykevin/data/mmf_data/datasets/cc/defaults/annotations/train_vinvl_sbert_retrieved_sorted_all_{}.npy\".format(chunk_id)\n",
    "    np_data = np.load(base_path, allow_pickle=True)\n",
    "    for d in tqdm(np_data):\n",
    "        objects = list(set(d[\"objects\"]))\n",
    "        for o in objects:\n",
    "            if objects_classes.get(o, None) is None:\n",
    "                objects_classes[o] = category_id\n",
    "                category_id += 1\n",
    "        \n",
    "        "
   ]
  },
  {
   "cell_type": "code",
   "execution_count": 13,
   "id": "d95b877a",
   "metadata": {},
   "outputs": [
    {
     "name": "stderr",
     "output_type": "stream",
     "text": [
      "100%|██████████| 14561/14561 [00:00<00:00, 181181.13it/s]\n"
     ]
    }
   ],
   "source": [
    "base_path = \"/fsx/zmykevin/data/mmf_data/datasets/cc/defaults/annotations/val_vinvl_itm.npy\".format(chunk_id)\n",
    "np_data = np.load(base_path, allow_pickle=True)\n",
    "for d in tqdm(np_data):\n",
    "    objects = list(set(d[\"objects\"]))\n",
    "    for o in objects:\n",
    "        if objects_classes.get(o, None) is None:\n",
    "            objects_classes[o] = category_id\n",
    "            category_id += 1"
   ]
  },
  {
   "cell_type": "code",
   "execution_count": 21,
   "id": "7528fbc9",
   "metadata": {},
   "outputs": [
    {
     "name": "stdout",
     "output_type": "stream",
     "text": [
      "1511\n"
     ]
    }
   ],
   "source": [
    "print(len(objects_classes))\n",
    "with open(\"/fsx/zmykevin/data/mmf_data/datasets/cc/defaults/annotations/cc_objects_id.json\", \"w\") as f:\n",
    "    json.dump(objects_classes, f)"
   ]
  },
  {
   "cell_type": "code",
   "execution_count": 2,
   "id": "fd6ad95a",
   "metadata": {},
   "outputs": [
    {
     "name": "stdout",
     "output_type": "stream",
     "text": [
      "{'image_id': 0, 'captions': ['bus bus bus bus building bus bus building shirt man shirt person road shirt person person person person man car man man person man bus person bus door person person person person pant person bus person window window person street person window man bus shirt man roof man man shirt person person boat hat balcony van pant bus sign roof'], 'objects': ['bus', 'bus', 'bus', 'bus', 'building', 'bus', 'bus', 'building', 'shirt', 'man', 'shirt', 'person', 'road', 'shirt', 'person', 'person', 'person', 'person', 'man', 'car', 'man', 'man', 'person', 'man', 'bus', 'person', 'bus', 'door', 'person', 'person', 'person', 'person', 'pant', 'person', 'bus', 'person', 'window', 'window', 'person', 'street', 'person', 'window', 'man', 'bus', 'shirt', 'man', 'roof', 'man', 'man', 'shirt', 'person', 'person', 'boat', 'hat', 'balcony', 'van', 'pant', 'bus', 'sign', 'roof'], 'objects_ids': [5, 5, 5, 5, 15, 5, 5, 15, 0, 16, 0, 11, 10, 0, 11, 11, 11, 11, 16, 2, 16, 16, 11, 16, 5, 11, 5, 12, 11, 11, 11, 11, 6, 11, 5, 11, 13, 13, 11, 9, 11, 13, 16, 5, 0, 16, 7, 16, 16, 0, 11, 11, 8, 14, 1, 3, 6, 5, 4, 7]}\n"
     ]
    }
   ],
   "source": [
    "#Reprocess the annotation\n",
    "range_list=[0,1,2,3,6,7,8,9]\n",
    "category_id = 0\n",
    "new_np_data = []\n",
    "for chunk_id in range_list:\n",
    "    #print(chunk_id)\n",
    "    base_path = \"/fsx/zmykevin/data/mmf_data/datasets/cc/defaults/annotations/train_vinvl_ucla_tags_fixed_{}.npy\".format(chunk_id)\n",
    "    np_data = np.load(base_path, allow_pickle=True)\n",
    "    print(np_data[0])\n",
    "    break\n",
    "#     for d in np_data:\n",
    "#         objects = d['objects']\n",
    "#         objects_index = [objects_classes[x] for x in objects]\n",
    "#         d[\"objects_ids\"] = objects_index\n",
    "#         assert len(d[\"objects_ids\"])== len(d[\"objects\"])\n",
    "#         new_np_data.append(d)\n",
    "#     output_path = \"/fsx/zmykevin/data/mmf_data/datasets/cc/defaults/annotations/train_vinvl_nps_{}.npy\".format(chunk_id)\n",
    "#     with open(output_path, \"wb\") as f:\n",
    "#         np.save(f, new_np_data)"
   ]
  },
  {
   "cell_type": "code",
   "execution_count": 4,
   "id": "09eb6b26",
   "metadata": {},
   "outputs": [
    {
     "name": "stdout",
     "output_type": "stream",
     "text": [
      "{'image_id': 0, 'captions': ['man on the street from bus', 'a bus driver for business --', 'a busker on the street', 'a bus in picture by person', 'portrait of a bus driver at work'], 'objects': ['bus', 'bus', 'bus', 'bus', 'building', 'bus', 'bus', 'building', 'shirt', 'man', 'shirt', 'person', 'road', 'shirt', 'person', 'person', 'person', 'person', 'man', 'car', 'man', 'man', 'person', 'man', 'bus', 'person', 'bus', 'door', 'person', 'person', 'person', 'person', 'pant', 'person', 'bus', 'person', 'window', 'window', 'person', 'street', 'person', 'window', 'man', 'bus', 'shirt', 'man', 'roof', 'man', 'man', 'shirt', 'person', 'person', 'boat', 'hat', 'balcony', 'van', 'pant', 'bus', 'sign', 'roof'], 'noun_phrases': [[{'man': array([0.16810001, 0.07671431, 0.1347411 , 0.5717833 , 0.16671425,\n",
      "       1.0000001 , 0.1313577 , 0.03824799, 0.2290362 , 0.1713585 ,\n",
      "       0.1484341 , 0.0621136 , 0.17581756, 0.18507464, 0.20951596,\n",
      "       0.3346476 , 0.31438223], dtype=float32)}, {'the street': array([0.7237871 , 0.15349045, 0.26748484, 0.27149373, 0.30431047,\n",
      "       0.19494706, 0.06573732, 0.18114811, 0.14974618, 0.42612478,\n",
      "       0.23550153, 0.12371935, 0.93912613, 0.3907701 , 0.34306395,\n",
      "       0.16895604, 0.16215773], dtype=float32)}, {'bus': array([0.34471244, 0.07221231, 1.0000002 , 0.17743899, 0.5184298 ,\n",
      "       0.1347411 , 0.30730575, 0.10604823, 0.08136883, 0.19875947,\n",
      "       0.25279945, 0.2249844 , 0.26770914, 0.22221614, 0.3528167 ,\n",
      "       0.17955092, 0.09736493], dtype=float32)}], [{'a bus driver': array([ 0.28661698,  0.00366559,  0.73625517,  0.2886024 ,  0.45275766,\n",
      "        0.30658716,  0.20513755, -0.07591511,  0.03950004,  0.07152896,\n",
      "        0.09296967,  0.06503001,  0.15295932,  0.17530784,  0.28680685,\n",
      "        0.1499878 ,  0.15276569], dtype=float32)}, {'business': array([0.08574264, 0.16471325, 0.13276057, 0.17220807, 0.14618163,\n",
      "       0.18212152, 0.15661296, 0.09604377, 0.14061484, 0.3312714 ,\n",
      "       0.11266875, 0.2401796 , 0.18498668, 0.18985179, 0.10387236,\n",
      "       0.1859939 , 0.06282602], dtype=float32)}], [{'a busker': array([ 0.18047172,  0.05336599,  0.6580285 ,  0.4060961 ,  0.3398142 ,\n",
      "        0.39619642,  0.21267968, -0.01333765,  0.08653995,  0.11249183,\n",
      "        0.1907802 ,  0.15028143,  0.13906288,  0.1338042 ,  0.14547056,\n",
      "        0.19344173,  0.18363455], dtype=float32)}, {'the street': array([0.7237871 , 0.15349045, 0.2674848 , 0.27149373, 0.30431044,\n",
      "       0.19494705, 0.06573733, 0.18114808, 0.1497462 , 0.42612478,\n",
      "       0.23550154, 0.12371936, 0.93912613, 0.39077008, 0.34306398,\n",
      "       0.16895604, 0.16215771], dtype=float32)}], [{'a bus': array([0.33446026, 0.09186056, 0.9249789 , 0.18350971, 0.4943572 ,\n",
      "       0.12497196, 0.26551235, 0.12657505, 0.07057156, 0.24035895,\n",
      "       0.2447679 , 0.19329643, 0.25847062, 0.2283075 , 0.3469411 ,\n",
      "       0.1630205 , 0.09974674], dtype=float32)}, {'picture': array([0.31979102, 0.24972658, 0.26084906, 0.39714575, 0.25329748,\n",
      "       0.32963768, 0.32248908, 0.2569615 , 0.20334847, 0.35249436,\n",
      "       0.26945102, 0.28540832, 0.30646583, 0.36889756, 0.2833363 ,\n",
      "       0.3805572 , 0.34560168], dtype=float32)}, {'person': array([0.2280566 , 0.1557528 , 0.177439  , 1.        , 0.15494464,\n",
      "       0.5717833 , 0.1614599 , 0.08737718, 0.28285134, 0.19201434,\n",
      "       0.25462264, 0.13938467, 0.25109112, 0.2448748 , 0.2267322 ,\n",
      "       0.37546438, 0.42624915], dtype=float32)}], [{'portrait': array([0.21739241, 0.22858195, 0.17535031, 0.46931827, 0.21584678,\n",
      "       0.32183874, 0.20589049, 0.23267125, 0.16321506, 0.31245434,\n",
      "       0.24186766, 0.26148337, 0.24259387, 0.2987724 , 0.21691906,\n",
      "       0.2936076 , 0.34098577], dtype=float32)}, {'a bus driver': array([ 0.28661698,  0.00366559,  0.73625517,  0.2886024 ,  0.45275766,\n",
      "        0.30658716,  0.20513755, -0.07591511,  0.03950004,  0.07152896,\n",
      "        0.09296967,  0.06503001,  0.15295932,  0.17530784,  0.28680685,\n",
      "        0.1499878 ,  0.15276569], dtype=float32)}, {'work': array([0.24641627, 0.25554293, 0.16004997, 0.34253234, 0.12635915,\n",
      "       0.26675028, 0.11232094, 0.06876154, 0.2964073 , 0.26391402,\n",
      "       0.2116592 , 0.19278334, 0.20095572, 0.15070498, 0.15399532,\n",
      "       0.30770034, 0.19169682], dtype=float32)}]], 'objects_norep': ['road', 'roof', 'bus', 'person', 'van', 'man', 'boat', 'balcony', 'pant', 'building', 'door', 'window', 'street', 'sign', 'car', 'shirt', 'hat']}\n"
     ]
    }
   ],
   "source": [
    "print(np_data[0])"
   ]
  },
  {
   "cell_type": "code",
   "execution_count": 33,
   "id": "90ca9ff7",
   "metadata": {},
   "outputs": [],
   "source": [
    "base_path = \"/fsx/zmykevin/data/mmf_data/datasets/cc/defaults/annotations/train_vinvl_sbert_retrieved_sorted_all_nps_cs_1.npy\"\n",
    "np_data_2 = np.load(base_path, allow_pickle=True)"
   ]
  },
  {
   "cell_type": "code",
   "execution_count": 34,
   "id": "addb5fda",
   "metadata": {},
   "outputs": [
    {
     "name": "stdout",
     "output_type": "stream",
     "text": [
      "1298975\n"
     ]
    }
   ],
   "source": [
    "print(len(np_data_2))"
   ]
  },
  {
   "cell_type": "code",
   "execution_count": 36,
   "id": "129997b4",
   "metadata": {},
   "outputs": [],
   "source": [
    "base_path = \"/fsx/zmykevin/data/mmf_data/datasets/cc/defaults/annotations/train_vinvl_sbert_retrieved_sorted_all_nps_cs_2.npy\"\n",
    "np_data_3 = np.load(base_path, allow_pickle=True)"
   ]
  },
  {
   "cell_type": "code",
   "execution_count": 37,
   "id": "3ba30a6e",
   "metadata": {},
   "outputs": [],
   "source": [
    "base_path = \"/fsx/zmykevin/data/mmf_data/datasets/cc/defaults/annotations/train_vinvl_sbert_retrieved_sorted_all_nps_10.npy\"\n",
    "np_data_9 = np.load(base_path, allow_pickle=True)"
   ]
  },
  {
   "cell_type": "code",
   "execution_count": 44,
   "id": "0e2618ee",
   "metadata": {},
   "outputs": [],
   "source": [
    "import os\n",
    "#Convert np_data_1,2,3 to small ones\n",
    "def save_file(old_np_data,output_path,index):\n",
    "    new_np_data = []\n",
    "    for i in range(0, len(old_np_data), 5):\n",
    "        new_data = old_np_data[i]\n",
    "        new_np_data.append(new_data)\n",
    "    #save the data to np_data 1\n",
    "    with open(os.path.join(output_path, \"train_vinvl_sbert_retrieved_sorted_all_nps_cs_fix_{}.npy\".format(index)), \"wb\") as f:\n",
    "        print(\"save \" + os.path.join(output_path, \"train_vinvl_sbert_retrieved_sorted_all_nps_cs_fix_{}.npy\".format(index)))\n",
    "        np.save(f, new_np_data)\n",
    "    "
   ]
  },
  {
   "cell_type": "code",
   "execution_count": 47,
   "id": "223cfa62",
   "metadata": {},
   "outputs": [
    {
     "name": "stdout",
     "output_type": "stream",
     "text": [
      "save /fsx/zmykevin/data/mmf_data/datasets/cc/defaults/annotations/train_vinvl_sbert_retrieved_sorted_all_nps_cs_fix_2.npy\n"
     ]
    }
   ],
   "source": [
    "output_path = \"/fsx/zmykevin/data/mmf_data/datasets/cc/defaults/annotations/\"\n",
    "current_index = 2\n",
    "save_file(np_data_3, output_path, current_index)"
   ]
  },
  {
   "cell_type": "code",
   "execution_count": 50,
   "id": "58872266",
   "metadata": {},
   "outputs": [
    {
     "name": "stdout",
     "output_type": "stream",
     "text": [
      "318624.0\n"
     ]
    }
   ],
   "source": [
    "#debug np 9\n",
    "\n",
    "for i in range(0, len(np_data_9), 5):\n",
    "    sample_data=np_data_9[i]\n",
    "    noun_phrases = []\n",
    "    for noun_phrase in sample_data[\"noun_phrases\"]:\n",
    "        noun_phrases += noun_phrase\n",
    "    #print(noun_phrases)\n",
    "    if not noun_phrases:\n",
    "        print(i/5)"
   ]
  },
  {
   "cell_type": "code",
   "execution_count": null,
   "id": "74a75d62",
   "metadata": {},
   "outputs": [],
   "source": []
  }
 ],
 "metadata": {
  "kernelspec": {
   "display_name": "Python (mmf)",
   "language": "python",
   "name": "mmf"
  },
  "language_info": {
   "codemirror_mode": {
    "name": "ipython",
    "version": 3
   },
   "file_extension": ".py",
   "mimetype": "text/x-python",
   "name": "python",
   "nbconvert_exporter": "python",
   "pygments_lexer": "ipython3",
   "version": "3.7.10"
  }
 },
 "nbformat": 4,
 "nbformat_minor": 5
}
