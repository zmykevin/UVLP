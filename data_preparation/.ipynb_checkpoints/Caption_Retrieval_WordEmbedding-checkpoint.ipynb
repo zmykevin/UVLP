{
 "cells": [
  {
   "cell_type": "code",
   "execution_count": 1,
   "id": "93e5bdc3",
   "metadata": {},
   "outputs": [
    {
     "name": "stderr",
     "output_type": "stream",
     "text": [
      "/data/home/zmykevin/miniconda/envs/mmf/lib/python3.7/site-packages/gensim/similarities/__init__.py:15: UserWarning: The gensim.similarities.levenshtein submodule is disabled, because the optional Levenshtein package <https://pypi.org/project/python-Levenshtein/> is unavailable. Install Levenhstein (e.g. `pip install python-Levenshtein`) to suppress this warning.\n",
      "  warnings.warn(msg)\n"
     ]
    }
   ],
   "source": [
    "import numpy as np\n",
    "import json\n",
    "import os\n",
    "import os.path as op\n",
    "import logging\n",
    "from tqdm import tqdm\n",
    "from numba import jit\n",
    "import sister\n",
    "\n",
    "from sentence_transformers import SentenceTransformer\n",
    "model = SentenceTransformer('paraphrase-MiniLM-L6-v2')"
   ]
  },
  {
   "cell_type": "code",
   "execution_count": 2,
   "id": "7019de9d",
   "metadata": {},
   "outputs": [],
   "source": [
    "#Check the retrieved objects\n",
    "retrieved_data_path = \"/data/home/zmykevin/vinvl_data/CC/captions_retrieved_bertembedding_top10_sorted.json\"\n",
    "with open(retrieved_data_path, \"r\") as f:\n",
    "    retrieved_captions = json.load(f)"
   ]
  },
  {
   "cell_type": "code",
   "execution_count": 4,
   "id": "304834b2",
   "metadata": {},
   "outputs": [
    {
     "name": "stdout",
     "output_type": "stream",
     "text": [
      "5\n"
     ]
    }
   ],
   "source": [
    "max_len = 0\n",
    "for key, value in retrieved_captions.items():\n",
    "    if len(value) > max_len:\n",
    "        max_len = len(value)\n",
    "print(max_len)"
   ]
  },
  {
   "cell_type": "code",
   "execution_count": 23,
   "id": "1fca9459",
   "metadata": {},
   "outputs": [],
   "source": [
    "def save_csv(visualization, output_path):\n",
    "    csv_columns = ['original_id', \"original_obj\", \"original_caption\", \"retrieved_1\", \"retrieved_2\", \"retrieved_3\"]\n",
    "    with open(output_path, \"w\") as csvfile:\n",
    "        writer = csv.DictWriter(csvfile, fieldnames=csv_columns)\n",
    "        writer.writeheader()\n",
    "        for data in visualization:\n",
    "            writer.writerow(data)\n",
    "    \n",
    "def save_json(closest_captions, output_path):\n",
    "    with open(output_path, \"w\") as f:\n",
    "        json.dump(closest_captions, f)"
   ]
  },
  {
   "cell_type": "code",
   "execution_count": 5,
   "id": "14ba95ae",
   "metadata": {},
   "outputs": [
    {
     "name": "stdout",
     "output_type": "stream",
     "text": [
      "(3, 384)\n"
     ]
    }
   ],
   "source": []
  },
  {
   "cell_type": "code",
   "execution_count": 18,
   "id": "57499b74",
   "metadata": {},
   "outputs": [],
   "source": [
    "bert_embedding = sister.BertEmbedding(lang=\"en\")\n",
    "sentence = \"I am a dog.\"\n",
    "#vector = bert_embedding(sentence)"
   ]
  },
  {
   "cell_type": "code",
   "execution_count": 13,
   "id": "1893a9fe",
   "metadata": {},
   "outputs": [
    {
     "name": "stdout",
     "output_type": "stream",
     "text": [
      "finish loading the captions\n"
     ]
    }
   ],
   "source": [
    "with open(\"/data/home/zmykevin/vinvl_data/CC/cc_objects_captions.json\", \"r\") as f:\n",
    "    cc_objects_captions = json.load(f)\n",
    "\n",
    "print(\"finish loading the captions\")"
   ]
  },
  {
   "cell_type": "code",
   "execution_count": 14,
   "id": "36d26632",
   "metadata": {},
   "outputs": [],
   "source": [
    "id_list = []\n",
    "object_list = []\n",
    "caption_list = []\n",
    "for k, v in cc_objects_captions.items():\n",
    "    id_list.append(k)\n",
    "    object_list.append(v['objects_no_rep'])\n",
    "    caption_list.append(v['caption'])"
   ]
  },
  {
   "cell_type": "code",
   "execution_count": null,
   "id": "9fa47158",
   "metadata": {},
   "outputs": [
    {
     "name": "stderr",
     "output_type": "stream",
     "text": [
      "  9%|▉         | 2915/31163 [37:57<9:39:13,  1.23s/it] "
     ]
    }
   ],
   "source": [
    "batch_size = 100\n",
    "save_checkpoint = 10000\n",
    "output_path = \"/data/home/zmykevin/vinvl_data/CC\"\n",
    "\n",
    "current_embedding = None\n",
    "current_obj_embedding = None\n",
    "checkpoint_index = 0\n",
    "for i in tqdm(range(0, len(caption_list), batch_size)):\n",
    "    valid_batch_size = batch_size if i+batch_size < len(caption_list) else len(caption_list)-i\n",
    "    cap = caption_list[i:i+valid_batch_size]\n",
    "    objs = object_list[i:i+valid_batch_size]\n",
    "    # cap_vec = bert_embedding(cap)\n",
    "    if i == 0:\n",
    "        current_embedding=cap_vec\n",
    "    else:\n",
    "        current_embedding = np.concatenate((current_embedding, cap_vec), axis=0)\n",
    "        \n",
    "        \n",
    "    if int((i+valid_batch_size)/save_checkpoint) > checkpoint_index:\n",
    "        with open(os.path.join(output_path, \"CC_caption_BertEmbedding_backup.npy\"), \"wb\") as f:\n",
    "            np.save(f, current_embedding)\n",
    "        checkpoint_index +=1\n",
    "        \n",
    "\n",
    "with open(os.path.join(output_path, \"CC_caption_BertEmbedding.npy\"), \"wb\") as f:\n",
    "    np.save(f, current_embedding)\n",
    "        \n",
    "#     print(cap_vec.shape)\n",
    "#     break"
   ]
  },
  {
   "cell_type": "code",
   "execution_count": 21,
   "id": "ea2ce230",
   "metadata": {},
   "outputs": [],
   "source": []
  },
  {
   "cell_type": "code",
   "execution_count": 15,
   "id": "132552a3",
   "metadata": {},
   "outputs": [],
   "source": [
    "#Load the npy file\n",
    "caption_embedding = np.load(\"/data/home/zmykevin/vinvl_data/CC/CC_caption_BertEmbedding_backup.npy\")\n",
    "object_embedding = np.load(\"/data/home/zmykevin/vinvl_data/CC/CC_objects_BertEmbedding_backup.npy\")"
   ]
  },
  {
   "cell_type": "code",
   "execution_count": 16,
   "id": "3de9d701",
   "metadata": {},
   "outputs": [
    {
     "name": "stdout",
     "output_type": "stream",
     "text": [
      "(3100000, 384)\n",
      "(3000000, 384)\n"
     ]
    }
   ],
   "source": [
    "print(caption_embedding.shape)\n",
    "print(object_embedding.shape)"
   ]
  },
  {
   "cell_type": "code",
   "execution_count": 17,
   "id": "a63f05f6",
   "metadata": {},
   "outputs": [],
   "source": [
    "import faiss"
   ]
  },
  {
   "cell_type": "code",
   "execution_count": 28,
   "id": "8dc0181c",
   "metadata": {},
   "outputs": [],
   "source": [
    "d = caption_embedding.shape[1]\n",
    "index = faiss.IndexFlatL2(d)"
   ]
  },
  {
   "cell_type": "code",
   "execution_count": 29,
   "id": "3f1fc984",
   "metadata": {},
   "outputs": [],
   "source": [
    "index.add(caption_embedding)"
   ]
  },
  {
   "cell_type": "code",
   "execution_count": 32,
   "id": "2cd7acf4",
   "metadata": {},
   "outputs": [
    {
     "name": "stderr",
     "output_type": "stream",
     "text": [
      "  0%|          | 31/31000 [00:10<2:48:06,  3.07it/s]\n"
     ]
    },
    {
     "ename": "KeyboardInterrupt",
     "evalue": "",
     "output_type": "error",
     "traceback": [
      "\u001b[0;31m---------------------------------------------------------------------------\u001b[0m",
      "\u001b[0;31mKeyboardInterrupt\u001b[0m                         Traceback (most recent call last)",
      "\u001b[0;32m<ipython-input-32-ac941891b099>\u001b[0m in \u001b[0;36m<module>\u001b[0;34m\u001b[0m\n\u001b[1;32m     10\u001b[0m \u001b[0;32mfor\u001b[0m \u001b[0mi\u001b[0m \u001b[0;32min\u001b[0m \u001b[0mtqdm\u001b[0m\u001b[0;34m(\u001b[0m\u001b[0mrange\u001b[0m\u001b[0;34m(\u001b[0m\u001b[0;36m0\u001b[0m\u001b[0;34m,\u001b[0m \u001b[0mcaption_embedding\u001b[0m\u001b[0;34m.\u001b[0m\u001b[0mshape\u001b[0m\u001b[0;34m[\u001b[0m\u001b[0;36m0\u001b[0m\u001b[0;34m]\u001b[0m\u001b[0;34m,\u001b[0m \u001b[0mbatch_size\u001b[0m\u001b[0;34m)\u001b[0m\u001b[0;34m)\u001b[0m\u001b[0;34m:\u001b[0m\u001b[0;34m\u001b[0m\u001b[0;34m\u001b[0m\u001b[0m\n\u001b[1;32m     11\u001b[0m     \u001b[0mvalid_batch_size\u001b[0m \u001b[0;34m=\u001b[0m \u001b[0mbatch_size\u001b[0m \u001b[0;32mif\u001b[0m \u001b[0mi\u001b[0m\u001b[0;34m+\u001b[0m\u001b[0mbatch_size\u001b[0m \u001b[0;34m<\u001b[0m \u001b[0mcaption_embedding\u001b[0m\u001b[0;34m.\u001b[0m\u001b[0mshape\u001b[0m\u001b[0;34m[\u001b[0m\u001b[0;36m0\u001b[0m\u001b[0;34m]\u001b[0m \u001b[0;32melse\u001b[0m \u001b[0mcaption_embedding\u001b[0m\u001b[0;34m.\u001b[0m\u001b[0mshape\u001b[0m\u001b[0;34m[\u001b[0m\u001b[0;36m0\u001b[0m\u001b[0;34m]\u001b[0m\u001b[0;34m-\u001b[0m\u001b[0mi\u001b[0m\u001b[0;34m\u001b[0m\u001b[0;34m\u001b[0m\u001b[0m\n\u001b[0;32m---> 12\u001b[0;31m     \u001b[0mD\u001b[0m\u001b[0;34m,\u001b[0m\u001b[0mI\u001b[0m \u001b[0;34m=\u001b[0m \u001b[0mindex\u001b[0m\u001b[0;34m.\u001b[0m\u001b[0msearch\u001b[0m\u001b[0;34m(\u001b[0m\u001b[0mobject_embedding\u001b[0m\u001b[0;34m[\u001b[0m\u001b[0mi\u001b[0m\u001b[0;34m:\u001b[0m\u001b[0mi\u001b[0m\u001b[0;34m+\u001b[0m\u001b[0mvalid_batch_size\u001b[0m\u001b[0;34m]\u001b[0m\u001b[0;34m,\u001b[0m \u001b[0mk\u001b[0m\u001b[0;34m)\u001b[0m\u001b[0;34m\u001b[0m\u001b[0;34m\u001b[0m\u001b[0m\n\u001b[0m\u001b[1;32m     13\u001b[0m     \u001b[0;31m#Get the Index Matrix\u001b[0m\u001b[0;34m\u001b[0m\u001b[0;34m\u001b[0m\u001b[0;34m\u001b[0m\u001b[0m\n\u001b[1;32m     14\u001b[0m \u001b[0;34m\u001b[0m\u001b[0m\n",
      "\u001b[0;32m~/miniconda/envs/mmf/lib/python3.7/site-packages/faiss/__init__.py\u001b[0m in \u001b[0;36mreplacement_search\u001b[0;34m(self, x, k, D, I)\u001b[0m\n\u001b[1;32m    299\u001b[0m             \u001b[0;32massert\u001b[0m \u001b[0mI\u001b[0m\u001b[0;34m.\u001b[0m\u001b[0mshape\u001b[0m \u001b[0;34m==\u001b[0m \u001b[0;34m(\u001b[0m\u001b[0mn\u001b[0m\u001b[0;34m,\u001b[0m \u001b[0mk\u001b[0m\u001b[0;34m)\u001b[0m\u001b[0;34m\u001b[0m\u001b[0;34m\u001b[0m\u001b[0m\n\u001b[1;32m    300\u001b[0m \u001b[0;34m\u001b[0m\u001b[0m\n\u001b[0;32m--> 301\u001b[0;31m         \u001b[0mself\u001b[0m\u001b[0;34m.\u001b[0m\u001b[0msearch_c\u001b[0m\u001b[0;34m(\u001b[0m\u001b[0mn\u001b[0m\u001b[0;34m,\u001b[0m \u001b[0mswig_ptr\u001b[0m\u001b[0;34m(\u001b[0m\u001b[0mx\u001b[0m\u001b[0;34m)\u001b[0m\u001b[0;34m,\u001b[0m \u001b[0mk\u001b[0m\u001b[0;34m,\u001b[0m \u001b[0mswig_ptr\u001b[0m\u001b[0;34m(\u001b[0m\u001b[0mD\u001b[0m\u001b[0;34m)\u001b[0m\u001b[0;34m,\u001b[0m \u001b[0mswig_ptr\u001b[0m\u001b[0;34m(\u001b[0m\u001b[0mI\u001b[0m\u001b[0;34m)\u001b[0m\u001b[0;34m)\u001b[0m\u001b[0;34m\u001b[0m\u001b[0;34m\u001b[0m\u001b[0m\n\u001b[0m\u001b[1;32m    302\u001b[0m         \u001b[0;32mreturn\u001b[0m \u001b[0mD\u001b[0m\u001b[0;34m,\u001b[0m \u001b[0mI\u001b[0m\u001b[0;34m\u001b[0m\u001b[0;34m\u001b[0m\u001b[0m\n\u001b[1;32m    303\u001b[0m \u001b[0;34m\u001b[0m\u001b[0m\n",
      "\u001b[0;32m~/miniconda/envs/mmf/lib/python3.7/site-packages/faiss/swigfaiss_avx2.py\u001b[0m in \u001b[0;36msearch\u001b[0;34m(self, n, x, k, distances, labels)\u001b[0m\n\u001b[1;32m   2170\u001b[0m \u001b[0;34m\u001b[0m\u001b[0m\n\u001b[1;32m   2171\u001b[0m     \u001b[0;32mdef\u001b[0m \u001b[0msearch\u001b[0m\u001b[0;34m(\u001b[0m\u001b[0mself\u001b[0m\u001b[0;34m,\u001b[0m \u001b[0mn\u001b[0m\u001b[0;34m,\u001b[0m \u001b[0mx\u001b[0m\u001b[0;34m,\u001b[0m \u001b[0mk\u001b[0m\u001b[0;34m,\u001b[0m \u001b[0mdistances\u001b[0m\u001b[0;34m,\u001b[0m \u001b[0mlabels\u001b[0m\u001b[0;34m)\u001b[0m\u001b[0;34m:\u001b[0m\u001b[0;34m\u001b[0m\u001b[0;34m\u001b[0m\u001b[0m\n\u001b[0;32m-> 2172\u001b[0;31m         \u001b[0;32mreturn\u001b[0m \u001b[0m_swigfaiss_avx2\u001b[0m\u001b[0;34m.\u001b[0m\u001b[0mIndexFlat_search\u001b[0m\u001b[0;34m(\u001b[0m\u001b[0mself\u001b[0m\u001b[0;34m,\u001b[0m \u001b[0mn\u001b[0m\u001b[0;34m,\u001b[0m \u001b[0mx\u001b[0m\u001b[0;34m,\u001b[0m \u001b[0mk\u001b[0m\u001b[0;34m,\u001b[0m \u001b[0mdistances\u001b[0m\u001b[0;34m,\u001b[0m \u001b[0mlabels\u001b[0m\u001b[0;34m)\u001b[0m\u001b[0;34m\u001b[0m\u001b[0;34m\u001b[0m\u001b[0m\n\u001b[0m\u001b[1;32m   2173\u001b[0m \u001b[0;34m\u001b[0m\u001b[0m\n\u001b[1;32m   2174\u001b[0m     \u001b[0;32mdef\u001b[0m \u001b[0mrange_search\u001b[0m\u001b[0;34m(\u001b[0m\u001b[0mself\u001b[0m\u001b[0;34m,\u001b[0m \u001b[0mn\u001b[0m\u001b[0;34m,\u001b[0m \u001b[0mx\u001b[0m\u001b[0;34m,\u001b[0m \u001b[0mradius\u001b[0m\u001b[0;34m,\u001b[0m \u001b[0mresult\u001b[0m\u001b[0;34m)\u001b[0m\u001b[0;34m:\u001b[0m\u001b[0;34m\u001b[0m\u001b[0;34m\u001b[0m\u001b[0m\n",
      "\u001b[0;31mKeyboardInterrupt\u001b[0m: "
     ]
    }
   ],
   "source": [
    "#Find all the closest repository\n",
    "visualization = []\n",
    "closest_captions = {}\n",
    "error_ids = []\n",
    "batch_size = 100\n",
    "save_checkpoint = 100000\n",
    "k = 5\n",
    "\n",
    "checkpoint_index = 0\n",
    "for i in tqdm(range(0, caption_embedding.shape[0], batch_size)):\n",
    "    valid_batch_size = batch_size if i+batch_size < caption_embedding.shape[0] else caption_embedding.shape[0]-i\n",
    "    D,I = index.search(object_embedding[i:i+valid_batch_size], k)\n",
    "    #Get the Index Matrix\n",
    "    \n",
    "    for j in range(valid_batch_size):\n",
    "        try:\n",
    "            original_id = id_list[j + i]\n",
    "            right_side = [id_list[x] for x in I[j]]\n",
    "\n",
    "            current_output = {}\n",
    "            current_output['original_id'] = original_id\n",
    "            current_output['original_obj'] = cc_objects_captions[original_id]['objects_no_rep']\n",
    "            current_output['original_caption'] = cc_objects_captions[original_id]['caption']\n",
    "            current_output['retrieved_1'] = cc_objects_captions[right_side[0]]['caption']\n",
    "            current_output['retrieved_2'] = cc_objects_captions[right_side[1]]['caption']\n",
    "            current_output['retrieved_3'] = cc_objects_captions[right_side[2]]['caption']\n",
    "            #store the other info into json\n",
    "            closest_captions[original_id] = right_side\n",
    "            visualization.append(current_output)\n",
    "        except:\n",
    "            print(\"The bug occurs at {}\".format(i+j))\n",
    "            print(\"The error id is: {}\".format(original_id))\n",
    "            error_ids.append(original_id)\n",
    "    \n",
    "    if int((i+valid_batch_size)/save_checkpoint) > checkpoint_index:\n",
    "        print(\"save the checkpoint for: {}\".format(i+valid_batch_size))\n",
    "        save_json(closest_captions, os.path.join(output_path, \"captions_retrieved_bertembedding_backup.json\")) \n",
    "        save_csv(visualization, os.path.join(output_path, \"captions_retrieved_bertembedding_backup.csv\"))\n",
    "        save_json(error_ids, os.path.join(output_path, \"captions_retrieved_bertembedding_error_ids.json\"))\n",
    "        checkpoint_index +=1\n",
    "\n",
    "#save the json file\n",
    "print(\"finish retrieving and start to save the json and checkpoints. \")\n",
    "save_json(closest_captions, os.path.join(output_path, \"captions_retrieved_bertembedding.json\"))   \n",
    "#save the csv file\n",
    "save_csv(visualization, os.path.join(output_path, \"captions_retrieved_bertembedding.csv\"))\n",
    "save_json(error_ids, os.path.join(output_path, \"captions_retrieved_bertembedding_error_ids.json\"))\n"
   ]
  },
  {
   "cell_type": "code",
   "execution_count": 20,
   "id": "91c38319",
   "metadata": {},
   "outputs": [],
   "source": [
    "k = 5\n",
    "D,I = index.search(object_embedding[:5], k)"
   ]
  },
  {
   "cell_type": "code",
   "execution_count": 21,
   "id": "665876c6",
   "metadata": {},
   "outputs": [
    {
     "name": "stdout",
     "output_type": "stream",
     "text": [
      "[[1002329 2126436 2567700 2083780 1512788]\n",
      " [2839047 2222658  671284  972371 1669987]\n",
      " [2643379 2416973 1562459  372457 2857378]\n",
      " [1348942 1467565 1595889 1368814  503955]\n",
      " [ 755644 2104451 2720289 2927379 1073476]]\n"
     ]
    }
   ],
   "source": [
    "print(I)"
   ]
  },
  {
   "cell_type": "code",
   "execution_count": 22,
   "id": "0d6a6430",
   "metadata": {},
   "outputs": [
    {
     "name": "stdout",
     "output_type": "stream",
     "text": [
      "0\n",
      "['1071704', '2274633', '2746993', '2229035', '1617725']\n",
      "a vehicle featuring a sign in its window .\n",
      "a very typical bus station\n"
     ]
    }
   ],
   "source": [
    "for i in range(5):\n",
    "    original_id = id_list[i]\n",
    "    print(original_id)\n",
    "    retrieved_ids = [id_list[x] for x in I[i]]\n",
    "    print(retrieved_ids)\n",
    "    print(cc_objects_captions[retrieved_ids[3]]['caption'])\n",
    "    print(cc_objects_captions[original_id]['caption'])\n",
    "    break"
   ]
  },
  {
   "cell_type": "code",
   "execution_count": null,
   "id": "33a53744",
   "metadata": {},
   "outputs": [],
   "source": []
  }
 ],
 "metadata": {
  "kernelspec": {
   "display_name": "Python (mmf)",
   "language": "python",
   "name": "mmf"
  },
  "language_info": {
   "codemirror_mode": {
    "name": "ipython",
    "version": 3
   },
   "file_extension": ".py",
   "mimetype": "text/x-python",
   "name": "python",
   "nbconvert_exporter": "python",
   "pygments_lexer": "ipython3",
   "version": "3.7.10"
  }
 },
 "nbformat": 4,
 "nbformat_minor": 5
}
