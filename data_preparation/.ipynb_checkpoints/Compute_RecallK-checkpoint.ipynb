{
 "cells": [
  {
   "cell_type": "code",
   "execution_count": 5,
   "id": "48648975",
   "metadata": {},
   "outputs": [],
   "source": [
    "import numpy as np\n",
    "import json"
   ]
  },
  {
   "cell_type": "code",
   "execution_count": 12,
   "id": "6dd2b055",
   "metadata": {},
   "outputs": [],
   "source": [
    "def i2t(sims, npts=None, return_ranks=False):\n",
    "    \"\"\"\n",
    "    Images->Text (Image Annotation)\n",
    "    sims: (N, 5N) matrix of similarity im-cap\n",
    "    \"\"\"\n",
    "    npts = sims.shape[0]\n",
    "    ranks = np.zeros(npts)\n",
    "    top1 = np.zeros(npts)\n",
    "    for index in range(npts):\n",
    "        inds = np.argsort(sims[index])[::-1]\n",
    "        # Score\n",
    "        rank = 1e20\n",
    "        for i in range(5 * index, 5 * index + 5, 1):\n",
    "            tmp = np.where(inds == i)[0][0]\n",
    "            if tmp < rank:\n",
    "                rank = tmp\n",
    "        ranks[index] = rank\n",
    "        top1[index] = inds[0]\n",
    "\n",
    "    # Compute metrics\n",
    "    r1 = 100.0 * len(np.where(ranks < 1)[0]) / len(ranks)\n",
    "    r5 = 100.0 * len(np.where(ranks < 5)[0]) / len(ranks)\n",
    "    r10 = 100.0 * len(np.where(ranks < 10)[0]) / len(ranks)\n",
    "    medr = np.floor(np.median(ranks)) + 1\n",
    "    meanr = ranks.mean() + 1\n",
    "    if return_ranks:\n",
    "        return (r1, r5, r10, medr, meanr), (ranks, top1)\n",
    "    else:\n",
    "        return (r1, r5, r10, medr, meanr)\n",
    "\n",
    "def t2i(sims, npts=None, return_ranks=False):\n",
    "    \"\"\"\n",
    "    Text->Images (Image Search)\n",
    "    sims: (N, 5N) matrix of similarity im-cap\n",
    "    \"\"\"\n",
    "    npts = sims.shape[0]\n",
    "    ranks = np.zeros(5 * npts)\n",
    "    top1 = np.zeros(5 * npts)\n",
    "\n",
    "    # --> (5N(caption), N(image))\n",
    "    sims = sims.T\n",
    "\n",
    "    for index in range(npts):\n",
    "        for i in range(5):\n",
    "            inds = np.argsort(sims[5 * index + i])[::-1]\n",
    "            ranks[5 * index + i] = np.where(inds == index)[0][0]\n",
    "            top1[5 * index + i] = inds[0]\n",
    "\n",
    "    # Compute metrics\n",
    "    r1 = 100.0 * len(np.where(ranks < 1)[0]) / len(ranks)\n",
    "    r5 = 100.0 * len(np.where(ranks < 5)[0]) / len(ranks)\n",
    "    r10 = 100.0 * len(np.where(ranks < 10)[0]) / len(ranks)\n",
    "    medr = np.floor(np.median(ranks)) + 1\n",
    "    meanr = ranks.mean() + 1\n",
    "    if return_ranks:\n",
    "        return (r1, r5, r10, medr, meanr), (ranks, top1)\n",
    "    else:\n",
    "        return (r1, r5, r10, medr, meanr)"
   ]
  },
  {
   "cell_type": "code",
   "execution_count": 8,
   "id": "93e3d736",
   "metadata": {},
   "outputs": [
    {
     "name": "stdout",
     "output_type": "stream",
     "text": [
      "0.3333333333333333\n",
      "1.0\n",
      "1.0\n"
     ]
    }
   ],
   "source": [
    "def get_gt_ranks(ranks, ans_ind):\n",
    "        gt_ranks = ans_ind.copy()\n",
    "        for i in range(ans_ind.shape[0]):\n",
    "            gt_ranks[i] = int(ranks[i, int(ans_ind[i])])\n",
    "        return gt_ranks\n",
    "    \n",
    "def score_to_ranks(scores):\n",
    "    # sort in descending order - largest score gets highest rank\n",
    "    #sorted_ranks, ranked_idx = scores.sort(1, descending=True)\n",
    "    ranked_idx = np.argsort(scores, axis=1)\n",
    "    ranked_idx=np.flip(ranked_idx,axis=1)\n",
    "    ranks = np.zeros_like(ranked_idx)\n",
    "    for i in range(ranked_idx.shape[0]):\n",
    "        for j in range(scores.shape[1]):\n",
    "            ranks[i][ranked_idx[i][j]] = j\n",
    "    ranks += 1\n",
    "    return ranks\n",
    "\n",
    "def RecallK(output,expected, k=1):\n",
    "    #assume prediction is a n*n matrix\n",
    "    ranks = score_to_ranks(output)\n",
    "    #print(ranks)\n",
    "    gt_ranks = get_gt_ranks(ranks, expected).astype(float)\n",
    "    #print(gt_ranks)\n",
    "    recall_1 = float(np.sum(np.less_equal(gt_ranks,1))) /gt_ranks.shape[0]\n",
    "    print(recall_1)\n",
    "    recall_5 = float(np.sum(np.less_equal(gt_ranks,5))) /gt_ranks.shape[0]\n",
    "    print(recall_5)\n",
    "    recall_10 = float(np.sum(np.less_equal(gt_ranks,10))) /gt_ranks.shape[0]\n",
    "    print(recall_10)\n",
    "    \n",
    "#     ranks = process_ranks(gt_ranks)\n",
    "    \n",
    "output = np.array([[1,2,3],\n",
    "                  [2,1,3],\n",
    "                  [4,6,2]\n",
    "                  ])\n",
    "expected = np.array([2,1,0],dtype=np.int_)\n",
    "RecallK(output, expected)"
   ]
  },
  {
   "cell_type": "code",
   "execution_count": null,
   "id": "f79146ab",
   "metadata": {},
   "outputs": [],
   "source": [
    "#LOAD THE PREDICTION\n",
    "import json\n",
    "#region_tag+sentence_image\n",
    "#result_path = \"/fsx/zmykevin/experiments/mmf_exp/itm_flickr30k_visual_bert_35549945/reports/itm_flickr30k_run_test_2021-10-23T18:51:07.json\"\n",
    "\n",
    "#no pretrain\n",
    "#result_path = \"/fsx/zmykevin/experiments/mmf_exp/itm_flickr30k_visual_bert_12992184/reports/itm_flickr30k_run_test_2021-10-23T19:05:42.json\"\n",
    "\n",
    "#paired pretrain\n",
    "#result_path = \"/fsx/zmykevin/experiments/mmf_exp/itm_flickr30k_visual_bert_12590222/reports/itm_flickr30k_run_test_2021-10-26T03:06:33.json\"\n",
    "\n",
    "#using logits\n",
    "result_path = \"/fsx/zmykevin/experiments/sweep_jobs/visualbert_paired_vinvl_itm_zs_test_0..ngpu1/itm_flickr30k_visual_bert_2619040/reports/itm_flickr30k_run_test_2021-10-26T14:53:56.json\"\n",
    "with open(result_path, \"r\") as f:\n",
    "    prediction_raw = json.load(f)"
   ]
  },
  {
   "cell_type": "code",
   "execution_count": null,
   "id": "c4c8a4c1",
   "metadata": {},
   "outputs": [],
   "source": [
    "print(len(prediction_raw))"
   ]
  },
  {
   "cell_type": "code",
   "execution_count": 7,
   "id": "780c8a67",
   "metadata": {},
   "outputs": [],
   "source": [
    "prediction = np.zeros((200,5000))\n",
    "\n",
    "break_point = 5000\n",
    "col_idx = 0\n",
    "for i, x in enumerate(prediction_raw):\n",
    "    #print(x)\n",
    "    row_idx = int(i/break_point)\n",
    "    #print(row_idx)\n",
    "    if i%break_point == 0:\n",
    "        col_idx = 0\n",
    "    prediction[row_idx,col_idx] = x['answer']\n",
    "    col_idx += 1"
   ]
  },
  {
   "cell_type": "code",
   "execution_count": null,
   "id": "84ba6ffe",
   "metadata": {},
   "outputs": [],
   "source": [
    "for x in prediction_raw[100:110]:\n",
    "    print(x)"
   ]
  },
  {
   "cell_type": "code",
   "execution_count": 8,
   "id": "03e8944f",
   "metadata": {},
   "outputs": [
    {
     "name": "stdout",
     "output_type": "stream",
     "text": [
      "[ 0  0  0  0  0  1  1  1  1  1  2  2  2  2  2  3  3  3  3  3  4  4  4  4\n",
      "  4  5  5  5  5  5  6  6  6  6  6  7  7  7  7  7  8  8  8  8  8  9  9  9\n",
      "  9  9 10 10 10 10 10 11 11 11 11 11 12 12 12 12 12 13 13 13 13 13 14 14\n",
      " 14 14 14 15 15 15 15 15 16 16 16 16 16 17 17 17 17 17 18 18 18 18 18 19\n",
      " 19 19 19 19]\n"
     ]
    }
   ],
   "source": [
    "t2i_expected = []\n",
    "for x in range(20):\n",
    "    t2i_expected += [x]*5\n",
    "t2i_expected = np.array(t2i_expected, dtype=np.int_)\n",
    "# expected = np.array(list(range(100)),dtype=np.int_)\n",
    "print(t2i_expected)"
   ]
  },
  {
   "cell_type": "code",
   "execution_count": 38,
   "id": "7045bf67",
   "metadata": {},
   "outputs": [],
   "source": [
    "# import random\n",
    "# prediction = np.ones((100,100))\n",
    "# prediction = np.diag(np.diag(prediction))\n",
    "# prob = 0.5\n",
    "# for i in range(prediction.shape[0]):\n",
    "#     if random.random() < prob:\n",
    "#         prediction[i] = np.random.rand(1,100)\n"
   ]
  },
  {
   "cell_type": "code",
   "execution_count": 9,
   "id": "6a9984cf",
   "metadata": {},
   "outputs": [
    {
     "name": "stdout",
     "output_type": "stream",
     "text": [
      "0.35\n",
      "0.66\n",
      "0.77\n"
     ]
    }
   ],
   "source": [
    "RecallK(prediction.T,t2i_expected)"
   ]
  },
  {
   "cell_type": "code",
   "execution_count": null,
   "id": "ecc4ee1a",
   "metadata": {},
   "outputs": [],
   "source": [
    "#i to t: 0.08, 0.33, 0.46\n",
    "#t to i: 0.02, 0.34, 0.46\n",
    "\n",
    "#(92.0, 97.0, 98.0, 1.0, 1.5699999999999998)\n",
    "#(82.4, 95.6, 98.8, 1.0, 1.65)"
   ]
  },
  {
   "cell_type": "code",
   "execution_count": 8,
   "id": "df514959",
   "metadata": {},
   "outputs": [
    {
     "name": "stdout",
     "output_type": "stream",
     "text": [
      "(67.5, 90.0, 95.5, 1.0, 4.34)\n",
      "(76.8, 94.6, 97.7, 1.0, 1.967)\n"
     ]
    }
   ],
   "source": [
    "#i to t: 0.01, 0.04, 0.09\n",
    "#t to i: 0.0, 0.05, 0.1\n",
    "print(i2t(prediction))\n",
    "print(t2i(prediction))"
   ]
  },
  {
   "cell_type": "code",
   "execution_count": null,
   "id": "ea59eac3",
   "metadata": {},
   "outputs": [],
   "source": [
    "#Load and combine the test data split\n",
    "result_path_0 = \"/fsx/zmykevin/experiments/mmf_exp/itm_flickr30k_visual_bert_19648373/reports/itm_flickr30k_run_test_2021-10-26T07:35:33.json\"\n",
    "result_path_1 = \"/fsx/zmykevin/experiments/sweep_jobs/visualbert_paired_vinvl_itm_zs_test_1..ngpu1/itm_flickr30k_visual_bert_2902261/reports/itm_flickr30k_run_test_2021-10-26T15:27:37.json\"\n",
    "result_path_2 = \"/fsx/zmykevin/experiments/sweep_jobs/visualbert_paired_vinvl_itm_zs_test_2..ngpu1/itm_flickr30k_visual_bert_2619040/reports/itm_flickr30k_run_test_2021-10-26T14:53:56.json\"\n",
    "result_path_3 = \"/fsx/zmykevin/experiments/mmf_exp/itm_flickr30k_visual_bert_19660505/reports/itm_flickr30k_run_test_2021-10-26T07:36:05.json\"\n",
    "result_path_4 = \"/fsx/zmykevin/experiments/sweep_jobs/visualbert_paired_vinvl_itm_zs_test_4..ngpu1/itm_flickr30k_visual_bert_1319889/reports/itm_flickr30k_run_test_2021-10-26T15:06:28.json\"\n",
    "\n",
    "with open(result_path_0, \"r\") as f:\n",
    "    prediction_raw_0 = json.load(f)\n",
    "\n",
    "with open(result_path_1, \"r\") as f:\n",
    "    prediction_raw_1 = json.load(f)\n",
    "    \n",
    "with open(result_path_2, \"r\") as f:\n",
    "    prediction_raw_2 = json.load(f)\n",
    "    \n",
    "with open(result_path_3, \"r\") as f:\n",
    "    prediction_raw_3 = json.load(f)\n",
    "    \n",
    "with open(result_path_4, \"r\") as f:\n",
    "    prediction_raw_4 = json.load(f)\n",
    "    \n",
    "print(len(prediction_raw_0))\n",
    "print(len(prediction_raw_1))\n",
    "print(len(prediction_raw_2))\n",
    "print(len(prediction_raw_3))\n",
    "print(len(prediction_raw_4))"
   ]
  },
  {
   "cell_type": "code",
   "execution_count": 10,
   "id": "9ed7e1a9",
   "metadata": {},
   "outputs": [],
   "source": [
    "#combine the five predictions\n",
    "prediction_raw = prediction_raw_0 + prediction_raw_1 + prediction_raw_2 + prediction_raw_3 + prediction_raw_4\n",
    "#prediction_raw = prediction_raw_0\n",
    "\n",
    "# prediction = np.zeros((200,5000))\n",
    "# col_idx = 0\n",
    "# #top_5000 = []\n",
    "# for i, x in enumerate(prediction_raw_0):\n",
    "#     row_idx = int(i/5000)\n",
    "#     if i% 5000 == 0:\n",
    "#         col_idx = 0\n",
    "#     prediction[row_idx, col_idx] = x[\"answer\"]\n",
    "#     col_idx += 1\n",
    "#     if i > 44999:\n",
    "#         print(x)\n",
    "#     if i == 149999:\n",
    "#        break\n",
    "\n",
    "# top_5000 = np.array(top_5000)\n",
    "# top_5000_argmax = np.argmax(top_5000)\n",
    "# print(top_5000_argmax)\n",
    "#print(t2i(prediction))"
   ]
  },
  {
   "cell_type": "code",
   "execution_count": 26,
   "id": "25fe00fc",
   "metadata": {},
   "outputs": [],
   "source": [
    "prediction = np.zeros((1000,5000))\n",
    "\n",
    "break_point = 5000\n",
    "col_idx = 0\n",
    "for i, x in enumerate(prediction_raw):\n",
    "    #print(x)\n",
    "    row_idx = int(i/break_point)\n",
    "    #print(row_idx)\n",
    "    if i%break_point == 0:\n",
    "        col_idx = 0\n",
    "    prediction[row_idx,col_idx] = x['answer']\n",
    "    col_idx += 1"
   ]
  },
  {
   "cell_type": "code",
   "execution_count": 12,
   "id": "a8b20403",
   "metadata": {},
   "outputs": [
    {
     "name": "stdout",
     "output_type": "stream",
     "text": [
      "(67.5, 90.0, 95.5, 1.0, 4.34)\n",
      "(76.8, 94.6, 97.7, 1.0, 1.967)\n"
     ]
    }
   ],
   "source": [
    "print(i2t(prediction))\n",
    "print(t2i(prediction))"
   ]
  },
  {
   "cell_type": "code",
   "execution_count": 16,
   "id": "7760cd0c",
   "metadata": {},
   "outputs": [],
   "source": [
    "t2i_expected = []\n",
    "for x in range(1000):\n",
    "    t2i_expected += [x]*5\n",
    "t2i_expected = np.array(t2i_expected, dtype=np.int_)\n",
    "# expected = np.array(list(range(100)),dtype=np.int_)\n"
   ]
  },
  {
   "cell_type": "code",
   "execution_count": 17,
   "id": "7ec79a29",
   "metadata": {},
   "outputs": [
    {
     "ename": "IndexError",
     "evalue": "index 200 is out of bounds for axis 1 with size 200",
     "output_type": "error",
     "traceback": [
      "\u001b[0;31m---------------------------------------------------------------------------\u001b[0m",
      "\u001b[0;31mIndexError\u001b[0m                                Traceback (most recent call last)",
      "\u001b[0;32m<ipython-input-17-cbe74a10a74b>\u001b[0m in \u001b[0;36m<module>\u001b[0;34m\u001b[0m\n\u001b[0;32m----> 1\u001b[0;31m \u001b[0mRecallK\u001b[0m\u001b[0;34m(\u001b[0m\u001b[0mprediction\u001b[0m\u001b[0;34m.\u001b[0m\u001b[0mT\u001b[0m\u001b[0;34m,\u001b[0m\u001b[0mt2i_expected\u001b[0m\u001b[0;34m)\u001b[0m\u001b[0;34m\u001b[0m\u001b[0;34m\u001b[0m\u001b[0m\n\u001b[0m",
      "\u001b[0;32m<ipython-input-4-158737bc9fde>\u001b[0m in \u001b[0;36mRecallK\u001b[0;34m(output, expected, k)\u001b[0m\n\u001b[1;32m     21\u001b[0m     \u001b[0mranks\u001b[0m \u001b[0;34m=\u001b[0m \u001b[0mscore_to_ranks\u001b[0m\u001b[0;34m(\u001b[0m\u001b[0moutput\u001b[0m\u001b[0;34m)\u001b[0m\u001b[0;34m\u001b[0m\u001b[0;34m\u001b[0m\u001b[0m\n\u001b[1;32m     22\u001b[0m     \u001b[0;31m#print(ranks)\u001b[0m\u001b[0;34m\u001b[0m\u001b[0;34m\u001b[0m\u001b[0;34m\u001b[0m\u001b[0m\n\u001b[0;32m---> 23\u001b[0;31m     \u001b[0mgt_ranks\u001b[0m \u001b[0;34m=\u001b[0m \u001b[0mget_gt_ranks\u001b[0m\u001b[0;34m(\u001b[0m\u001b[0mranks\u001b[0m\u001b[0;34m,\u001b[0m \u001b[0mexpected\u001b[0m\u001b[0;34m)\u001b[0m\u001b[0;34m.\u001b[0m\u001b[0mastype\u001b[0m\u001b[0;34m(\u001b[0m\u001b[0mfloat\u001b[0m\u001b[0;34m)\u001b[0m\u001b[0;34m\u001b[0m\u001b[0;34m\u001b[0m\u001b[0m\n\u001b[0m\u001b[1;32m     24\u001b[0m     \u001b[0;31m#print(gt_ranks)\u001b[0m\u001b[0;34m\u001b[0m\u001b[0;34m\u001b[0m\u001b[0;34m\u001b[0m\u001b[0m\n\u001b[1;32m     25\u001b[0m     \u001b[0mrecall_1\u001b[0m \u001b[0;34m=\u001b[0m \u001b[0mfloat\u001b[0m\u001b[0;34m(\u001b[0m\u001b[0mnp\u001b[0m\u001b[0;34m.\u001b[0m\u001b[0msum\u001b[0m\u001b[0;34m(\u001b[0m\u001b[0mnp\u001b[0m\u001b[0;34m.\u001b[0m\u001b[0mless_equal\u001b[0m\u001b[0;34m(\u001b[0m\u001b[0mgt_ranks\u001b[0m\u001b[0;34m,\u001b[0m\u001b[0;36m1\u001b[0m\u001b[0;34m)\u001b[0m\u001b[0;34m)\u001b[0m\u001b[0;34m)\u001b[0m \u001b[0;34m/\u001b[0m\u001b[0mgt_ranks\u001b[0m\u001b[0;34m.\u001b[0m\u001b[0mshape\u001b[0m\u001b[0;34m[\u001b[0m\u001b[0;36m0\u001b[0m\u001b[0;34m]\u001b[0m\u001b[0;34m\u001b[0m\u001b[0;34m\u001b[0m\u001b[0m\n",
      "\u001b[0;32m<ipython-input-4-158737bc9fde>\u001b[0m in \u001b[0;36mget_gt_ranks\u001b[0;34m(ranks, ans_ind)\u001b[0m\n\u001b[1;32m      2\u001b[0m         \u001b[0mgt_ranks\u001b[0m \u001b[0;34m=\u001b[0m \u001b[0mans_ind\u001b[0m\u001b[0;34m.\u001b[0m\u001b[0mcopy\u001b[0m\u001b[0;34m(\u001b[0m\u001b[0;34m)\u001b[0m\u001b[0;34m\u001b[0m\u001b[0;34m\u001b[0m\u001b[0m\n\u001b[1;32m      3\u001b[0m         \u001b[0;32mfor\u001b[0m \u001b[0mi\u001b[0m \u001b[0;32min\u001b[0m \u001b[0mrange\u001b[0m\u001b[0;34m(\u001b[0m\u001b[0mans_ind\u001b[0m\u001b[0;34m.\u001b[0m\u001b[0mshape\u001b[0m\u001b[0;34m[\u001b[0m\u001b[0;36m0\u001b[0m\u001b[0;34m]\u001b[0m\u001b[0;34m)\u001b[0m\u001b[0;34m:\u001b[0m\u001b[0;34m\u001b[0m\u001b[0;34m\u001b[0m\u001b[0m\n\u001b[0;32m----> 4\u001b[0;31m             \u001b[0mgt_ranks\u001b[0m\u001b[0;34m[\u001b[0m\u001b[0mi\u001b[0m\u001b[0;34m]\u001b[0m \u001b[0;34m=\u001b[0m \u001b[0mint\u001b[0m\u001b[0;34m(\u001b[0m\u001b[0mranks\u001b[0m\u001b[0;34m[\u001b[0m\u001b[0mi\u001b[0m\u001b[0;34m,\u001b[0m \u001b[0mint\u001b[0m\u001b[0;34m(\u001b[0m\u001b[0mans_ind\u001b[0m\u001b[0;34m[\u001b[0m\u001b[0mi\u001b[0m\u001b[0;34m]\u001b[0m\u001b[0;34m)\u001b[0m\u001b[0;34m]\u001b[0m\u001b[0;34m)\u001b[0m\u001b[0;34m\u001b[0m\u001b[0;34m\u001b[0m\u001b[0m\n\u001b[0m\u001b[1;32m      5\u001b[0m         \u001b[0;32mreturn\u001b[0m \u001b[0mgt_ranks\u001b[0m\u001b[0;34m\u001b[0m\u001b[0;34m\u001b[0m\u001b[0m\n\u001b[1;32m      6\u001b[0m \u001b[0;34m\u001b[0m\u001b[0m\n",
      "\u001b[0;31mIndexError\u001b[0m: index 200 is out of bounds for axis 1 with size 200"
     ]
    }
   ],
   "source": [
    "# RecallK(prediction.T,t2i_expected)"
   ]
  },
  {
   "cell_type": "code",
   "execution_count": 2,
   "id": "75edc25a",
   "metadata": {},
   "outputs": [
    {
     "name": "stdout",
     "output_type": "stream",
     "text": [
      "0\n",
      "0\n"
     ]
    }
   ],
   "source": [
    "print(int(1/10))\n",
    "print(int(9/10))"
   ]
  },
  {
   "cell_type": "code",
   "execution_count": null,
   "id": "4b5efa47",
   "metadata": {},
   "outputs": [],
   "source": []
  }
 ],
 "metadata": {
  "kernelspec": {
   "display_name": "Python (mmf)",
   "language": "python",
   "name": "mmf"
  },
  "language_info": {
   "codemirror_mode": {
    "name": "ipython",
    "version": 3
   },
   "file_extension": ".py",
   "mimetype": "text/x-python",
   "name": "python",
   "nbconvert_exporter": "python",
   "pygments_lexer": "ipython3",
   "version": "3.7.10"
  }
 },
 "nbformat": 4,
 "nbformat_minor": 5
}
