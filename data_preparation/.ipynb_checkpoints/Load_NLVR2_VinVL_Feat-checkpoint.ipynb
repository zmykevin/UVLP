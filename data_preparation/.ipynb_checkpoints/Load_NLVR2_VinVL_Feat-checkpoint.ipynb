{
 "cells": [
  {
   "cell_type": "code",
   "execution_count": 1,
   "id": "21d0d853",
   "metadata": {},
   "outputs": [],
   "source": [
    "import torch\n",
    "import os.path as op\n",
    "import logging\n",
    "import numpy as np\n",
    "import base64\n",
    "import json\n",
    "import os\n",
    "from iopath.common.file_io import PathManager as pm\n",
    "import lmdb\n",
    "import pickle\n",
    "\n",
    "PathManager = pm()"
   ]
  },
  {
   "cell_type": "code",
   "execution_count": 2,
   "id": "7ba4b65d",
   "metadata": {},
   "outputs": [],
   "source": [
    "class TSVFile(object):\n",
    "    def __init__(self, tsv_file, generate_lineidx=False):\n",
    "        self.tsv_file = tsv_file\n",
    "        self.lineidx = op.splitext(tsv_file)[0] + '.lineidx'\n",
    "        self._fp = None\n",
    "        self._lineidx = None\n",
    "        # the process always keeps the process which opens the file. \n",
    "        # If the pid is not equal to the currrent pid, we will re-open the file.\n",
    "        self.pid = None\n",
    "        # generate lineidx if not exist\n",
    "        if not op.isfile(self.lineidx) and generate_lineidx:\n",
    "            generate_lineidx_file(self.tsv_file, self.lineidx)\n",
    "\n",
    "    def __del__(self):\n",
    "        if self._fp:\n",
    "            self._fp.close()\n",
    "\n",
    "    def __str__(self):\n",
    "        return \"TSVFile(tsv_file='{}')\".format(self.tsv_file)\n",
    "\n",
    "    def __repr__(self):\n",
    "        return str(self)\n",
    "\n",
    "    def num_rows(self):\n",
    "        self._ensure_lineidx_loaded()\n",
    "        return len(self._lineidx)\n",
    "\n",
    "    def seek(self, idx):\n",
    "        self._ensure_tsv_opened()\n",
    "        self._ensure_lineidx_loaded()\n",
    "        try:\n",
    "            pos = self._lineidx[idx]\n",
    "        except:\n",
    "            logging.info('{}-{}'.format(self.tsv_file, idx))\n",
    "            raise\n",
    "        self._fp.seek(pos)\n",
    "        return [s.strip() for s in self._fp.readline().split('\\t')]\n",
    "\n",
    "    def seek_first_column(self, idx):\n",
    "        self._ensure_tsv_opened()\n",
    "        self._ensure_lineidx_loaded()\n",
    "        pos = self._lineidx[idx]\n",
    "        self._fp.seek(pos)\n",
    "        return read_to_character(self._fp, '\\t')\n",
    "\n",
    "    def __getitem__(self, index):\n",
    "        return self.seek(index)\n",
    "\n",
    "    def __len__(self):\n",
    "        return self.num_rows()\n",
    "\n",
    "    def _ensure_lineidx_loaded(self):\n",
    "        if self._lineidx is None:\n",
    "            logging.info('loading lineidx: {}'.format(self.lineidx))\n",
    "            with open(self.lineidx, 'r') as fp:\n",
    "                self._lineidx = [int(i.strip()) for i in fp.readlines()]\n",
    "\n",
    "    def _ensure_tsv_opened(self):\n",
    "        if self._fp is None:\n",
    "            self._fp = open(self.tsv_file, 'r')\n",
    "            self.pid = os.getpid()\n",
    "\n",
    "        if self.pid != os.getpid():\n",
    "            logging.info('re-open {} because the process id changed'.format(self.tsv_file))\n",
    "            self._fp = open(self.tsv_file, 'r')\n",
    "            self.pid = os.getpid()\n",
    "            "
   ]
  },
  {
   "cell_type": "code",
   "execution_count": 6,
   "id": "528b3838",
   "metadata": {},
   "outputs": [],
   "source": [
    "data_path = \"/data/home/zmykevin/vinvl_data/nlvr2/nlvr2_features/nlvr2_X152C4_frcnnbig2_exp168model_0060000model.roi_heads.nm_filter_2_model.roi_heads.score_thresh_0.2/test/inference/model_0060000\"\n",
    "feature_tsv = os.path.join(data_path, \"features.tsv\")\n",
    "prediction_tsv = os.path.join(data_path, \"predictions.tsv\")\n",
    "\n",
    "feat_tsv = TSVFile(feature_tsv)\n",
    "prediction_tsv = TSVFile(prediction_tsv)"
   ]
  },
  {
   "cell_type": "code",
   "execution_count": 9,
   "id": "2194d4fd",
   "metadata": {},
   "outputs": [
    {
     "name": "stdout",
     "output_type": "stream",
     "text": [
      "test1-0-0-img0\n",
      "21\n",
      "(21, 2054)\n"
     ]
    }
   ],
   "source": [
    "for i in range(feat_tsv.num_rows()):\n",
    "    print(feat_tsv.seek(i)[0])\n",
    "    num_boxes = int(feat_tsv.seek(i)[1])\n",
    "    print(num_boxes)\n",
    "    features = np.frombuffer(base64.b64decode(feat_tsv.seek(i)[2]), np.float32\n",
    "                ).reshape((num_boxes, -1))\n",
    "    print(features.shape)\n",
    "    #print(features[0][-6:])\n",
    "    break"
   ]
  },
  {
   "cell_type": "code",
   "execution_count": 10,
   "id": "4f0a1c2e",
   "metadata": {},
   "outputs": [
    {
     "name": "stdout",
     "output_type": "stream",
     "text": [
      "test1-0-0-img0\n",
      "dict_keys(['image_h', 'image_w', 'num_boxes', 'objects', 'predicates', 'relations'])\n",
      "<class 'str'>\n"
     ]
    }
   ],
   "source": [
    "for i in range(prediction_tsv.num_rows()):\n",
    "    print(prediction_tsv.seek(i)[0])\n",
    "    print(json.loads(prediction_tsv.seek(i)[1]).keys())\n",
    "    #print(json.loads(prediction_tsv.seek(i)[1])['objects'])\n",
    "    print(type(prediction_tsv.seek(i)[0]))\n",
    "    break\n",
    "#     if i > 10:\n",
    "#         break\n"
   ]
  },
  {
   "cell_type": "code",
   "execution_count": 2,
   "id": "20017132",
   "metadata": {},
   "outputs": [],
   "source": [
    "class PaddedFasterRCNNFeatureReader:\n",
    "    def __init__(self, max_loc):\n",
    "        self.max_loc = max_loc\n",
    "        self.first = True\n",
    "        self.take_item = False\n",
    "\n",
    "    def _load(self, image_feat_path):\n",
    "        image_info = {}\n",
    "        image_info[\"features\"] = load_feat(image_feat_path)\n",
    "\n",
    "        info_path = \"{}_info.npy\".format(image_feat_path.split(\".npy\")[0])\n",
    "        if PathManager.exists(info_path):\n",
    "            image_info.update(load_feat(info_path).item())\n",
    "\n",
    "        return image_info\n",
    "\n",
    "    def read(self, image_feat_path):\n",
    "        image_info = self._load(image_feat_path)\n",
    "        if self.first:\n",
    "            self.first = False\n",
    "            if (\n",
    "                image_info[\"features\"].size == 1\n",
    "                and \"image_feat\" in image_info[\"features\"].item()\n",
    "            ):\n",
    "                self.take_item = True\n",
    "\n",
    "        image_feature = image_info[\"features\"]\n",
    "#         print(image_info[\"features\"].size)\n",
    "        if self.take_item:\n",
    "            item = image_info[\"features\"].item()\n",
    "            if \"image_text\" in item:\n",
    "                image_info[\"image_text\"] = item[\"image_text\"]\n",
    "                image_info[\"is_ocr\"] = item[\"image_bbox_source\"]\n",
    "                image_feature = item[\"image_feat\"]\n",
    "\n",
    "            if \"info\" in item:\n",
    "                if \"image_text\" in item[\"info\"]:\n",
    "                    image_info.update(item[\"info\"])\n",
    "                image_feature = item[\"feature\"]\n",
    "\n",
    "        # Handle case of features with class probs\n",
    "        if (\n",
    "            image_info[\"features\"].size == 1\n",
    "            and \"features\" in image_info[\"features\"].item()\n",
    "        ):\n",
    "            item = image_info[\"features\"].item()\n",
    "            image_feature = item[\"features\"]\n",
    "            image_info[\"image_height\"] = item[\"image_height\"]\n",
    "            image_info[\"image_width\"] = item[\"image_width\"]\n",
    "\n",
    "            # Resize these to self.max_loc\n",
    "            image_loc, _ = image_feature.shape\n",
    "            image_info[\"cls_prob\"] = np.zeros(\n",
    "                (self.max_loc, item[\"cls_prob\"].shape[1]), dtype=np.float32\n",
    "            )\n",
    "            image_info[\"cls_prob\"][0:image_loc,] = item[\"cls_prob\"][: self.max_loc, :]\n",
    "            image_info[\"bbox\"] = np.zeros(\n",
    "                (self.max_loc, item[\"bbox\"].shape[1]), dtype=np.float32\n",
    "            )\n",
    "            image_info[\"bbox\"][0:image_loc,] = item[\"bbox\"][: self.max_loc, :]\n",
    "            image_info[\"num_boxes\"] = item[\"num_boxes\"]\n",
    "\n",
    "        # Handle the case of ResNet152 features\n",
    "        if len(image_feature.shape) > 2:\n",
    "            shape = image_feature.shape\n",
    "            image_feature = image_feature.reshape(-1, shape[-1])\n",
    "\n",
    "        image_loc, image_dim = image_feature.shape\n",
    "        tmp_image_feat = np.zeros((self.max_loc, image_dim), dtype=np.float32)\n",
    "        tmp_image_feat[0:image_loc,] = image_feature[: self.max_loc, :]  # noqa\n",
    "        image_feature = torch.from_numpy(tmp_image_feat)\n",
    "\n",
    "        del image_info[\"features\"]\n",
    "        image_info[\"max_features\"] = torch.tensor(image_loc, dtype=torch.long)\n",
    "        return image_feature, image_info\n",
    "\n",
    "\n",
    "class LMDBFeatureReader(PaddedFasterRCNNFeatureReader):\n",
    "    def __init__(self, max_loc, base_path):\n",
    "        super().__init__(max_loc)\n",
    "        self.db_path = base_path\n",
    "\n",
    "        if not PathManager.exists(self.db_path):\n",
    "            raise RuntimeError(\n",
    "                \"{} path specified for LMDB features doesn't exists.\".format(\n",
    "                    self.db_path\n",
    "                )\n",
    "            )\n",
    "        self.env = None\n",
    "\n",
    "    def _init_db(self):\n",
    "        self.env = lmdb.open(\n",
    "            self.db_path,\n",
    "            subdir=os.path.isdir(self.db_path),\n",
    "            readonly=True,\n",
    "            lock=False,\n",
    "            readahead=False,\n",
    "            meminit=False,\n",
    "        )\n",
    "        with self.env.begin(write=False, buffers=True) as txn:\n",
    "            self.image_ids = pickle.loads(txn.get(b\"keys\"))\n",
    "            self.image_id_indices = {\n",
    "                self.image_ids[i]: i for i in range(0, len(self.image_ids))\n",
    "            }\n",
    "\n",
    "    def _load(self, image_file_path):\n",
    "        #print(\"env is: {}\".format(self.env))\n",
    "        if self.env is None:\n",
    "            #print(\"initialize db\")\n",
    "            self._init_db()\n",
    "\n",
    "        split = os.path.relpath(image_file_path, self.db_path).split(\".npy\")[0]\n",
    "        print(split)\n",
    "        try:\n",
    "            image_id = int(split.split(\"_\")[-1])\n",
    "            # Try fetching to see if it actually exists otherwise fall back to\n",
    "            # default\n",
    "            img_id_idx = self.image_id_indices[str(image_id).encode()]\n",
    "        except (ValueError, KeyError):\n",
    "            # The image id is complex or involves folder, use it directly\n",
    "            image_id = str(split).encode()\n",
    "            img_id_idx = self.image_id_indices[image_id]\n",
    "\n",
    "        with self.env.begin(write=False, buffers=True) as txn:\n",
    "            image_info = pickle.loads(txn.get(self.image_ids[img_id_idx]))\n",
    "\n",
    "        return image_info"
   ]
  },
  {
   "cell_type": "code",
   "execution_count": 6,
   "id": "78bfd42d",
   "metadata": {},
   "outputs": [
    {
     "name": "stdout",
     "output_type": "stream",
     "text": [
      "{'validation': {'28': 'False'}, 'sentence': 'There is an empty glass.', 'left_url': 'http://www.belgiansmaak.com/wp-content/gallery/belgian-beers-post/dynamic/31.-Tilquin.jpg-nggid041318-ngg0dyn-0x0x100-00f0w010c010r110f110r010t010.jpg', 'writer': '103', 'label': 'False', 'right_url': 'https://www.craftbrewingbusiness.com/wp-content/uploads/2017/09/unnamed-1.jpg', 'synset': 'beer bottle', 'query': 'group of beer bottles41', 'identifier': 'test1-0-1-0', 'extra_validations': {'56': 'False', '83': 'False', '19': 'False', '92': 'False'}}\n"
     ]
    }
   ],
   "source": [
    "ann_data_path = \"/fsx/zmykevin/data/mmf_data/datasets/nlvr2/defaults/annotations/test1.jsonl\"\n",
    "with open(ann_data_path, \"r\") as f:\n",
    "    for line in f:\n",
    "        sample = json.loads(line)\n",
    "        print(json.loads(line))\n",
    "        break"
   ]
  },
  {
   "cell_type": "code",
   "execution_count": 7,
   "id": "e0a15b2f",
   "metadata": {},
   "outputs": [],
   "source": [
    "base_path = \"/fsx/zmykevin/data/mmf_data/datasets/nlvr2/defaults/features/test_vinvl.lmdb\"\n",
    "feature_reader = LMDBFeatureReader(100, base_path)"
   ]
  },
  {
   "cell_type": "code",
   "execution_count": null,
   "id": "c333bf7a",
   "metadata": {},
   "outputs": [],
   "source": []
  },
  {
   "cell_type": "code",
   "execution_count": 8,
   "id": "ae565934",
   "metadata": {},
   "outputs": [
    {
     "name": "stdout",
     "output_type": "stream",
     "text": [
      "test1-0-1-img0\n"
     ]
    }
   ],
   "source": [
    "feats, info = feature_reader.read(\"/fsx/zmykevin/data/mmf_data/datasets/nlvr2/defaults/features/test_vinvl.lmdb/{}-img0.npy\".format(\"-\".join(sample[\"identifier\"].split(\"-\")[:-1])))"
   ]
  },
  {
   "cell_type": "code",
   "execution_count": 9,
   "id": "05d49cff",
   "metadata": {},
   "outputs": [
    {
     "name": "stdout",
     "output_type": "stream",
     "text": [
      "torch.Size([100, 2048])\n"
     ]
    }
   ],
   "source": [
    "print(feats.size())"
   ]
  },
  {
   "cell_type": "code",
   "execution_count": 10,
   "id": "1b2b16c1",
   "metadata": {},
   "outputs": [
    {
     "name": "stdout",
     "output_type": "stream",
     "text": [
      "dict_keys(['image_height', 'image_width', 'num_boxes', 'objects', 'bbox', 'cls_prob', 'max_features'])\n"
     ]
    }
   ],
   "source": [
    "print(info.keys())"
   ]
  },
  {
   "cell_type": "code",
   "execution_count": null,
   "id": "cbef3f6b",
   "metadata": {},
   "outputs": [],
   "source": [
    "print(info[\"max_features\"])"
   ]
  }
 ],
 "metadata": {
  "kernelspec": {
   "display_name": "Python (mmf)",
   "language": "python",
   "name": "mmf"
  },
  "language_info": {
   "codemirror_mode": {
    "name": "ipython",
    "version": 3
   },
   "file_extension": ".py",
   "mimetype": "text/x-python",
   "name": "python",
   "nbconvert_exporter": "python",
   "pygments_lexer": "ipython3",
   "version": "3.7.10"
  }
 },
 "nbformat": 4,
 "nbformat_minor": 5
}
