{
 "cells": [
  {
   "cell_type": "code",
   "execution_count": 1,
   "id": "0f7ecd04",
   "metadata": {},
   "outputs": [],
   "source": [
    "import json\n",
    "import os\n",
    "\n",
    "import numpy as np"
   ]
  },
  {
   "cell_type": "code",
   "execution_count": 2,
   "id": "55c334d7",
   "metadata": {},
   "outputs": [
    {
     "name": "stdout",
     "output_type": "stream",
     "text": [
      "{'validation': {'28': 'False'}, 'sentence': 'There is an empty glass.', 'left_url': 'http://www.belgiansmaak.com/wp-content/gallery/belgian-beers-post/dynamic/31.-Tilquin.jpg-nggid041318-ngg0dyn-0x0x100-00f0w010c010r110f110r010t010.jpg', 'writer': '103', 'label': 'False', 'right_url': 'https://www.craftbrewingbusiness.com/wp-content/uploads/2017/09/unnamed-1.jpg', 'synset': 'beer bottle', 'query': 'group of beer bottles41', 'identifier': 'test1-0-1-0', 'extra_validations': {'56': 'False', '83': 'False', '19': 'False', '92': 'False'}}\n"
     ]
    }
   ],
   "source": [
    "ann_data_path = \"/fsx/zmykevin/data/mmf_data/datasets/nlvr2/defaults/annotations/test1.jsonl\"\n",
    "#ann_data_path = \"/fsx/zmykevin/data/mmf_data/datasets/visual_entailment/defaults/annotations/snli_ve_vinvl_dev.jsonl\"\n",
    "with open(ann_data_path, \"r\") as f:\n",
    "    for line in f:\n",
    "        sample = json.loads(line)\n",
    "        print(json.loads(line))\n",
    "        break"
   ]
  },
  {
   "cell_type": "code",
   "execution_count": 3,
   "id": "0d642963",
   "metadata": {},
   "outputs": [],
   "source": [
    "# vqa_data_path = \"/fsx/zmykevin/data/mmf_data/datasets/cc/defaults/annotations/train_vinvl_nps_fixed_0.npy\"\n",
    "# val_annotation = np.load(vqa_data_path, allow_pickle=True)\n",
    "# print(len(val_annotation))"
   ]
  },
  {
   "cell_type": "code",
   "execution_count": 4,
   "id": "2cb44564",
   "metadata": {},
   "outputs": [],
   "source": [
    "# for x in val_annotation:\n",
    "#     print(x)\n",
    "#     break"
   ]
  },
  {
   "cell_type": "code",
   "execution_count": 2,
   "id": "1662bba7",
   "metadata": {},
   "outputs": [],
   "source": [
    "refcoco_data_path = os.path.join(\"/home/zmykevin/fb_intern/data/vinvl_data/recoco+/refcoco+\", \"refcoco_plus_final.json\")\n",
    "with open(refcoco_data_path, \"r\") as f:\n",
    "    refcoco_data = json.load(f)"
   ]
  },
  {
   "cell_type": "code",
   "execution_count": 3,
   "id": "18d573f5",
   "metadata": {},
   "outputs": [
    {
     "name": "stdout",
     "output_type": "stream",
     "text": [
      "{'file_name': 'COCO_train2014_000000581857.jpg', 'image_id': 581857, 'ann_id': 1719310, 'bbox': [103.93, 299.99, 134.22, 177.42], 'gt_proposal': 3, 'valid_proposals': [3, 68, 100, 100, 100, 100, 100], 'sentences': [{'tokens': ['navy', 'blue', 'shirt'], 'raw': 'navy blue shirt', 'sent_id': 0, 'sent': 'navy blue shirt'}, {'tokens': ['woman', 'back', 'in', 'blue'], 'raw': 'woman back in blue', 'sent_id': 1, 'sent': 'woman back in blue'}, {'tokens': ['blue', 'shirt'], 'raw': 'blue shirt', 'sent_id': 2, 'sent': 'blue shirt'}], 'split': 'train'}\n"
     ]
    }
   ],
   "source": [
    "for x in refcoco_data:\n",
    "    print(x)\n",
    "    break"
   ]
  },
  {
   "cell_type": "code",
   "execution_count": 13,
   "id": "9ad73564",
   "metadata": {},
   "outputs": [],
   "source": [
    "split_list = [\"train\", \"val\", \"testA\", \"testB\"]\n",
    "select_split = \"testB\"\n",
    "\n",
    "mmf_refcoco_plus = []\n",
    "for data in refcoco_data:\n",
    "    current_split = data[\"split\"]\n",
    "    if current_split == select_split:\n",
    "        file_name = data['file_name'].split(\".\")[0]+\".npy\"\n",
    "        image_id = data['image_id']\n",
    "        ann_id = data['ann_id']\n",
    "        label = data['gt_proposal']\n",
    "        label_list = data['valid_proposals']\n",
    "        \n",
    "        assert label < 100\n",
    "        for sentence in data['sentences']:\n",
    "            expression = sentence['raw']\n",
    "            sent_id = sentence['sent_id']\n",
    "            #prepare the current_data_point\n",
    "            current_data_point = {}\n",
    "            current_data_point[\"file_name\"] = file_name\n",
    "            current_data_point[\"image_id\"] = image_id\n",
    "            current_data_point[\"ann_id\"] = ann_id\n",
    "            current_data_point[\"label\"] = label\n",
    "            current_data_point[\"label_list\"] = label_list\n",
    "            current_data_point[\"sentence\"] = expression\n",
    "            current_data_point[\"sent_id\"] = sent_id\n",
    "            current_data_point[\"split\"] = select_split\n",
    "            mmf_refcoco_plus.append(current_data_point)"
   ]
  },
  {
   "cell_type": "code",
   "execution_count": 14,
   "id": "6ac89179",
   "metadata": {},
   "outputs": [
    {
     "name": "stdout",
     "output_type": "stream",
     "text": [
      "4683\n"
     ]
    }
   ],
   "source": [
    "print(len(mmf_refcoco_plus))"
   ]
  },
  {
   "cell_type": "code",
   "execution_count": 15,
   "id": "563a7330",
   "metadata": {},
   "outputs": [],
   "source": [
    "output_data_path = os.path.join(\"/home/zmykevin/fb_intern/data/mmf_data/datasets/refcoco/default/annotations\", \"refcoco_plus_testB.jsonl\")\n",
    "with open(output_data_path, 'w') as outfile:\n",
    "    for entry in mmf_refcoco_plus:\n",
    "        json.dump(entry, outfile)\n",
    "        outfile.write('\\n')"
   ]
  },
  {
   "cell_type": "code",
   "execution_count": 16,
   "id": "de17c842",
   "metadata": {},
   "outputs": [],
   "source": [
    "import torch"
   ]
  },
  {
   "cell_type": "code",
   "execution_count": 40,
   "id": "dee714b8",
   "metadata": {},
   "outputs": [],
   "source": [
    "A = torch.ones([5000,7], dtype=torch.int32)\n",
    "B = torch.ones([5000], dtype=torch.int32)"
   ]
  },
  {
   "cell_type": "code",
   "execution_count": 41,
   "id": "133a66cb",
   "metadata": {},
   "outputs": [
    {
     "name": "stdout",
     "output_type": "stream",
     "text": [
      "torch.Size([5000, 7])\n",
      "torch.Size([5000])\n"
     ]
    }
   ],
   "source": [
    "print(A.size())\n",
    "print(B.size())"
   ]
  },
  {
   "cell_type": "code",
   "execution_count": 43,
   "id": "ebf637c7",
   "metadata": {},
   "outputs": [
    {
     "name": "stdout",
     "output_type": "stream",
     "text": [
      "tensor(35000.)\n"
     ]
    }
   ],
   "source": [
    "correct = (A == B.unsqueeze(1)).sum().float()\n",
    "print(correct)"
   ]
  },
  {
   "cell_type": "code",
   "execution_count": null,
   "id": "b1e7b6ef",
   "metadata": {},
   "outputs": [],
   "source": []
  }
 ],
 "metadata": {
  "kernelspec": {
   "display_name": "mmf",
   "language": "python",
   "name": "mmf"
  },
  "language_info": {
   "codemirror_mode": {
    "name": "ipython",
    "version": 3
   },
   "file_extension": ".py",
   "mimetype": "text/x-python",
   "name": "python",
   "nbconvert_exporter": "python",
   "pygments_lexer": "ipython3",
   "version": "3.7.10"
  }
 },
 "nbformat": 4,
 "nbformat_minor": 5
}
