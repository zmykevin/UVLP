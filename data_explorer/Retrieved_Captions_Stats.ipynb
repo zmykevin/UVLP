{
 "cells": [
  {
   "cell_type": "code",
   "execution_count": 3,
   "id": "0a9e0eb5",
   "metadata": {},
   "outputs": [],
   "source": [
    "import numpy as np\n",
    "import json\n",
    "from tqdm import tqdm\n",
    "import os"
   ]
  },
  {
   "cell_type": "code",
   "execution_count": 4,
   "id": "8af01169",
   "metadata": {},
   "outputs": [
    {
     "ename": "FileNotFoundError",
     "evalue": "[Errno 2] No such file or directory: '/cc_objects_captions.json'",
     "output_type": "error",
     "traceback": [
      "\u001b[0;31m---------------------------------------------------------------------------\u001b[0m",
      "\u001b[0;31mFileNotFoundError\u001b[0m                         Traceback (most recent call last)",
      "\u001b[0;32m<ipython-input-4-eeda4fff142a>\u001b[0m in \u001b[0;36m<module>\u001b[0;34m\u001b[0m\n\u001b[1;32m      5\u001b[0m     \u001b[0msbert_retrieved_captions\u001b[0m \u001b[0;34m=\u001b[0m \u001b[0mjson\u001b[0m\u001b[0;34m.\u001b[0m\u001b[0mload\u001b[0m\u001b[0;34m(\u001b[0m\u001b[0mf\u001b[0m\u001b[0;34m)\u001b[0m\u001b[0;34m\u001b[0m\u001b[0;34m\u001b[0m\u001b[0m\n\u001b[1;32m      6\u001b[0m \u001b[0;34m\u001b[0m\u001b[0m\n\u001b[0;32m----> 7\u001b[0;31m \u001b[0;32mwith\u001b[0m \u001b[0mopen\u001b[0m\u001b[0;34m(\u001b[0m\u001b[0mos\u001b[0m\u001b[0;34m.\u001b[0m\u001b[0mpath\u001b[0m\u001b[0;34m.\u001b[0m\u001b[0mjoin\u001b[0m\u001b[0;34m(\u001b[0m\u001b[0mdata_path\u001b[0m\u001b[0;34m,\u001b[0m \u001b[0;34m\"/cc_objects_captions.json\"\u001b[0m\u001b[0;34m)\u001b[0m\u001b[0;34m,\u001b[0m \u001b[0;34m\"r\"\u001b[0m\u001b[0;34m)\u001b[0m \u001b[0;32mas\u001b[0m \u001b[0mf\u001b[0m\u001b[0;34m:\u001b[0m\u001b[0;34m\u001b[0m\u001b[0;34m\u001b[0m\u001b[0m\n\u001b[0m\u001b[1;32m      8\u001b[0m     \u001b[0mcc_objects_captions\u001b[0m \u001b[0;34m=\u001b[0m \u001b[0mjson\u001b[0m\u001b[0;34m.\u001b[0m\u001b[0mload\u001b[0m\u001b[0;34m(\u001b[0m\u001b[0mf\u001b[0m\u001b[0;34m)\u001b[0m\u001b[0;34m\u001b[0m\u001b[0;34m\u001b[0m\u001b[0m\n",
      "\u001b[0;31mFileNotFoundError\u001b[0m: [Errno 2] No such file or directory: '/cc_objects_captions.json'"
     ]
    }
   ],
   "source": [
    "#load the sbert retrieved caption file\n",
    "data_path= \"/home/zmykevin/fb_intern/data/mingyang_data/CC\"\n",
    "retrieved_data_path = os.path.join(data_path, \"captions_retrieved_bertembedding_top10_sorted.json\")\n",
    "with open(retrieved_data_path, \"r\") as f:\n",
    "    sbert_retrieved_captions = json.load(f)\n",
    "    \n",
    "with open(os.path.join(data_path, \"/cc_objects_captions.json\"), \"r\") as f:\n",
    "    cc_objects_captions = json.load(f)"
   ]
  },
  {
   "cell_type": "code",
   "execution_count": 11,
   "id": "82b5397b",
   "metadata": {},
   "outputs": [],
   "source": [
    "#Load the annotation data\n"
   ]
  },
  {
   "cell_type": "code",
   "execution_count": 4,
   "id": "0bec8a82",
   "metadata": {},
   "outputs": [
    {
     "name": "stderr",
     "output_type": "stream",
     "text": [
      "100%|██████████| 3116254/3116254 [00:36<00:00, 85464.84it/s]\n"
     ]
    }
   ],
   "source": [
    "total_unique_captions = {}\n",
    "total_retrieved_unique_captions = {}\n",
    "for k, v in tqdm(cc_objects_captions.items()):\n",
    "    image_id = k\n",
    "    retrieved_caption_ids = sbert_retrieved_captions.get(k, None)\n",
    "    if retrieved_caption_ids is None:\n",
    "        break\n",
    "    \n",
    "    retrieved_captions = [cc_objects_captions[x][\"caption\"] for x in retrieved_caption_ids]\n",
    "    current_caption = v[\"caption\"]\n",
    "    \n",
    "    total_unique_captions[current_caption] = True\n",
    "    for x in retrieved_captions:\n",
    "        total_retrieved_unique_captions[x] = True\n",
    "\n",
    "    "
   ]
  },
  {
   "cell_type": "code",
   "execution_count": 5,
   "id": "0b44e31c",
   "metadata": {},
   "outputs": [
    {
     "name": "stdout",
     "output_type": "stream",
     "text": [
      "2219340\n",
      "517264\n"
     ]
    }
   ],
   "source": [
    "print(len(total_unique_captions))\n",
    "print(len(total_retrieved_unique_captions))"
   ]
  },
  {
   "cell_type": "code",
   "execution_count": 6,
   "id": "0259d7a7",
   "metadata": {},
   "outputs": [
    {
     "data": {
      "text/plain": [
       "0.23307109320789063"
      ]
     },
     "execution_count": 6,
     "metadata": {},
     "output_type": "execute_result"
    }
   ],
   "source": [
    "len(total_retrieved_unique_captions)/len(total_unique_captions)"
   ]
  },
  {
   "cell_type": "markdown",
   "id": "dc9fbe2c",
   "metadata": {},
   "source": [
    "20% or 10%"
   ]
  }
 ],
 "metadata": {
  "kernelspec": {
   "display_name": "Python 3",
   "language": "python",
   "name": "python3"
  },
  "language_info": {
   "codemirror_mode": {
    "name": "ipython",
    "version": 3
   },
   "file_extension": ".py",
   "mimetype": "text/x-python",
   "name": "python",
   "nbconvert_exporter": "python",
   "pygments_lexer": "ipython3",
   "version": "3.7.10"
  }
 },
 "nbformat": 4,
 "nbformat_minor": 5
}
