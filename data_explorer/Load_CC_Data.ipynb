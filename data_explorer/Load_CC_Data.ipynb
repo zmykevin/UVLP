{
 "cells": [
  {
   "cell_type": "code",
   "execution_count": 1,
   "id": "ranking-slovenia",
   "metadata": {},
   "outputs": [],
   "source": [
    "import numpy as np\n",
    "import lmdb\n",
    "import os\n",
    "import pickle\n",
    "import torch\n",
    "# from mmf.utils.file_io import PathManager\n",
    "from iopath.common.file_io import PathManager as pm\n",
    "\n",
    "import matplotlib.image as mpimg\n",
    "import matplotlib.pyplot as plt\n",
    "import random\n",
    "from tqdm import tqdm\n",
    "import json\n",
    "PathManager = pm()"
   ]
  },
  {
   "cell_type": "code",
   "execution_count": 9,
   "id": "starting-notification",
   "metadata": {},
   "outputs": [
    {
     "name": "stdout",
     "output_type": "stream",
     "text": [
      "259596\n"
     ]
    }
   ],
   "source": [
    "# data_path = \"/fsx/lyuchen2/vilt_dataset/large_experiments/cmd/cc/validation\"\n",
    "\n",
    "# img = mpimg.imread(os.path.join(data_path, \"640130504\"))\n",
    "# plt.imshow(img)\n",
    "# val_sample = np.load(os.path.join(data_path, \"2661647049\"), allow_pickle=True)\n",
    "data_path = \"/home/zmykevin/fb_intern/data/mmf_data/datasets/cc/defaults/annotations/train_vinvl_bookcorpus_retrieved_sorted_all_nps_8.npy\"\n",
    "#data_path = \"/home/zmykevin/fb_intern/data/mmf_data/datasets/cc/defaults/annotations/train_vinvl_bc_retrieved_6.npy\"\n",
    "annotation = np.load(data_path, allow_pickle=True)\n",
    "print(len(annotation))"
   ]
  },
  {
   "cell_type": "code",
   "execution_count": 10,
   "id": "crazy-endorsement",
   "metadata": {},
   "outputs": [
    {
     "name": "stderr",
     "output_type": "stream",
     "text": [
      "100%|██████████████████████████████████████████████████████████████████████████████████████████████████████████████████████████████████████████████████████████████████████████████████████████████| 259596/259596 [00:03<00:00, 83314.37it/s]\n"
     ]
    }
   ],
   "source": [
    "new_annotation = []\n",
    "with open(\"/home/zmykevin/fb_intern/data/mingyang_data/CC/cc_objects_id.json\", \"r\") as f:\n",
    "    object_ids = json.load(f)\n",
    "for x in tqdm(annotation):\n",
    "    #print(x)\n",
    "    y = x.copy()\n",
    "    current_object_ids = [object_ids[x] for x in y[\"objects\"]]\n",
    "    y[\"objects_ids\"] = current_object_ids\n",
    "    new_annotation.append(y)\n",
    "    #break\n",
    "#print(new_annotation)\n",
    "#     for y in  x[\"objects\"]:\n",
    "#         object_dict[y] = True"
   ]
  },
  {
   "cell_type": "code",
   "execution_count": 11,
   "id": "a4c54ca8",
   "metadata": {},
   "outputs": [],
   "source": [
    "with open(\"/home/zmykevin/fb_intern/data/mmf_data/datasets/cc/defaults/annotations/train_vinvl_bc_retrieved_8.npy\", \"wb\") as f:\n",
    "    np.save(f, new_annotation)"
   ]
  },
  {
   "cell_type": "code",
   "execution_count": 13,
   "id": "18ab2fb0",
   "metadata": {},
   "outputs": [
    {
     "ename": "NameError",
     "evalue": "name 'object_dict' is not defined",
     "output_type": "error",
     "traceback": [
      "\u001b[0;31m---------------------------------------------------------------------------\u001b[0m",
      "\u001b[0;31mNameError\u001b[0m                                 Traceback (most recent call last)",
      "\u001b[0;32m/tmp/ipykernel_46952/4122545327.py\u001b[0m in \u001b[0;36m<module>\u001b[0;34m\u001b[0m\n\u001b[0;32m----> 1\u001b[0;31m \u001b[0mprint\u001b[0m\u001b[0;34m(\u001b[0m\u001b[0mlen\u001b[0m\u001b[0;34m(\u001b[0m\u001b[0mobject_dict\u001b[0m\u001b[0;34m.\u001b[0m\u001b[0mkeys\u001b[0m\u001b[0;34m(\u001b[0m\u001b[0;34m)\u001b[0m\u001b[0;34m)\u001b[0m\u001b[0;34m)\u001b[0m\u001b[0;34m\u001b[0m\u001b[0;34m\u001b[0m\u001b[0m\n\u001b[0m\u001b[1;32m      2\u001b[0m \u001b[0mprint\u001b[0m\u001b[0;34m(\u001b[0m\u001b[0mobject_dict\u001b[0m\u001b[0;34m.\u001b[0m\u001b[0mkeys\u001b[0m\u001b[0;34m(\u001b[0m\u001b[0;34m)\u001b[0m\u001b[0;34m)\u001b[0m\u001b[0;34m\u001b[0m\u001b[0;34m\u001b[0m\u001b[0m\n",
      "\u001b[0;31mNameError\u001b[0m: name 'object_dict' is not defined"
     ]
    }
   ],
   "source": [
    "print(len(object_dict.keys()))\n",
    "print(object_dict.keys())"
   ]
  },
  {
   "cell_type": "code",
   "execution_count": 6,
   "id": "premier-toyota",
   "metadata": {},
   "outputs": [
    {
     "name": "stdout",
     "output_type": "stream",
     "text": [
      "14561\n"
     ]
    }
   ],
   "source": [
    "print(len(val_annotation))"
   ]
  },
  {
   "cell_type": "code",
   "execution_count": 4,
   "id": "funky-inspiration",
   "metadata": {},
   "outputs": [
    {
     "name": "stdout",
     "output_type": "stream",
     "text": [
      "{'image_id': 3318333, 'captions': ['author : a life in photography -- in pictures']}\n"
     ]
    }
   ],
   "source": [
    "print(val_annotation[0])"
   ]
  },
  {
   "cell_type": "code",
   "execution_count": 5,
   "id": "neutral-newcastle",
   "metadata": {},
   "outputs": [
    {
     "name": "stdout",
     "output_type": "stream",
     "text": [
      "<class 'int'>\n"
     ]
    }
   ],
   "source": [
    "print(type(val_annotation[1]['image_id']))"
   ]
  },
  {
   "cell_type": "code",
   "execution_count": 2,
   "id": "embedded-ireland",
   "metadata": {},
   "outputs": [],
   "source": [
    "class PaddedFasterRCNNFeatureReader:\n",
    "    def __init__(self, max_loc):\n",
    "        self.max_loc = max_loc\n",
    "        self.first = True\n",
    "        self.take_item = False\n",
    "\n",
    "    def _load(self, image_feat_path):\n",
    "        image_info = {}\n",
    "        image_info[\"features\"] = load_feat(image_feat_path)\n",
    "\n",
    "        info_path = \"{}_info.npy\".format(image_feat_path.split(\".npy\")[0])\n",
    "        if PathManager.exists(info_path):\n",
    "            image_info.update(load_feat(info_path).item())\n",
    "\n",
    "        return image_info\n",
    "\n",
    "    def read(self, image_feat_path):\n",
    "        image_info = self._load(image_feat_path)\n",
    "        if self.first:\n",
    "            self.first = False\n",
    "            if (\n",
    "                image_info[\"features\"].size == 1\n",
    "                and \"image_feat\" in image_info[\"features\"].item()\n",
    "            ):\n",
    "                self.take_item = True\n",
    "\n",
    "        image_feature = image_info[\"features\"]\n",
    "#         print(image_info[\"features\"].size)\n",
    "        if self.take_item:\n",
    "            item = image_info[\"features\"].item()\n",
    "            if \"image_text\" in item:\n",
    "                image_info[\"image_text\"] = item[\"image_text\"]\n",
    "                image_info[\"is_ocr\"] = item[\"image_bbox_source\"]\n",
    "                image_feature = item[\"image_feat\"]\n",
    "\n",
    "            if \"info\" in item:\n",
    "                if \"image_text\" in item[\"info\"]:\n",
    "                    image_info.update(item[\"info\"])\n",
    "                image_feature = item[\"feature\"]\n",
    "\n",
    "        # Handle case of features with class probs\n",
    "        if (\n",
    "            image_info[\"features\"].size == 1\n",
    "            and \"features\" in image_info[\"features\"].item()\n",
    "        ):\n",
    "            item = image_info[\"features\"].item()\n",
    "            image_feature = item[\"features\"]\n",
    "            image_info[\"image_height\"] = item[\"image_height\"]\n",
    "            image_info[\"image_width\"] = item[\"image_width\"]\n",
    "\n",
    "            # Resize these to self.max_loc\n",
    "            image_loc, _ = image_feature.shape\n",
    "            image_info[\"cls_prob\"] = np.zeros(\n",
    "                (self.max_loc, item[\"cls_prob\"].shape[1]), dtype=np.float32\n",
    "            )\n",
    "            image_info[\"cls_prob\"][0:image_loc,] = item[\"cls_prob\"][: self.max_loc, :]\n",
    "            image_info[\"bbox\"] = np.zeros(\n",
    "                (self.max_loc, item[\"bbox\"].shape[1]), dtype=np.float32\n",
    "            )\n",
    "            image_info[\"bbox\"][0:image_loc,] = item[\"bbox\"][: self.max_loc, :]\n",
    "            image_info[\"num_boxes\"] = item[\"num_boxes\"]\n",
    "\n",
    "        # Handle the case of ResNet152 features\n",
    "        if len(image_feature.shape) > 2:\n",
    "            shape = image_feature.shape\n",
    "            image_feature = image_feature.reshape(-1, shape[-1])\n",
    "\n",
    "        image_loc, image_dim = image_feature.shape\n",
    "        tmp_image_feat = np.zeros((self.max_loc, image_dim), dtype=np.float32)\n",
    "        tmp_image_feat[0:image_loc,] = image_feature[: self.max_loc, :]  # noqa\n",
    "        image_feature = torch.from_numpy(tmp_image_feat)\n",
    "\n",
    "        del image_info[\"features\"]\n",
    "        image_info[\"max_features\"] = torch.tensor(image_loc, dtype=torch.long)\n",
    "        return image_feature, image_info\n",
    "\n",
    "\n",
    "class LMDBFeatureReader(PaddedFasterRCNNFeatureReader):\n",
    "    def __init__(self, max_loc, base_path):\n",
    "        super().__init__(max_loc)\n",
    "        self.db_path = base_path\n",
    "\n",
    "        if not PathManager.exists(self.db_path):\n",
    "            raise RuntimeError(\n",
    "                \"{} path specified for LMDB features doesn't exists.\".format(\n",
    "                    self.db_path\n",
    "                )\n",
    "            )\n",
    "        self.env = None\n",
    "\n",
    "    def _init_db(self):\n",
    "        self.env = lmdb.open(\n",
    "            self.db_path,\n",
    "            subdir=os.path.isdir(self.db_path),\n",
    "            readonly=True,\n",
    "            lock=False,\n",
    "            readahead=False,\n",
    "            meminit=False,\n",
    "        )\n",
    "        with self.env.begin(write=False, buffers=True) as txn:\n",
    "            self.image_ids = pickle.loads(txn.get(b\"keys\"))\n",
    "            self.image_id_indices = {\n",
    "                self.image_ids[i]: i for i in range(0, len(self.image_ids))\n",
    "            }\n",
    "\n",
    "    def _load(self, image_file_path):\n",
    "        #print(\"env is: {}\".format(self.env))\n",
    "        if self.env is None:\n",
    "            #print(\"initialize db\")\n",
    "            self._init_db()\n",
    "\n",
    "        split = os.path.relpath(image_file_path, self.db_path).split(\".npy\")[0]\n",
    "\n",
    "        try:\n",
    "            image_id = int(split.split(\"_\")[-1])\n",
    "            # Try fetching to see if it actually exists otherwise fall back to\n",
    "            # default\n",
    "            img_id_idx = self.image_id_indices[str(image_id).encode()]\n",
    "        except (ValueError, KeyError):\n",
    "            # The image id is complex or involves folder, use it directly\n",
    "            image_id = str(split).encode()\n",
    "            img_id_idx = self.image_id_indices[image_id]\n",
    "\n",
    "        with self.env.begin(write=False, buffers=True) as txn:\n",
    "            image_info = pickle.loads(txn.get(self.image_ids[img_id_idx]))\n",
    "\n",
    "        return image_info"
   ]
  },
  {
   "cell_type": "code",
   "execution_count": 6,
   "id": "charming-temperature",
   "metadata": {},
   "outputs": [],
   "source": [
    "base_path = \"/fsx/zmykevin/data/mmf_data/datasets/cc/defaults/features/lmdbs/cc_vinvl_train_0.lmdb\""
   ]
  },
  {
   "cell_type": "code",
   "execution_count": 7,
   "id": "retained-adams",
   "metadata": {},
   "outputs": [],
   "source": [
    "#Load the Image Feature\n",
    "feature_reader = LMDBFeatureReader(30, base_path)"
   ]
  },
  {
   "cell_type": "code",
   "execution_count": 8,
   "id": "excellent-interview",
   "metadata": {},
   "outputs": [
    {
     "ename": "KeyError",
     "evalue": "b'cc_0'",
     "output_type": "error",
     "traceback": [
      "\u001b[0;31m---------------------------------------------------------------------------\u001b[0m",
      "\u001b[0;31mKeyError\u001b[0m                                  Traceback (most recent call last)",
      "\u001b[0;32m<ipython-input-2-eb255613712a>\u001b[0m in \u001b[0;36m_load\u001b[0;34m(self, image_file_path)\u001b[0m\n\u001b[1;32m    117\u001b[0m             \u001b[0;31m# default\u001b[0m\u001b[0;34m\u001b[0m\u001b[0;34m\u001b[0m\u001b[0;34m\u001b[0m\u001b[0m\n\u001b[0;32m--> 118\u001b[0;31m             \u001b[0mimg_id_idx\u001b[0m \u001b[0;34m=\u001b[0m \u001b[0mself\u001b[0m\u001b[0;34m.\u001b[0m\u001b[0mimage_id_indices\u001b[0m\u001b[0;34m[\u001b[0m\u001b[0mstr\u001b[0m\u001b[0;34m(\u001b[0m\u001b[0mimage_id\u001b[0m\u001b[0;34m)\u001b[0m\u001b[0;34m.\u001b[0m\u001b[0mencode\u001b[0m\u001b[0;34m(\u001b[0m\u001b[0;34m)\u001b[0m\u001b[0;34m]\u001b[0m\u001b[0;34m\u001b[0m\u001b[0;34m\u001b[0m\u001b[0m\n\u001b[0m\u001b[1;32m    119\u001b[0m         \u001b[0;32mexcept\u001b[0m \u001b[0;34m(\u001b[0m\u001b[0mValueError\u001b[0m\u001b[0;34m,\u001b[0m \u001b[0mKeyError\u001b[0m\u001b[0;34m)\u001b[0m\u001b[0;34m:\u001b[0m\u001b[0;34m\u001b[0m\u001b[0;34m\u001b[0m\u001b[0m\n",
      "\u001b[0;31mKeyError\u001b[0m: b'0'",
      "\nDuring handling of the above exception, another exception occurred:\n",
      "\u001b[0;31mKeyError\u001b[0m                                  Traceback (most recent call last)",
      "\u001b[0;32m<ipython-input-8-4ff8aa2c0816>\u001b[0m in \u001b[0;36m<module>\u001b[0;34m\u001b[0m\n\u001b[0;32m----> 1\u001b[0;31m \u001b[0mfeats\u001b[0m\u001b[0;34m,\u001b[0m \u001b[0minfo\u001b[0m \u001b[0;34m=\u001b[0m \u001b[0mfeature_reader\u001b[0m\u001b[0;34m.\u001b[0m\u001b[0mread\u001b[0m\u001b[0;34m(\u001b[0m\u001b[0;34m\"/fsx/zmykevin/data/mmf_data/datasets/cc/defaults/features/lmdbs/cc_vinvl_train_0.lmdb/cc_0.npy\"\u001b[0m\u001b[0;34m)\u001b[0m\u001b[0;34m\u001b[0m\u001b[0;34m\u001b[0m\u001b[0m\n\u001b[0m",
      "\u001b[0;32m<ipython-input-2-eb255613712a>\u001b[0m in \u001b[0;36mread\u001b[0;34m(self, image_feat_path)\u001b[0m\n\u001b[1;32m     16\u001b[0m \u001b[0;34m\u001b[0m\u001b[0m\n\u001b[1;32m     17\u001b[0m     \u001b[0;32mdef\u001b[0m \u001b[0mread\u001b[0m\u001b[0;34m(\u001b[0m\u001b[0mself\u001b[0m\u001b[0;34m,\u001b[0m \u001b[0mimage_feat_path\u001b[0m\u001b[0;34m)\u001b[0m\u001b[0;34m:\u001b[0m\u001b[0;34m\u001b[0m\u001b[0;34m\u001b[0m\u001b[0m\n\u001b[0;32m---> 18\u001b[0;31m         \u001b[0mimage_info\u001b[0m \u001b[0;34m=\u001b[0m \u001b[0mself\u001b[0m\u001b[0;34m.\u001b[0m\u001b[0m_load\u001b[0m\u001b[0;34m(\u001b[0m\u001b[0mimage_feat_path\u001b[0m\u001b[0;34m)\u001b[0m\u001b[0;34m\u001b[0m\u001b[0;34m\u001b[0m\u001b[0m\n\u001b[0m\u001b[1;32m     19\u001b[0m         \u001b[0;32mif\u001b[0m \u001b[0mself\u001b[0m\u001b[0;34m.\u001b[0m\u001b[0mfirst\u001b[0m\u001b[0;34m:\u001b[0m\u001b[0;34m\u001b[0m\u001b[0;34m\u001b[0m\u001b[0m\n\u001b[1;32m     20\u001b[0m             \u001b[0mself\u001b[0m\u001b[0;34m.\u001b[0m\u001b[0mfirst\u001b[0m \u001b[0;34m=\u001b[0m \u001b[0;32mFalse\u001b[0m\u001b[0;34m\u001b[0m\u001b[0;34m\u001b[0m\u001b[0m\n",
      "\u001b[0;32m<ipython-input-2-eb255613712a>\u001b[0m in \u001b[0;36m_load\u001b[0;34m(self, image_file_path)\u001b[0m\n\u001b[1;32m    120\u001b[0m             \u001b[0;31m# The image id is complex or involves folder, use it directly\u001b[0m\u001b[0;34m\u001b[0m\u001b[0;34m\u001b[0m\u001b[0;34m\u001b[0m\u001b[0m\n\u001b[1;32m    121\u001b[0m             \u001b[0mimage_id\u001b[0m \u001b[0;34m=\u001b[0m \u001b[0mstr\u001b[0m\u001b[0;34m(\u001b[0m\u001b[0msplit\u001b[0m\u001b[0;34m)\u001b[0m\u001b[0;34m.\u001b[0m\u001b[0mencode\u001b[0m\u001b[0;34m(\u001b[0m\u001b[0;34m)\u001b[0m\u001b[0;34m\u001b[0m\u001b[0;34m\u001b[0m\u001b[0m\n\u001b[0;32m--> 122\u001b[0;31m             \u001b[0mimg_id_idx\u001b[0m \u001b[0;34m=\u001b[0m \u001b[0mself\u001b[0m\u001b[0;34m.\u001b[0m\u001b[0mimage_id_indices\u001b[0m\u001b[0;34m[\u001b[0m\u001b[0mimage_id\u001b[0m\u001b[0;34m]\u001b[0m\u001b[0;34m\u001b[0m\u001b[0;34m\u001b[0m\u001b[0m\n\u001b[0m\u001b[1;32m    123\u001b[0m \u001b[0;34m\u001b[0m\u001b[0m\n\u001b[1;32m    124\u001b[0m         \u001b[0;32mwith\u001b[0m \u001b[0mself\u001b[0m\u001b[0;34m.\u001b[0m\u001b[0menv\u001b[0m\u001b[0;34m.\u001b[0m\u001b[0mbegin\u001b[0m\u001b[0;34m(\u001b[0m\u001b[0mwrite\u001b[0m\u001b[0;34m=\u001b[0m\u001b[0;32mFalse\u001b[0m\u001b[0;34m,\u001b[0m \u001b[0mbuffers\u001b[0m\u001b[0;34m=\u001b[0m\u001b[0;32mTrue\u001b[0m\u001b[0;34m)\u001b[0m \u001b[0;32mas\u001b[0m \u001b[0mtxn\u001b[0m\u001b[0;34m:\u001b[0m\u001b[0;34m\u001b[0m\u001b[0;34m\u001b[0m\u001b[0m\n",
      "\u001b[0;31mKeyError\u001b[0m: b'cc_0'"
     ]
    }
   ],
   "source": [
    "feats, info = feature_reader.read(\"/fsx/zmykevin/data/mmf_data/datasets/cc/defaults/features/lmdbs/cc_vinvl_train_0.lmdb/cc_0.npy\")"
   ]
  },
  {
   "cell_type": "code",
   "execution_count": 28,
   "id": "breathing-organization",
   "metadata": {},
   "outputs": [
    {
     "name": "stdout",
     "output_type": "stream",
     "text": [
      "torch.Size([30, 2048])\n"
     ]
    }
   ],
   "source": [
    "print(feats.size())"
   ]
  },
  {
   "cell_type": "code",
   "execution_count": 24,
   "id": "daily-contrary",
   "metadata": {},
   "outputs": [
    {
     "name": "stdout",
     "output_type": "stream",
     "text": [
      "dict_keys(['image_id', 'feature_path', 'image_height', 'image_width', 'num_boxes', 'objects', 'bbox', 'cls_prob', 'max_features'])\n"
     ]
    }
   ],
   "source": [
    "print(info.keys())"
   ]
  },
  {
   "cell_type": "code",
   "execution_count": 55,
   "id": "romantic-immigration",
   "metadata": {},
   "outputs": [
    {
     "name": "stdout",
     "output_type": "stream",
     "text": [
      "0\n"
     ]
    }
   ],
   "source": [
    "print(info['image_id'])"
   ]
  },
  {
   "cell_type": "code",
   "execution_count": 56,
   "id": "substantial-possible",
   "metadata": {},
   "outputs": [
    {
     "name": "stdout",
     "output_type": "stream",
     "text": [
      "cc_00000000\n"
     ]
    }
   ],
   "source": [
    "print(info['feature_path'])"
   ]
  },
  {
   "cell_type": "code",
   "execution_count": 54,
   "id": "raising-plain",
   "metadata": {},
   "outputs": [
    {
     "name": "stdout",
     "output_type": "stream",
     "text": [
      "60\n"
     ]
    }
   ],
   "source": [
    "print(len(info['objects']))"
   ]
  },
  {
   "cell_type": "code",
   "execution_count": 33,
   "id": "parental-salem",
   "metadata": {},
   "outputs": [
    {
     "name": "stdout",
     "output_type": "stream",
     "text": [
      "(1601,)\n"
     ]
    }
   ],
   "source": [
    "print(info['cls_prob'][0].shape)"
   ]
  },
  {
   "cell_type": "code",
   "execution_count": 34,
   "id": "golden-album",
   "metadata": {},
   "outputs": [
    {
     "name": "stdout",
     "output_type": "stream",
     "text": [
      "tensor(100)\n"
     ]
    }
   ],
   "source": [
    "print(info['max_features'])"
   ]
  },
  {
   "cell_type": "code",
   "execution_count": 29,
   "id": "healthy-victory",
   "metadata": {},
   "outputs": [
    {
     "name": "stdout",
     "output_type": "stream",
     "text": [
      "['author : a life in photography -- in pictures', 'https://i.pinimg.com/736x/66/01/6c/66016c3ba27c0e04f39e2bd81a934e3e--anita-ekberg-bob-hope.jpg']\n"
     ]
    }
   ],
   "source": [
    "import csv\n",
    "original_cc_val_path = \"/data/home/zmykevin/vinvl_data/CC/Validation_GCC-1.1.0-Validation.tsv\"\n",
    "val = []\n",
    "with open(original_cc_val_path) as fd:\n",
    "    rd = csv.reader(fd, delimiter=\"\\t\", quotechar='\"')\n",
    "    for row in rd:\n",
    "        val.append(row)\n",
    "print(val)"
   ]
  },
  {
   "cell_type": "code",
   "execution_count": 53,
   "id": "american-typing",
   "metadata": {},
   "outputs": [],
   "source": [
    "#Load the npy file\n"
   ]
  },
  {
   "cell_type": "code",
   "execution_count": 54,
   "id": "dc4c3628",
   "metadata": {},
   "outputs": [
    {
     "name": "stdout",
     "output_type": "stream",
     "text": [
      "{'image_id': 3318333, 'captions': ['a blind boy with a piano']}\n"
     ]
    }
   ],
   "source": [
    "print(val_vinvl[0])"
   ]
  },
  {
   "cell_type": "code",
   "execution_count": 4,
   "id": "47c5a563",
   "metadata": {},
   "outputs": [],
   "source": [
    "import json\n",
    "#load the retrieved caption file\n",
    "retrieved_data_path = \"/data/home/zmykevin/vinvl_data/CC/captions_retrieved_bertembedding_bookcorpus_sorted_top100.json\"\n",
    "with open(retrieved_data_path, \"r\") as f:\n",
    "    retrieved_captions = json.load(f)\n",
    "    \n",
    "with open(\"/data/home/zmykevin/vinvl_data/CC/bookcorpus_sentences.json\", \"r\") as f:\n",
    "    bookcorpus_captions = json.load(f)\n",
    "\n",
    "with open(\"/data/home/zmykevin/vinvl_data/CC/cc_objects_captions.json\", \"r\") as f:\n",
    "    cc_objects_captions = json.load(f)\n",
    "#print(\"finish loading the captions\")\n",
    "with open(\"/fsx/zmykevin/data/mmf_data/datasets/cc/defaults/annotations/cc_objects_id.json\", \"r\") as f:\n",
    "    object_ids = json.load(f)"
   ]
  },
  {
   "cell_type": "code",
   "execution_count": 3,
   "id": "5a620780",
   "metadata": {},
   "outputs": [
    {
     "name": "stdout",
     "output_type": "stream",
     "text": [
      "3116254\n",
      "14024119\n"
     ]
    }
   ],
   "source": [
    "print(len(cc_objects_captions))\n",
    "print(len(bookcorpus_captions))"
   ]
  },
  {
   "cell_type": "code",
   "execution_count": 18,
   "id": "d525225f",
   "metadata": {},
   "outputs": [
    {
     "name": "stderr",
     "output_type": "stream",
     "text": [
      "100%|██████████| 259957/259957 [02:32<00:00, 1699.96it/s]\n"
     ]
    },
    {
     "name": "stdout",
     "output_type": "stream",
     "text": [
      "train_vinvl_bookcorpus_retrieved_sorted_all_top100_0.npy\n"
     ]
    },
    {
     "name": "stderr",
     "output_type": "stream",
     "text": [
      "100%|██████████| 259795/259795 [02:04<00:00, 2089.86it/s]\n"
     ]
    },
    {
     "name": "stdout",
     "output_type": "stream",
     "text": [
      "train_vinvl_bookcorpus_retrieved_sorted_all_top100_1.npy\n"
     ]
    },
    {
     "name": "stderr",
     "output_type": "stream",
     "text": [
      "100%|██████████| 259835/259835 [01:55<00:00, 2252.51it/s]\n"
     ]
    },
    {
     "name": "stdout",
     "output_type": "stream",
     "text": [
      "train_vinvl_bookcorpus_retrieved_sorted_all_top100_2.npy\n"
     ]
    },
    {
     "name": "stderr",
     "output_type": "stream",
     "text": [
      "100%|██████████| 779454/779454 [06:37<00:00, 1959.36it/s]  \n"
     ]
    },
    {
     "name": "stdout",
     "output_type": "stream",
     "text": [
      "train_vinvl_bookcorpus_retrieved_sorted_all_top100_3.npy\n"
     ]
    },
    {
     "name": "stderr",
     "output_type": "stream",
     "text": [
      "100%|██████████| 259496/259496 [01:16<00:00, 3404.15it/s]\n"
     ]
    },
    {
     "name": "stdout",
     "output_type": "stream",
     "text": [
      "train_vinvl_bookcorpus_retrieved_sorted_all_top100_6.npy\n"
     ]
    },
    {
     "name": "stderr",
     "output_type": "stream",
     "text": [
      "100%|██████████| 259436/259436 [02:11<00:00, 1970.67it/s]\n"
     ]
    },
    {
     "name": "stdout",
     "output_type": "stream",
     "text": [
      "train_vinvl_bookcorpus_retrieved_sorted_all_top100_7.npy\n"
     ]
    },
    {
     "name": "stderr",
     "output_type": "stream",
     "text": [
      "100%|██████████| 259596/259596 [02:00<00:00, 2159.39it/s]\n"
     ]
    },
    {
     "name": "stdout",
     "output_type": "stream",
     "text": [
      "train_vinvl_bookcorpus_retrieved_sorted_all_top100_8.npy\n"
     ]
    },
    {
     "name": "stderr",
     "output_type": "stream",
     "text": [
      "100%|██████████| 764124/764124 [04:06<00:00, 3094.66it/s] \n"
     ]
    },
    {
     "name": "stdout",
     "output_type": "stream",
     "text": [
      "train_vinvl_bookcorpus_retrieved_sorted_all_top100_9.npy\n"
     ]
    }
   ],
   "source": [
    "from tqdm import tqdm\n",
    "index_list = [0,1,2,3,6,7,8,9]\n",
    "\n",
    "#print(len(retrieved_captions))\n",
    "for index in index_list:\n",
    "    data_path = \"/fsx/zmykevin/data/mmf_data/datasets/cc/defaults/annotations\"\n",
    "    npy_path = os.path.join(data_path, \"train_vinvl_{}.npy\".format(index))\n",
    "    val_vinvl = np.load(npy_path, allow_pickle=True)\n",
    "    #print(val_vinvl[0])\n",
    "    sbert_retrieved_vinvl = []\n",
    "    #for x in val_vinvl:\n",
    "    #for i in range(0, len(val_vinvl), 5):\n",
    "    for x in tqdm(val_vinvl):\n",
    "        #x = val_vinvl[i]\n",
    "        #print(x)\n",
    "        current_image_id = x['image_id']\n",
    "        #print(x[\"captions\"])\n",
    "        retrieved_caption_ids = retrieved_captions.get(str(current_image_id), None)\n",
    "        if retrieved_caption_ids is not None:\n",
    "            retrieved_caption_ids = retrieved_caption_ids[:10]\n",
    "            #assert len(retrieved_caption_ids) <= 5 and len(retrieved_caption_ids) >= 1\n",
    "            #current_retrieved_captions = x[\"captions\"]\n",
    "            #current_retrieved_captions = [cc_objects_captions[i]['caption'] for i in retrieved_caption_ids]\n",
    "            current_retrieved_captions = [bookcorpus_captions[i]['caption'] for i in retrieved_caption_ids]\n",
    "            #current_retrieved_caption = cc_objects_captions[retrieved_caption_ids[0]]['caption']\n",
    "            #current_retrieved_caption = cc_objects_captions[str(current_image_id)]['objects']\n",
    "            current_object_list = cc_objects_captions[str(current_image_id)]['object_list']\n",
    "            current_object_ids = [object_ids[x] for x in current_object_list]\n",
    "            for cr_caption in current_retrieved_captions:\n",
    "                sbert_retrieved_vinvl.append({'image_id':current_image_id, 'captions':[cr_caption], 'objects':current_object_list, 'objects_ids':current_object_ids})\n",
    "#         break\n",
    "#     break\n",
    "    \n",
    "    #Save the data to target\n",
    "    with open(os.path.join(data_path, \"train_vinvl_bookcorpus_retrieved_sorted_all_top10_{}.npy\".format(index)), \"wb\") as f:\n",
    "        print(\"train_vinvl_bookcorpus_retrieved_sorted_all_top10_{}.npy\".format(index))\n",
    "        np.save(f, sbert_retrieved_vinvl)"
   ]
  },
  {
   "cell_type": "code",
   "execution_count": 6,
   "id": "ee9a0b5b",
   "metadata": {},
   "outputs": [
    {
     "name": "stdout",
     "output_type": "stream",
     "text": [
      "{'shirt': 0, 'balcony': 1, 'car': 2, 'van': 3, 'sign': 4, 'bus': 5, 'pant': 6, 'roof': 7, 'boat': 8, 'street': 9, 'road': 10, 'person': 11, 'door': 12, 'window': 13, 'hat': 14, 'building': 15, 'man': 16, 'hair': 17, 'leg': 18, 'picture': 19, 'face': 20, 'top': 21, 'woman': 22, 'poster': 23, 'neck': 24, 'dress': 25, 'arm': 26, 'hand': 27, 'microphone': 28, 'drum': 29, 'skirt': 30, 'wall': 31, 'shoe': 32, 'tripod': 33, 'girl': 34, 'bag': 35, 'scarf': 36, 'rug': 37, 'handle': 38, 'tub': 39, 'fence': 40, 'piano': 41, 'drawer': 42, 'glasses': 43, 'closet': 44, 'clothing': 45, 'cabinet': 46, 'floor': 47, 'jean': 48, 'hanger': 49, 'bathtub': 50, 'clothes': 51, 'pillow': 52, 'tile': 53, 'shadow': 54, 'brick': 55, 'fireplace': 56, 'bar': 57, 'word': 58, 'letter': 59, 'bench': 60, 'ceiling': 61, 'log': 62, 'fire': 63, 'room': 64, 'desk': 65, 'light': 66, 'ledge': 67, 'string': 68, 'sky': 69, 'foot': 70, 'boot': 71, 'handlebar': 72, 'necklace': 73, 'label': 74, 'bottle': 75, 'jacket': 76, 'bracelet': 77, 'watch': 78, 'logo': 79, 'lid': 80, 'chair': 81, 'seat': 82, 'chain': 83, 'head': 84, 'suit': 85, 'line': 86, 'finger': 87, 'earring': 88, 'boy': 89, 'flower': 90, 'ball': 91, 'tree': 92, 'pole': 93, 'bush': 94, 'child': 95, 'heart': 96, 'design': 97, 'sun': 98, 'board': 99, 'dot': 100, 'wing': 101, 'sock': 102, 'helmet': 103, 'number': 104, 'strap': 105, 'ground': 106, 'nose': 107, 'jersey': 108, 'snow': 109, 'uniform': 110, 'stand': 111, 'glove': 112, 'airport': 113, 'wheel': 114, 'street light': 115, 'airplane': 116, 'truck': 117, 'tail': 118, 'field': 119, 'parking lot': 120, 'engine': 121, 'fuselage': 122, 'jeep': 123, 'runway': 124, 'dirt': 125, 'ponytail': 126, 'cap': 127, 'sweatshirt': 128, 'sweater': 129, 'leaf': 130, 'mouth': 131, 'ear': 132, 'eyebrow': 133, 'beard': 134, 'eye': 135, 'mustache': 136, 'forehead': 137, 'pocket': 138, 'family': 139, 'pot': 140, 'sleeve': 141, 'curtain': 142, 'christmas tree': 143, 'flag': 144, 'couch': 145, 'purse': 146, 'air conditioner': 147, 'sandal': 148, 'ornament': 149, 'baby': 150, 'sofa': 151, 'carpet': 152, 'dome': 153, 'pillar': 154, 'stripe': 155, 'lipstick': 156, 'smile': 157, 'tank top': 158, 'lip': 159, 'group': 160, 'mountain': 161, 'cloud': 162, 'tire': 163, 'bicycle': 164, 'gravel': 165, 'bike': 166, 'animal': 167, 'grass': 168, 'deer': 169, 'collar': 170, 'tie': 171, 'knot': 172, 'laptop': 173, 'book': 174, 'teeth': 175, 'touchpad': 176, 'keyboard': 177, 'button': 178, 'envelope': 179, 'paper': 180, 'computer': 181, 'key': 182, 'thumb': 183, 'food': 184, 'plate': 185, 'bread': 186, 'cabbage': 187, 'salad': 188, 'lemon': 189, 'lettuce': 190, 'sandwich': 191, 'table': 192, 'meat': 193, 'dial': 194, 'fan': 195, 'box': 196, 'object': 197, 'chimney': 198, 'plant': 199, 'stair': 200, 'clock': 201, 'toy': 202, 'spot': 203, 'horn': 204, 'chin': 205, 'muzzle': 206, 'rope': 207, 'giraffe': 208, 'nostril': 209, 'rock': 210, 'water': 211, 'hill': 212, 'stream': 213, 'house': 214, 'dog': 215, 'paw': 216, 'tablet': 217, 'antenna': 218, 'ring': 219, 'football': 220, 'player': 221, 'sneaker': 222, 'crowd': 223, 'bridge': 224, 'dock': 225, 'fur': 226, 'bamboo': 227, 'whisker': 228, 'stick': 229, 'straw': 230, 'kitten': 231, 'cat': 232, 'branch': 233, 'backpack': 234, 'railing': 235, 'city': 236, 'short': 237, 'fire escape': 238, 'vest': 239, 'bowl': 240, 'rim': 241, 'reflector': 242, 'petal': 243, 'bird': 244, 'circle': 245, 'snowflake': 246, 'diamond': 247, 'symbol': 248, 'star': 249, 'guitar': 250, 'speaker': 251, 'ketchup': 252, 'banana': 253, 'cherry': 254, 'cowboy hat': 255, 'writing': 256, 'band': 257, 'strawberry': 258, 'cake': 259, 'cup': 260, 'badge': 261, 'name': 262, 'fender': 263, 'cord': 264, 'wire': 265, 'mirror': 266, 'zebra': 267, 'mane': 268, 'umbrella': 269, 'cushion': 270, 'planter': 271, 'column': 272, 'coffee table': 273, 'pool': 274, 'coat': 275, 'background': 276, 'rose': 277, 'porch': 278, 'sidewalk': 279, 'lawn': 280, 'beach': 281, 'land': 282, 'shore': 283, 'river': 284, 'shoelace': 285, 'buoy': 286, 'lion': 287, 'bear': 288, 'tiger': 289, 'curb': 290, 'headlight': 291, 'vehicle': 292, 'sheep': 293, 'post': 294, 'gate': 295, 'wood': 296, 'tree trunk': 297, 'banner': 298, 'park': 299, 'fountain': 300, 'hedge': 301, 'steeple': 302, 'trunk': 303, 'kite': 304, 'american flag': 305, 'glass': 306, 'ice': 307, 'drink': 308, 'base': 309, 'step': 310, 'screen': 311, 'countertop': 312, 'menu': 313, 'lamp': 314, 'candle': 315, 'napkin': 316, 'stool': 317, 'metal': 318, 'front': 319, 'grill': 320, 'cab': 321, 'tractor': 322, 'belt': 323, 'fish': 324, 'arrow': 325, 'knee': 326, 'visor': 327, 'horizon': 328, 'frame': 329, 'heel': 330, 'windshield': 331, 'reflection': 332, 'license plate': 333, 'hood': 334, 'triangle': 335, 'drawing': 336, 'ski': 337, 'watermark': 338, 'tongue': 339, 'bat': 340, 'wallet': 341, 'phone': 342, 'case': 343, 'whipped cream': 344, 'cupcake': 345, 'couple': 346, 'body': 347, 'hut': 348, 'archway': 349, 'doorway': 350, 'tower': 351, 'sunflower': 352, 'card': 353, 'figurine': 354, 'block': 355, 'frosting': 356, 'vase': 357, 'bouquet': 358, 'knob': 359, 'television': 360, 'picture frame': 361, 'towel': 362, 'horse': 363, 'cell phone': 364, 'stage': 365, 'costume': 366, 'smoke': 367, 'boardwalk': 368, 'beam': 369, 'wrist': 370, 'tray': 371, 'area rug': 372, 'shade': 373, 'saucer': 374, 'coffee': 375, 'knife': 376, 'dessert': 377, 'utensil': 378, 'liquid': 379, 'fork': 380, 'corn': 381, 'shower': 382, 'tap': 383, 'sink': 384, 'toothbrush': 385, 'harbor': 386, 'mast': 387, 'sail': 388, 'sailboat': 389, 'figure': 390, 'bolt': 391, 'screw': 392, 'panel': 393, 'photo': 394, 'page': 395, 'suspender': 396, 'ski poles': 397, 'tshirt': 398, 'castle': 399, 'store': 400, 'globe': 401, 'stroller': 402, 'mannequin': 403, 'text': 404, 'crosswalk': 405, 'tea': 406, 'bottom': 407, 'skyscraper': 408, 'barrier': 409, 'zipper': 410, 'camera': 411, 'hoodie': 412, 'track': 413, 'trash can': 414, 'rail': 415, 'cow': 416, 'bull': 417, 'forest': 418, 'stone': 419, 'pie': 420, 'surface': 421, 'sculpture': 422, 'brick wall': 423, 'goat': 424, 'cuff': 425, 'elbow': 426, 'spoon': 427, 'bang': 428, 'border': 429, 'coffee cup': 430, 'mug': 431, 'snowman': 432, 'herd': 433, 'onion': 434, 'dumpster': 435, 'computer mouse': 436, 'binder': 437, 'light bulb': 438, 'driveway': 439, 'bow': 440, 'ribbon': 441, 'tank': 442, 'hook': 443, 'blade': 444, 'scissors': 445, 'trousers': 446, 'cookie': 447, 'donut': 448, 'platter': 449, 'muffin': 450, 'cross': 451, 'patch': 452, 'wave': 453, 'ocean': 454, 'pen': 455, 'pencil': 456, 'end': 457, 'sword': 458, 'cover': 459, 'stump': 460, 'oar': 461, 'ripple': 462, 'paddle': 463, 'tent': 464, 'kickstand': 465, 'motorcycle': 466, 'surfboard': 467, 'sticker': 468, 'steering wheel': 469, 'skull': 470, 'elephant': 471, 'shelf': 472, 'waist': 473, 'apron': 474, 'buckle': 475, 'kitchen': 476, 'lady': 477, 'sand': 478, 'painting': 479, 'goatee': 480, 'item': 481, 'blind': 482, 'paint': 483, 'bow tie': 484, 'tag': 485, 'headband': 486, 'stadium': 487, 'yellow': 488, 'parachute': 489, 'crown': 490, 'shoulder': 491, 'art': 492, 'train': 493, 'worker': 494, 'machine': 495, 'crane': 496, 'statue': 497, 'basket': 498, 'lampshade': 499, 'undershirt': 500, 'hoof': 501, 'apple': 502, 'hamburger': 503, 'stem': 504, 'garden': 505, 'pavement': 506, 'berry': 507, 'bud': 508, 'mushroom': 509, 'hole': 510, 'juice': 511, 'fruit': 512, 'faucet': 513, 'hay': 514, 'owl': 515, 'butterfly': 516, 'frog': 517, 'palm tree': 518, 'magnet': 519, 'strip': 520, 'trash': 521, 'vegetable': 522, 'broccoli': 523, 'cucumber': 524, 'spinach': 525, 'pepper': 526, 'brim': 527, 'facial hair': 528, 'town': 529, 'island': 530, 'powdered sugar': 531, 'coin': 532, 'blanket': 533, 'chest': 534, 'bikini': 535, 'eagle': 536, 'feather': 537, 'candle holder': 538, 'layer': 539, 'cart': 540, 'apple logo': 541, 'coconut': 542, 'highway': 543, 'icon': 544, 'patio': 545, 'swimming pool': 546, 'lamp shade': 547, 'cable': 548, 'cane': 549, 'home': 550, 'pipe': 551, 'yard': 552, 'gazebo': 553, 'structure': 554, 'saddle': 555, 'sunset': 556, 'bun': 557, 'sunglasses': 558, 'kid': 559, 'container': 560, 'jar': 561, 'dish': 562, 'pitcher': 563, 'jug': 564, 'beer': 565, 'beverage': 566, 'bride': 567, 'chandelier': 568, 'dinosaur': 569, 'claw': 570, 'canoe': 571, 'advertisement': 572, 'soccer ball': 573, 'path': 574, 'fog': 575, 'tusk': 576, 'back': 577, 'switch': 578, 'hair dryer': 579, 'mouse': 580, 'telephone': 581, 'arch': 582, 'decoration': 583, 'wine': 584, 'doll': 585, 'display': 586, 'chalkboard': 587, 'balloon': 588, 'coaster': 589, 'wet suit': 590, 'wetsuit': 591, 'foam': 592, 'wake': 593, 'rack': 594, 'skateboard': 595, 'plastic': 596, 'tattoo': 597, 'canopy': 598, 'barrel': 599, 'fin': 600, 'tube': 601, 'dragon': 602, 'pumpkin': 603, 'bumper': 604, 'wiper': 605, 'moss': 606, 'cage': 607, 'swim trunks': 608, 'walkway': 609, 'leash': 610, 'pepper shaker': 611, 'french fries': 612, 'pickle': 613, 'shaker': 614, 'packet': 615, 'bark': 616, 'cheek': 617, 'staircase': 618, 'vent': 619, 'shrimp': 620, 'potato': 621, 'egg': 622, 'chicken': 623, 'tomato': 624, 'rice': 625, 'carrot': 626, 'noodle': 627, 'fingernail': 628, 'nail': 629, 'bed': 630, 'remote': 631, 'snout': 632, 'seaweed': 633, 'living room': 634, 'ottoman': 635, 'tights': 636, 'zoo': 637, 'pane': 638, 'ski pole': 639, 'goggles': 640, 'racket': 641, 'baseball bat': 642, 'dugout': 643, 'image': 644, 'suitcase': 645, 'monkey': 646, 'stop sign': 647, 'stop': 648, 'fire hydrant': 649, 'court': 650, 'graffiti': 651, 'shed': 652, 'tennis ball': 653, 'chocolate': 654, 'candy': 655, 'lantern': 656, 'cone': 657, 'twig': 658, 'breast': 659, 'beak': 660, 'cleat': 661, 'control panel': 662, 'aircraft': 663, 'bin': 664, 'mask': 665, 'tape': 666, 'footprint': 667, 'robe': 668, 'marker': 669, 'tail light': 670, 'awning': 671, 'fern': 672, 'frisbee': 673, 'eggplant': 674, 'pea': 675, 'cauliflower': 676, 'shutter': 677, 'teddy bear': 678, 'suv': 679, 'puddle': 680, 'market': 681, 'spectator': 682, 'bleacher': 683, 'can': 684, 'bucket': 685, 'stove': 686, 'date': 687, 'cloth': 688, 'gun': 689, 'ladder': 690, 'cream': 691, 'ice cream': 692, 'palm': 693, 'ham': 694, 'cheese': 695, 'chip': 696, 'toothpick': 697, 'shower curtain': 698, 'cooler': 699, 'dispenser': 700, 'roll': 701, 'refrigerator': 702, 'propeller': 703, 'baseball': 704, 'wig': 705, 'cd': 706, 'toilet': 707, 'net': 708, 'nightstand': 709, 'tool': 710, 'weed': 711, 'cutting board': 712, 'bottle cap': 713, 'crab': 714, 'light fixture': 715, 'bathroom': 716, 'outlet': 717, 'lock': 718, 'monitor': 719, 'computer monitor': 720, 'headboard': 721, 'spire': 722, 'carton': 723, 'cereal': 724, 'ship': 725, 'game': 726, 'oven': 727, 'microwave': 728, 'seal': 729, 'emblem': 730, 'french fry': 731, 'holder': 732, 'butter': 733, 'sauce': 734, 'overall': 735, 'tulip': 736, 'placemat': 737, 'mat': 738, 'numeral': 739, 'hour hand': 740, 'grape': 741, 'half': 742, 'peach': 743, 'watermelon': 744, 'door handle': 745, 'tarp': 746, 'duck': 747, 'skylight': 748, 'lot': 749, 'church': 750, 'lanyard': 751, 'beanie': 752, 'groom': 753, 'lamp post': 754, 'bandage': 755, 'tennis racket': 756, 'wristband': 757, 'steak': 758, 'harness': 759, 'calf': 760, 'parking meter': 761, 'meter': 762, 'drain': 763, 'lighter': 764, 'garage': 765, 'pond': 766, 'tablecloth': 767, 'deck': 768, 'fire extinguisher': 769, 'umpire': 770, 'baseball field': 771, 'catcher': 772, 'mound': 773, 'green': 774, 'bug': 775, 'character': 776, 'ramp': 777, 'playground': 778, 'bell': 779, 'shop': 780, 'hammer': 781, 'milk': 782, 'cardboard': 783, 'trail': 784, 'printer': 785, 'cellphone': 786, 'gown': 787, 'celery': 788, 'serving tray': 789, 'baseboard': 790, 'scene': 791, 'hillside': 792, 'pier': 793, 'garbage can': 794, 'gear': 795, 'pedal': 796, 'spoke': 797, 'handbag': 798, 'paper towel': 799, 'washer': 800, 'soldier': 801, 'exhaust pipe': 802, 'flower pot': 803, 'pig': 804, 'dashboard': 805, 'headphone': 806, 'furniture': 807, 'newspaper': 808, 'pasta': 809, 'chopstick': 810, 'toothpaste': 811, 'brush': 812, 'rainbow': 813, 'skier': 814, 'snowboard': 815, 'briefcase': 816, 'vanity': 817, 'door knob': 818, 'rod': 819, 'doorknob': 820, 'pizza': 821, 'dresser': 822, 'soap': 823, 'platform': 824, 'station': 825, 'entrance': 826, 'valley': 827, 'inside': 828, 'pony': 829, 'donkey': 830, 'booth': 831, 'toe': 832, 'cactus': 833, 'waterfall': 834, 'billboard': 835, 'pastry': 836, 'baseball glove': 837, 'mitt': 838, 'baseball player': 839, 'raisin': 840, 'stove top': 841, 'coffee maker': 842, 'tarmac': 843, 'mattress': 844, 'cabin': 845, 'icing': 846, 'stapler': 847, 'steam': 848, 'stain': 849, 'easel': 850, 'armrest': 851, 'peak': 852, 'fence post': 853, 'swan': 854, 'orange': 855, 'nut': 856, 'bandana': 857, 'blender': 858, 'radiator': 859, 'foil': 860, 'display case': 861, 'bathing suit': 862, 'fire truck': 863, 'calculator': 864, 'magazine': 865, 'office': 866, 'pan': 867, 'hallway': 868, 'luggage': 869, 'traffic light': 870, 'wallpaper': 871, 'rabbit': 872, 'pear': 873, 'map': 874, 'mango': 875, 'sled': 876, 'streamer': 877, 'folder': 878, 'water bottle': 879, 'hubcap': 880, 'peel': 881, 'crumb': 882, 'stack': 883, 'ceiling fan': 884, 'bean': 885, 'life jacket': 886, 'bedroom': 887, 'bunch': 888, 'moped': 889, 'earphone': 890, 'window sill': 891, 'pad': 892, 'silverware': 893, 'ankle': 894, 'seed': 895, 'pebble': 896, 'cigarette': 897, 'zucchini': 898, 'olive': 899, 'parrot': 900, 'chef': 901, 'team': 902, 'sheet': 903, 'name tag': 904, 'concrete': 905, 'trash bin': 906, 'stuffed animal': 907, 'bedspread': 908, 'shower head': 909, 'bracket': 910, 'pathway': 911, 'scoreboard': 912, 'computer keyboard': 913, 'whiteboard': 914, 'entertainment center': 915, 'swimsuit': 916, 'pine tree': 917, 'air vent': 918, 'face mask': 919, 'distance': 920, 'spatula': 921, 'plaque': 922, 'traffic': 923, 'crust': 924, 'bridle': 925, 'canal': 926, 'alarm clock': 927, 'legging': 928, 'ipod': 929, 'moon': 930, 'soup': 931, 'bar stool': 932, 'moustache': 933, 'hot dog': 934, 'teapot': 935, 'batter': 936, 'croissant': 937, 'shower door': 938, 'bubble': 939, 'bank': 940, 'lake': 941, 'notebook': 942, 'lapel': 943, 'air': 944, 'black': 945, 'outfit': 946, 'scooter': 947, 'rain': 948, 'pile': 949, 'pancake': 950, 'blueberry': 951, 'crate': 952, 'sea': 953, 'gift': 954, 'lime': 955, 'wrapper': 956, 'shingle': 957, 'lettering': 958, 'snowboarder': 959, 'slope': 960, 'device': 961, 'dishwasher': 962, 'garnish': 963, 'canister': 964, 'bacon': 965, 'yolk': 966, 'fry': 967, 'knee pad': 968, 'mud': 969, 'penguin': 970, 'light switch': 971, 'wine bottle': 972, 'blood': 973, 'slat': 974, 'lighthouse': 975, 'mailbox': 976, 'cockpit': 977, 'projector': 978, 'power line': 979, 'bib': 980, 'wheelchair': 981, 'motor': 982, 'helicopter': 983, 'radio': 984, 'desert': 985, 'officer': 986, 'blouse': 987, 'panda': 988, 'slice': 989, 'burner': 990, 'toaster': 991, 'backsplash': 992, 'flip flop': 993, 'puppy': 994, 'telephone pole': 995, 'portrait': 996, 'mantle': 997, 'barn': 998, 'drape': 999, 'herb': 1000, 'parsley': 1001, 'trailer': 1002, 'heater': 1003, 'raft': 1004, 'flame': 1005, 'coffee mug': 1006, 'end table': 1007, 'plug': 1008, 'tunnel': 1009, 'alley': 1010, 'restaurant': 1011, 'toiletry': 1012, 'splash': 1013, 'mixer': 1014, 'monument': 1015, 'bead': 1016, 'coffee pot': 1017, 'tennis court': 1018, 'ostrich': 1019, 'ambulance': 1020, 'kayak': 1021, 'clock tower': 1022, 'night': 1023, 'bookshelf': 1024, 'bookcase': 1025, 'grate': 1026, 'cliff': 1027, 'latch': 1028, 'wagon': 1029, 'windowsill': 1030, 'tea kettle': 1031, 'kettle': 1032, 'beach chair': 1033, 'towel rack': 1034, 'toilet tank': 1035, 'pajama': 1036, 'garlic': 1037, 'smoke stack': 1038, 'train car': 1039, 'manhole': 1040, 'baseball cap': 1041, 'bunny': 1042, 'turkey': 1043, 'dough': 1044, 'produce': 1045, 'dining room': 1046, 'seagull': 1047, 'mouse pad': 1048, 'pony tail': 1049, 'polar bear': 1050, 'garage door': 1051, 'mulch': 1052, 'hose': 1053, 'audience': 1054, 'muffler': 1055, 'blackberry': 1056, 'life preserver': 1057, 'washing machine': 1058, 'pickup truck': 1059, 'ivy': 1060, 'comforter': 1061, 'ski lift': 1062, 'footboard': 1063, 'reign': 1064, 'rider': 1065, 'landing gear': 1066, 'ram': 1067, 'bike rack': 1068, 'home plate': 1069, 'butter knife': 1070, 'tea pot': 1071, 'stairway': 1072, 'radish': 1073, 'tangerine': 1074, 'vine': 1075, 'sprinkle': 1076, 'pouch': 1077, 'notepad': 1078, 'scissor': 1079, 'comb': 1080, 'carriage': 1081, 'sponge': 1082, 'grapefruit': 1083, 'dirt road': 1084, 'charger': 1085, 'floor lamp': 1086, 'pump': 1087, 'museum': 1088, 'daisy': 1089, 'driver': 1090, 'blazer': 1091, 'broom': 1092, 'antelope': 1093, 'melon': 1094, 'skin': 1095, 'surfer': 1096, 'tail feathers': 1097, 'salt shaker': 1098, 'toilet paper': 1099, 'overpass': 1100, 'plumbing': 1101, 'soil': 1102, 'piece': 1103, 'underwear': 1104, 'train station': 1105, 'shovel': 1106, 'shoreline': 1107, 'classroom': 1108, 'boulder': 1109, 'wool': 1110, 'lift': 1111, 'goal': 1112, 'second floor': 1113, 'iphone': 1114, 'topping': 1115, 'trolley': 1116, 'scale': 1117, 'shack': 1118, 'satellite dish': 1119, 'pigeon': 1120, 'limb': 1121, 'condiment': 1122, 'sugar': 1123, 'cracker': 1124, 'macaroni': 1125, 'traffic sign': 1126, 'guard rail': 1127, 'pasture': 1128, 'tortilla': 1129, 'jockey': 1130, 'dryer': 1131, 'tree branch': 1132, 'oven door': 1133, 'tofu': 1134, 'skate park': 1135, 'trick': 1136, 'onion ring': 1137, 'cattle': 1138, 'necktie': 1139, 'signal': 1140, 'package': 1141, 'shampoo': 1142, 'shin guards': 1143, 'oil': 1144, 'tongs': 1145, 'life vest': 1146, 'hurdle': 1147, 'freezer': 1148, 'nest': 1149, 'gas tank': 1150, 'barricade': 1151, 'bus stop': 1152, 'cabinet door': 1153, 'cupboard': 1154, 'apartment': 1155, 'suit jacket': 1156, 'squash': 1157, 'artichoke': 1158, 'kiwi': 1159, 'cement': 1160, 'jumpsuit': 1161, 'fixture': 1162, 'pineapple': 1163, 'scaffolding': 1164, 'pin': 1165, 'pilot': 1166, 'side table': 1167, 'garland': 1168, 'cardboard box': 1169, 'keypad': 1170, 'windshield wiper': 1171, 'passenger': 1172, 'tissue': 1173, 'artwork': 1174, 'table cloth': 1175, 'street sign': 1176, 'overhang': 1177, 'dress shirt': 1178, 'trashcan': 1179, 'stone wall': 1180, 'food truck': 1181, 'soap dish': 1182, 'shin guard': 1183, 'lamb': 1184, 'median': 1185, 'calendar': 1186, 'photograph': 1187, 'soda': 1188, 'shelter': 1189, 'remote control': 1190, 'wrist watch': 1191, 'jet': 1192, 'weather vane': 1193, 'stall': 1194, 'tennis net': 1195, 'quilt': 1196, 'safety jacket': 1197, 'taxi': 1198, 'prong': 1199, 'controller': 1200, 'dining table': 1201, 'traffic cone': 1202, 'front legs': 1203, 'avocado': 1204, 'appliance': 1205, 'gas station': 1206, 'stabilizer': 1207, 'website': 1208, 'tissue box': 1209, 'paper plate': 1210, 'burger': 1211, 'hand towel': 1212, 'picnic table': 1213, 'toaster oven': 1214, 'skater': 1215, 'netting': 1216, 'video camera': 1217, 'aquarium': 1218, 'knife block': 1219, 'basil': 1220, 'asparagus': 1221, 'feeder': 1222, 'mountain range': 1223, 'beet': 1224, 'area': 1225, 'instrument': 1226, 'raspberry': 1227, 'spray': 1228, 'side mirror': 1229, 'roman numeral': 1230, 'sausage': 1231, 'marina': 1232, 'biker': 1233, 'dvd': 1234, 'goose': 1235, 'salt': 1236, 'shrub': 1237, 'slot': 1238, 'stereo': 1239, 'halter': 1240, 'money': 1241, 'shopping bag': 1242, 'urn': 1243, 'sandwhich': 1244, 'courtyard': 1245, 'brownie': 1246, 'trough': 1247, 'beer bottle': 1248, 'receipt': 1249, 'tomato slice': 1250, 'pizza slice': 1251, 'fencing': 1252, 'dressing': 1253, 'bagel': 1254, 'soap dispenser': 1255, 'disc': 1256, 'print': 1257, 'flooring': 1258, 'gravy': 1259, 'kiosk': 1260, 'outfield': 1261, 'office chair': 1262, 'farm': 1263, 'tine': 1264, 'train tracks': 1265, 'giraffe head': 1266, 'clock face': 1267, 'minute hand': 1268, 'ladle': 1269, 'basin': 1270, 'honey': 1271, 'slab': 1272, 'buffalo': 1273, 'bath tub': 1274, 'tennis player': 1275, 'pepperoni': 1276, 'almond': 1277, 'lane': 1278, 'rib': 1279, 'guy': 1280, 'rock wall': 1281, 'handle bars': 1282, 'motorbike': 1283, 'parasail': 1284, 'mitten': 1285, 'asphalt': 1286, 'wii controller': 1287, 'bed frame': 1288, 'parade': 1289, 'electrical outlet': 1290, 'cargo': 1291, 'view': 1292, 'toast': 1293, 'brake light': 1294, 'mousepad': 1295, 'armchair': 1296, 'ad': 1297, 'sack': 1298, 'lounge chair': 1299, 'vending machine': 1300, 'beef': 1301, 'turf': 1302, 'bone': 1303, 'fruit stand': 1304, 'wrist band': 1305, 'birthday cake': 1306, 'instruction': 1307, 'tv stand': 1308, 'spray bottle': 1309, 'terminal': 1310, 'wii': 1311, 'whisk': 1312, 'control': 1313, 'window frame': 1314, 'intersection': 1315, 'mustard': 1316, 'village': 1317, 'snowsuit': 1318, 'desk lamp': 1319, 'tree line': 1320, 'shield': 1321, 'toilet bowl': 1322, 'toilet seat': 1323, 'toilet lid': 1324, 'tennis': 1325, 'spice': 1326, 'battery': 1327, 'enclosure': 1328, 'lotion': 1329, 'pizza cutter': 1330, 'skillet': 1331, 'taxi cab': 1332, 'foot print': 1333, 'tail wing': 1334, 'vane': 1335, 'dvd player': 1336, 'soda can': 1337, 'elbow pad': 1338, 'trash bag': 1339, 'toddler': 1340, 'light pole': 1341, 'flour': 1342, 'powder': 1343, 'peanut': 1344, 'bird cage': 1345, 'sweatband': 1346, 'turbine': 1347, 'snow board': 1348, 'flamingo': 1349, 'match': 1350, 'ox': 1351, 'minivan': 1352, 'door frame': 1353, 'manhole cover': 1354, 'skateboarder': 1355, 'ski pants': 1356, 'veggie': 1357, 'pack': 1358, 'toilet brush': 1359, 'ski boot': 1360, 'kneepad': 1361, 'adult': 1362, 'bus driver': 1363, 'obstacle': 1364, 'yacht': 1365, 'glass door': 1366, 'street lamp': 1367, 'cpu': 1368, 'floret': 1369, 'side window': 1370, 'windshield wipers': 1371, 'luggage cart': 1372, 'mesh': 1373, 'router': 1374, 'outside': 1375, 'train cars': 1376, 'sedan': 1377, 'cub': 1378, 'policeman': 1379, 'price tag': 1380, 'book shelf': 1381, 'banana slice': 1382, 'gazelle': 1383, 'electronics': 1384, 'conductor': 1385, 'locomotive': 1386, 'banana peel': 1387, 'pitchers mound': 1388, 'yogurt': 1389, 'ketchup bottle': 1390, 'blossom': 1391, 'meatball': 1392, 'dip': 1393, 'brocolli': 1394, 'cyclist': 1395, 'pedestrian': 1396, 'soap bottle': 1397, 'parasol': 1398, 'sweet potato': 1399, 'train front': 1400, 'motorcyclist': 1401, 'police officer': 1402, 'jet engine': 1403, 'mountain top': 1404, 'head band': 1405, 'tomato sauce': 1406, 'video game': 1407, 'racer': 1408, 'socket': 1409, 'wii remote': 1410, 'table lamp': 1411, 'biscuit': 1412, 'police car': 1413, 'cowboy': 1414, 'hangar': 1415, 'seasoning': 1416, 'plain': 1417, 'skateboard ramp': 1418, 'neck tie': 1419, 'urinal': 1420, 'light post': 1421, 'cooker': 1422, 'baseball game': 1423, 'storefront': 1424, 'railroad': 1425, 'clock hand': 1426, 'bath towel': 1427, 'female': 1428, 'dirt bike': 1429, 'landscape': 1430, 'clay': 1431, 'decal': 1432, 'caboose': 1433, 'train engine': 1434, 'copyright': 1435, 'coin slot': 1436, 'game controller': 1437, 'photographer': 1438, 'school bus': 1439, 'meal': 1440, 'park bench': 1441, 'tabletop': 1442, 'sign post': 1443, 'skatepark': 1444, 'raincoat': 1445, 'water tank': 1446, 'foliage': 1447, 'bathroom sink': 1448, 'syrup': 1449, 'ski suit': 1450, 'ceiling light': 1451, 'walnut': 1452, 'bicyclist': 1453, 'chili': 1454, 'foreground': 1455, 'employee': 1456, 'roadway': 1457, 'pizza box': 1458, 'glaze': 1459, 'traffic signal': 1460, 'recliner': 1461, 'tennis match': 1462, 'sweatpants': 1463, 'slack': 1464, 'back pack': 1465, 'console': 1466, 'police': 1467, 'mozzarella': 1468, 'hotel': 1469, 'passenger car': 1470, 'computer screen': 1471, 'banana bunch': 1472, 'medicine cabinet': 1473, 'breakfast': 1474, 'soccer player': 1475, 'snow pants': 1476, 'grinder': 1477, 'hotel room': 1478, 'tennis shoe': 1479, 'ski boots': 1480, 'skiis': 1481, 'day': 1482, 'coke': 1483, 'snow suit': 1484, 'baseline': 1485, 'male': 1486, 'surfing': 1487, 'spear': 1488, 'sconce': 1489, 'snack': 1490, 'waste basket': 1491, 'head light': 1492, 'safety cone': 1493, 'rooftop': 1494, 'beach umbrella': 1495, 'plantain': 1496, 'pillowcase': 1497, 'utility pole': 1498, 'range': 1499, 'tail fin': 1500, 'pizza crust': 1501, 'throw pillow': 1502, 'roman numerals': 1503, 'little girl': 1504, 'soccer field': 1505, 'roadside': 1506, 'glass window': 1507, 'baked good': 1508, 'baseball mitt': 1509, 'mixing bowl': 1510}\n"
     ]
    }
   ],
   "source": [
    "with open(\"/fsx/zmykevin/data/mmf_data/datasets/cc/defaults/annotations/cc_objects_id.json\", \"r\") as f:\n",
    "    object_ids = json.load(f)\n",
    "print(object_ids)"
   ]
  },
  {
   "cell_type": "code",
   "execution_count": 13,
   "id": "1fa73c1d",
   "metadata": {},
   "outputs": [
    {
     "name": "stdout",
     "output_type": "stream",
     "text": [
      "14024119\n",
      "14024119\n"
     ]
    }
   ],
   "source": [
    "data_path = \"/fsx/zmykevin/data/mmf_data/datasets/cc/defaults/annotations\"\n",
    "npy_path = os.path.join(data_path, \"train_vinvl_0.npy\")\n",
    "val_vinvl = np.load(npy_path, allow_pickle=True)\n",
    "image_id = val_vinvl[0]['image_id']\n",
    "#print(val_vinvl[0])\n",
    "print(len(bookcorpus_captions))\n",
    "new_val_vinvl = []\n",
    "for x,c in bookcorpus_captions.items():\n",
    "    caption = c['caption']\n",
    "    new_val_vinvl.append({'image_id': image_id, 'captions': [caption]})\n",
    "    #print(c['caption'])\n",
    "    #print(new_val_vinvl)\n",
    "    #break\n",
    "# new_val_vinvl = []\n",
    "# for x in val_vinvl:\n",
    "#     current_image_id = x['image_id']\n",
    "#     current_captions = x['captions'].copy()\n",
    "#     current_object_list = cc_objects_captions[str(current_image_id)]['object_list']\n",
    "#     current_object_ids = [object_ids[x] for x in current_object_list]\n",
    "#     new_val_vinvl.append({'image_id':current_image_id, 'captions':current_captions, 'objects':current_object_list, 'objects_ids':current_object_ids})\n",
    "#     #print(new_val_vinvl)\n",
    "#     #break\n",
    "print(len(new_val_vinvl))\n",
    "with open(os.path.join(data_path, \"train_vinvl_bookcorpus.npy\".format(index)), \"wb\") as f:\n",
    "    np.save(f, new_val_vinvl)\n"
   ]
  },
  {
   "cell_type": "code",
   "execution_count": null,
   "id": "4e00f1c1",
   "metadata": {},
   "outputs": [],
   "source": []
  },
  {
   "cell_type": "code",
   "execution_count": 52,
   "id": "ba58cfcf",
   "metadata": {},
   "outputs": [],
   "source": [
    "#Load the error ids\n",
    "# with open(\"/data/home/zmykevin/vinvl_data/CC/captions_retrieved_sorted_error_ids.json\", \"r\") as f:\n",
    "#     retrieved_captions_errors = json.load(f)\n",
    "# print(len(retrieved_captions_errors))\n",
    "with open(os.path.join(data_path, \"val_vinvl_tfidf_retrieved.npy\"), \"wb\") as f:\n",
    "    np.save(f, tfidf_retrieved_vinvl)"
   ]
  },
  {
   "cell_type": "code",
   "execution_count": null,
   "id": "63d42f77",
   "metadata": {},
   "outputs": [],
   "source": []
  },
  {
   "cell_type": "code",
   "execution_count": null,
   "id": "91558c38",
   "metadata": {},
   "outputs": [],
   "source": []
  },
  {
   "cell_type": "code",
   "execution_count": 15,
   "id": "84597476",
   "metadata": {},
   "outputs": [
    {
     "name": "stdout",
     "output_type": "stream",
     "text": [
      "{'image_id': 0, 'captions': ['man on the street from bus']}\n"
     ]
    }
   ],
   "source": []
  },
  {
   "cell_type": "code",
   "execution_count": 4,
   "id": "1106c3a0",
   "metadata": {},
   "outputs": [
    {
     "name": "stderr",
     "output_type": "stream",
     "text": [
      "100%|██████████| 258858/258858 [01:50<00:00, 2345.40it/s]\n"
     ]
    },
    {
     "name": "stdout",
     "output_type": "stream",
     "text": [
      "write out to train_vinvl_sbert_bc_nps_fixed_0.npy\n"
     ]
    },
    {
     "name": "stderr",
     "output_type": "stream",
     "text": [
      "100%|██████████| 258663/258663 [01:32<00:00, 2797.37it/s]\n"
     ]
    },
    {
     "name": "stdout",
     "output_type": "stream",
     "text": [
      "write out to train_vinvl_sbert_bc_nps_fixed_1.npy\n"
     ]
    },
    {
     "name": "stderr",
     "output_type": "stream",
     "text": [
      "100%|██████████| 258681/258681 [01:30<00:00, 2849.19it/s]\n"
     ]
    },
    {
     "name": "stdout",
     "output_type": "stream",
     "text": [
      "write out to train_vinvl_sbert_bc_nps_fixed_2.npy\n"
     ]
    },
    {
     "name": "stderr",
     "output_type": "stream",
     "text": [
      "100%|██████████| 776072/776072 [04:36<00:00, 2809.46it/s] \n"
     ]
    },
    {
     "name": "stdout",
     "output_type": "stream",
     "text": [
      "write out to train_vinvl_sbert_bc_nps_fixed_3.npy\n"
     ]
    },
    {
     "name": "stderr",
     "output_type": "stream",
     "text": [
      "100%|██████████| 258373/258373 [01:23<00:00, 3081.32it/s]\n"
     ]
    },
    {
     "name": "stdout",
     "output_type": "stream",
     "text": [
      "write out to train_vinvl_sbert_bc_nps_fixed_6.npy\n"
     ]
    },
    {
     "name": "stderr",
     "output_type": "stream",
     "text": [
      "100%|██████████| 258380/258380 [01:19<00:00, 3242.61it/s]\n"
     ]
    },
    {
     "name": "stdout",
     "output_type": "stream",
     "text": [
      "write out to train_vinvl_sbert_bc_nps_fixed_7.npy\n"
     ]
    },
    {
     "name": "stderr",
     "output_type": "stream",
     "text": [
      "100%|██████████| 258457/258457 [01:22<00:00, 3122.64it/s]\n"
     ]
    },
    {
     "name": "stdout",
     "output_type": "stream",
     "text": [
      "write out to train_vinvl_sbert_bc_nps_fixed_8.npy\n"
     ]
    },
    {
     "name": "stderr",
     "output_type": "stream",
     "text": [
      "100%|██████████| 572994/572994 [03:08<00:00, 3042.27it/s]\n"
     ]
    },
    {
     "name": "stdout",
     "output_type": "stream",
     "text": [
      "write out to train_vinvl_sbert_bc_nps_fixed_9.npy\n"
     ]
    }
   ],
   "source": [
    "data_path = \"/fsx/zmykevin/data/mmf_data/datasets/cc/defaults/annotations\"\n",
    "index_list = [0,1,2,3,6,7,8,9]\n",
    "\n",
    "for chunk_id in index_list:\n",
    "    npy_path = os.path.join(data_path, \"train_vinvl_bookcorpus_retrieved_sorted_all_nps_cs{}.npy\".format(chunk_id))\n",
    "    #npy_path = os.path.join(data_path, \"val_vinvl_itm.npy\")\n",
    "    val_vinvl = np.load(npy_path, allow_pickle=True)\n",
    "    #print(val_vinvl[0])\n",
    "    new_val_vinvl = []\n",
    "    for x in tqdm(val_vinvl):\n",
    "        new_x = x.copy()\n",
    "        #new_x.pop(\"object_ids\")\n",
    "        noun_phrases = new_x.pop(\"noun_phrases\")\n",
    "        noun_phrases_text = []\n",
    "        num_candidates = len(noun_phrases)\n",
    "        objects_norep = new_x.pop(\"objects_norep\")\n",
    "        new_objects_norep = {ob_k:[] for ob_k in objects_norep}\n",
    "        for c_np in noun_phrases:\n",
    "            current_np_text = [list(y.keys())[0] for y in c_np]\n",
    "            noun_phrases_text.append(current_np_text)\n",
    "            #get the top scores for each objects\n",
    "            try:\n",
    "                current_scores = np.concatenate([np.expand_dims(list(y.values())[0],axis=0) for y in c_np])\n",
    "                current_max_scores = np.max(current_scores,axis=0)\n",
    "                current_max_scores = (current_max_scores/0.5) * (current_max_scores > 0.5)\n",
    "                current_max_args = np.argmax(current_scores,axis=0)\n",
    "            except:\n",
    "                current_max_scores = np.zeros(len(objects_norep),dtype=np.float32)\n",
    "                current_max_args = np.zeros(len(objects_norep))\n",
    "            \n",
    "            for i, ob_k in enumerate(objects_norep):\n",
    "                new_objects_norep[ob_k].append((current_max_scores[i],current_max_args[i]))\n",
    "\n",
    "\n",
    "            \n",
    "        new_x[\"objects_norep\"] = new_objects_norep\n",
    "        new_x[\"noun_phrases\"] = noun_phrases_text\n",
    "        new_val_vinvl.append(new_x)\n",
    "#         print(new_val_vinvl)\n",
    "#         break\n",
    "#     break\n",
    "        \n",
    "    output_path = os.path.join(data_path, \"train_vinvl_sbert_bc_nps_fixed_{}.npy\".format(chunk_id))\n",
    "    with open(output_path, \"wb\") as f:\n",
    "        print(\"write out to {}\".format(output_path.split(\"/\")[-1]))\n",
    "        np.save(f, new_val_vinvl)\n",
    "\n",
    "#Implementation\n",
    " "
   ]
  },
  {
   "cell_type": "code",
   "execution_count": 5,
   "id": "39183db6",
   "metadata": {},
   "outputs": [
    {
     "name": "stdout",
     "output_type": "stream",
     "text": [
      "write out to train_vinvl_sbert_bc_nps_cs_mini_fixed.npy\n"
     ]
    }
   ],
   "source": [
    "from tqdm import tqdm\n",
    "\n",
    "output_path = os.path.join(data_path, \"train_vinvl_sbert_bc_nps_cs_mini_fixed.npy\")\n",
    "with open(output_path, \"wb\") as f:\n",
    "    print(\"write out to {}\".format(output_path.split(\"/\")[-1]))\n",
    "    np.save(f, new_val_vinvl[:1000])"
   ]
  },
  {
   "cell_type": "code",
   "execution_count": 6,
   "id": "cc1fbd5d",
   "metadata": {},
   "outputs": [
    {
     "name": "stdout",
     "output_type": "stream",
     "text": [
      "{'image_id': 2500650, 'captions': [\"one dude i saw on a poster in my daughter's room had a sweatband on his bald head and an adhesive on his face!\", 'making his way over the plush carpets of the main lobby, dodging the scurrying hotel workers, truthful moved past the service bar outside the grand ballroom, next to which was a sign reading: state of the union reception.', 'a strange looking short man with a beard, a top hat, in a full tuxedo suit is sitting on the far side of the room behind a foldable table.', 'when i looked down the hallway of the ground floor, i saw a man wearing a brown leather jacket along with a visor cap slowly approaching me.', 'dressed in balmain moto jeans, a white v-neck t-shirt, black and grey giuseppe zanotti high-top sneakers, and a grey color block lanvin button down cardigan, \\xa0this man had my heart palpitating before he could even speak a word.'], 'objects': ['handle', 'handle', 'handle', 'background', 'door handle', 'word', 'letter', 'background', 'table', 'letter'], 'objects_norep': {'door handle': [(0.0, 3), (0.0, 1), (0.0, 5), (0.0, 1), (0.0, 3)], 'letter': [(0.0, 2), (0.0, 6), (0.0, 5), (0.0, 0), (0.0, 7)], 'background': [(0.0, 2), (0.0, 1), (0.0, 5), (0.0, 2), (0.0, 1)], 'table': [(0.0, 3), (0.0, 7), (1.3131182, 6), (0.0, 2), (0.0, 1)], 'handle': [(0.0, 6), (0.0, 0), (0.0, 5), (0.0, 0), (0.0, 6)], 'word': [(0.0, 1), (0.0, 0), (0.0, 1), (0.0, 0), (1.8351293, 7)]}, 'noun_phrases': [['one dude', 'i', 'a poster', \"my daughter's room\", 'a sweatband', 'his bald head', 'an adhesive', 'his face'], ['his way', 'the plush carpets', 'the main lobby', 'the scurrying hotel workers', 'the service bar', 'the grand ballroom', 'a sign reading: state', 'the union reception'], ['a strange looking short man', 'a beard', 'a top hat', 'a full tuxedo suit', 'the far side', 'the room', 'a foldable table'], ['i', 'the hallway', 'the ground floor', 'i', 'a man', 'a brown leather jacket', 'a visor cap', 'me'], ['balmain moto jeans', 'a white v-neck t-shirt, black and grey giuseppe', 'high-top sneakers', 'a grey color block lanvin button down cardigan', 'this man', 'my heart', 'he', 'a word']]}\n"
     ]
    }
   ],
   "source": [
    "print(new_val_vinvl[0])"
   ]
  },
  {
   "cell_type": "code",
   "execution_count": null,
   "id": "698b7007",
   "metadata": {},
   "outputs": [],
   "source": []
  }
 ],
 "metadata": {
  "kernelspec": {
   "display_name": "Python 3 (ipykernel)",
   "language": "python",
   "name": "python3"
  },
  "language_info": {
   "codemirror_mode": {
    "name": "ipython",
    "version": 3
   },
   "file_extension": ".py",
   "mimetype": "text/x-python",
   "name": "python",
   "nbconvert_exporter": "python",
   "pygments_lexer": "ipython3",
   "version": "3.7.10"
  }
 },
 "nbformat": 4,
 "nbformat_minor": 5
}
