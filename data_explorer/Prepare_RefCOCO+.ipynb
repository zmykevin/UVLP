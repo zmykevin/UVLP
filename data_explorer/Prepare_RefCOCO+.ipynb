{
 "cells": [
  {
   "cell_type": "code",
   "execution_count": 1,
   "id": "5f02ae33",
   "metadata": {},
   "outputs": [],
   "source": [
    "import os\n",
    "import json\n",
    "#import cPickle as pickle\n",
    "import pickle\n",
    "from tqdm import tqdm\n",
    "import logging\n",
    "\n",
    "import os.path as op"
   ]
  },
  {
   "cell_type": "code",
   "execution_count": 3,
   "id": "05394343",
   "metadata": {},
   "outputs": [],
   "source": [
    "data_path = \"/home/zmykevin/fb_intern/data/vinvl_data/recoco+/refcoco+\"\n",
    "refcoco_plus = json.load(open(os.path.join(data_path, \"instances.json\"), \"r\"))"
   ]
  },
  {
   "cell_type": "code",
   "execution_count": 4,
   "id": "64045893",
   "metadata": {},
   "outputs": [
    {
     "name": "stdout",
     "output_type": "stream",
     "text": [
      "dict_keys(['info', 'images', 'licenses', 'annotations', 'categories'])\n",
      "<class 'list'>\n",
      "<class 'list'>\n",
      "<class 'list'>\n"
     ]
    }
   ],
   "source": [
    "# for k,v in refcoco_plus.items():\n",
    "#     print(k)\n",
    "#     print(v)\n",
    "#     break\n",
    "print(refcoco_plus.keys())\n",
    "print(type(refcoco_plus['images']))\n",
    "print(type(refcoco_plus['annotations']))\n",
    "print(type(refcoco_plus['categories']))"
   ]
  },
  {
   "cell_type": "code",
   "execution_count": 5,
   "id": "04c01f69",
   "metadata": {},
   "outputs": [
    {
     "name": "stdout",
     "output_type": "stream",
     "text": [
      "{'license': 1, 'file_name': 'COCO_train2014_000000098304.jpg', 'coco_url': 'http://mscoco.org/images/98304', 'height': 424, 'width': 640, 'date_captured': '2013-11-21 23:06:41', 'flickr_url': 'http://farm6.staticflickr.com/5062/5896644212_a326e96ea9_z.jpg', 'id': 98304}\n"
     ]
    }
   ],
   "source": [
    "for x in refcoco_plus['images']:\n",
    "    print(x)\n",
    "    break\n",
    "refcoco_plus_image = {}\n",
    "for x in refcoco_plus['images']:\n",
    "    image_id = x[\"id\"]\n",
    "    refcoco_plus_image[image_id] = True"
   ]
  },
  {
   "cell_type": "code",
   "execution_count": 6,
   "id": "1793a18f",
   "metadata": {},
   "outputs": [
    {
     "name": "stdout",
     "output_type": "stream",
     "text": [
      "{'segmentation': [[267.52, 229.75, 265.6, 226.68, 265.79, 223.6, 263.87, 220.15, 263.87, 216.88, 266.94, 217.07, 268.48, 221.3, 272.32, 219.95, 276.35, 220.15, 279.62, 218.03, 283.46, 218.42, 285.0, 220.92, 285.0, 223.22, 284.42, 224.95, 280.96, 225.14, 279.81, 226.48, 281.73, 228.41, 279.43, 229.37, 275.78, 229.17, 273.86, 229.56, 274.24, 232.05, 269.82, 231.67, 267.14, 231.48, 266.75, 228.6]], 'area': 197.29899999999986, 'iscrowd': 0, 'image_id': 98304, 'bbox': [263.87, 216.88, 21.13, 15.17], 'category_id': 18, 'id': 3007}\n"
     ]
    }
   ],
   "source": [
    "for y in refcoco_plus['annotations']:\n",
    "    print(y)\n",
    "    break\n",
    "    \n",
    "refcoco_plus_ann = {}\n",
    "for y in refcoco_plus['annotations']:\n",
    "    ann_id = y['id']\n",
    "    refcoco_plus_ann[ann_id] = {\"bbox\": y['bbox'], \"image_id\": y[\"image_id\"]}\n",
    "#     print(refcoco_plus_ann)\n",
    "#     break"
   ]
  },
  {
   "cell_type": "code",
   "execution_count": 7,
   "id": "9d115ab2",
   "metadata": {},
   "outputs": [
    {
     "name": "stdout",
     "output_type": "stream",
     "text": [
      "19992\n"
     ]
    }
   ],
   "source": [
    "print(len(refcoco_plus['images']))"
   ]
  },
  {
   "cell_type": "code",
   "execution_count": 36,
   "id": "998bfbbd",
   "metadata": {},
   "outputs": [],
   "source": [
    "# for z in refcoco_plus['categories']:\n",
    "#     print(z)\n",
    "#     break"
   ]
  },
  {
   "cell_type": "code",
   "execution_count": 8,
   "id": "8691fcd1",
   "metadata": {},
   "outputs": [],
   "source": [
    "ref_file = os.path.join(data_path, 'refs('+'unc'+').p')\n",
    "#reference = pickle.load(open(ref_file, 'r'))\n",
    "reference = pickle.load(open(ref_file, \"rb\"))"
   ]
  },
  {
   "cell_type": "code",
   "execution_count": 9,
   "id": "5d2db82a",
   "metadata": {},
   "outputs": [
    {
     "name": "stdout",
     "output_type": "stream",
     "text": [
      "<class 'list'>\n"
     ]
    }
   ],
   "source": [
    "print(type(reference))"
   ]
  },
  {
   "cell_type": "code",
   "execution_count": 10,
   "id": "bae2c02b",
   "metadata": {},
   "outputs": [
    {
     "name": "stdout",
     "output_type": "stream",
     "text": [
      "{'sent_ids': [0, 1, 2], 'file_name': 'COCO_train2014_000000581857_16.jpg', 'ann_id': 1719310, 'ref_id': 0, 'image_id': 581857, 'split': 'train', 'sentences': [{'tokens': ['navy', 'blue', 'shirt'], 'raw': 'navy blue shirt', 'sent_id': 0, 'sent': 'navy blue shirt'}, {'tokens': ['woman', 'back', 'in', 'blue'], 'raw': 'woman back in blue', 'sent_id': 1, 'sent': 'woman back in blue'}, {'tokens': ['blue', 'shirt'], 'raw': 'blue shirt', 'sent_id': 2, 'sent': 'blue shirt'}], 'category_id': 1}\n"
     ]
    }
   ],
   "source": [
    "for z in reference:\n",
    "    print(z)\n",
    "    break"
   ]
  },
  {
   "cell_type": "code",
   "execution_count": 11,
   "id": "7b65f7b8",
   "metadata": {},
   "outputs": [
    {
     "name": "stdout",
     "output_type": "stream",
     "text": [
      "19992\n",
      "196737\n",
      "49856\n"
     ]
    }
   ],
   "source": [
    "#Annotation Include: file_name; referring_expression; Ground_truth_Box_Id: \n",
    "print(len(refcoco_plus['images']))\n",
    "print(len(refcoco_plus['annotations']))\n",
    "print(len(reference))"
   ]
  },
  {
   "cell_type": "code",
   "execution_count": 12,
   "id": "38d9fd43",
   "metadata": {},
   "outputs": [
    {
     "name": "stdout",
     "output_type": "stream",
     "text": [
      "['train', 'testB', 'testA', 'val']\n"
     ]
    }
   ],
   "source": [
    "split = []\n",
    "for x in reference:\n",
    "    c_split = x['split']\n",
    "    if c_split not in split:\n",
    "        split.append(c_split)\n",
    "print(split)"
   ]
  },
  {
   "cell_type": "code",
   "execution_count": 13,
   "id": "c61bf784",
   "metadata": {},
   "outputs": [],
   "source": [
    "#Load the COCO VinVL features\n",
    "class TSVFile(object):\n",
    "    def __init__(self, tsv_file, generate_lineidx=False):\n",
    "        self.tsv_file = tsv_file\n",
    "        self.lineidx = op.splitext(tsv_file)[0] + '.lineidx'\n",
    "        self._fp = None\n",
    "        self._lineidx = None\n",
    "        # the process always keeps the process which opens the file. \n",
    "        # If the pid is not equal to the currrent pid, we will re-open the file.\n",
    "        self.pid = None\n",
    "        # generate lineidx if not exist\n",
    "        if not op.isfile(self.lineidx) and generate_lineidx:\n",
    "            generate_lineidx_file(self.tsv_file, self.lineidx)\n",
    "\n",
    "    def __del__(self):\n",
    "        if self._fp:\n",
    "            self._fp.close()\n",
    "\n",
    "    def __str__(self):\n",
    "        return \"TSVFile(tsv_file='{}')\".format(self.tsv_file)\n",
    "\n",
    "    def __repr__(self):\n",
    "        return str(self)\n",
    "\n",
    "    def num_rows(self):\n",
    "        self._ensure_lineidx_loaded()\n",
    "        return len(self._lineidx)\n",
    "\n",
    "    def seek(self, idx):\n",
    "        self._ensure_tsv_opened()\n",
    "        self._ensure_lineidx_loaded()\n",
    "        try:\n",
    "            pos = self._lineidx[idx]\n",
    "        except:\n",
    "            logging.info('{}-{}'.format(self.tsv_file, idx))\n",
    "            raise\n",
    "        self._fp.seek(pos)\n",
    "        return [s.strip() for s in self._fp.readline().split('\\t')]\n",
    "\n",
    "    def seek_first_column(self, idx):\n",
    "        self._ensure_tsv_opened()\n",
    "        self._ensure_lineidx_loaded()\n",
    "        pos = self._lineidx[idx]\n",
    "        self._fp.seek(pos)\n",
    "        return read_to_character(self._fp, '\\t')\n",
    "\n",
    "    def __getitem__(self, index):\n",
    "        return self.seek(index)\n",
    "\n",
    "    def __len__(self):\n",
    "        return self.num_rows()\n",
    "\n",
    "    def _ensure_lineidx_loaded(self):\n",
    "        if self._lineidx is None:\n",
    "            logging.info('loading lineidx: {}'.format(self.lineidx))\n",
    "            with open(self.lineidx, 'r') as fp:\n",
    "                self._lineidx = [int(i.strip()) for i in fp.readlines()]\n",
    "\n",
    "    def _ensure_tsv_opened(self):\n",
    "        if self._fp is None:\n",
    "            self._fp = open(self.tsv_file, 'r')\n",
    "            self.pid = os.getpid()\n",
    "\n",
    "        if self.pid != os.getpid():\n",
    "            logging.info('re-open {} because the process id changed'.format(self.tsv_file))\n",
    "            self._fp = open(self.tsv_file, 'r')\n",
    "            self.pid = os.getpid()\n",
    "            \n",
    "            \n",
    "def prepare_image_keys(tsv):\n",
    "    return [tsv.seek(i)[0] for i in range(tsv.num_rows())]"
   ]
  },
  {
   "cell_type": "code",
   "execution_count": 16,
   "id": "97e80134",
   "metadata": {},
   "outputs": [],
   "source": [
    "coco_data_path = \"/home/zmykevin/fb_intern/data/vinvl_data/coco\"\n",
    "coco_feature_tsv = os.path.join(coco_data_path, \"features.tsv\")\n",
    "coco_prediction_tsv = os.path.join(coco_data_path, \"predictions.tsv\")"
   ]
  },
  {
   "cell_type": "code",
   "execution_count": 17,
   "id": "92d9ccb0",
   "metadata": {},
   "outputs": [],
   "source": [
    "feat_tsv = TSVFile(coco_feature_tsv)\n",
    "pred_tsv = TSVFile(coco_prediction_tsv)"
   ]
  },
  {
   "cell_type": "code",
   "execution_count": 18,
   "id": "91ed4f4c",
   "metadata": {},
   "outputs": [
    {
     "name": "stderr",
     "output_type": "stream",
     "text": [
      "100%|██████████████████████████████████████████████████████████████████████████████████████████████████████████████████████████████████████████████████████████████████████████████████████████████| 123287/123287 [00:02<00:00, 51332.36it/s]"
     ]
    },
    {
     "name": "stdout",
     "output_type": "stream",
     "text": [
      "19992\n"
     ]
    },
    {
     "name": "stderr",
     "output_type": "stream",
     "text": [
      "\n"
     ]
    }
   ],
   "source": [
    "relevant_pred = {}\n",
    "for i in tqdm(range(pred_tsv.num_rows())):\n",
    "    #print(pred_tsv.seek(i))\n",
    "    current_pred = pred_tsv.seek(i)\n",
    "    image_id = int(current_pred[0])\n",
    "    #check if the image_id is in the image list\n",
    "    if refcoco_plus_image.get(image_id, None) is not None:\n",
    "        relevant_pred[image_id] = current_pred[1]\n",
    "        #print(current_pred)\n",
    "        #break\n",
    "print(len(relevant_pred))\n"
   ]
  },
  {
   "cell_type": "code",
   "execution_count": 19,
   "id": "1cadac11",
   "metadata": {},
   "outputs": [],
   "source": [
    "def bb_intersection_over_union(boxA, boxB):\n",
    "    # determine the (x, y)-coordinates of the intersection rectangle\n",
    "    xA = max(boxA[0], boxB[0])\n",
    "    yA = max(boxA[1], boxB[1])\n",
    "    xB = min(boxA[2], boxB[2])\n",
    "    yB = min(boxA[3], boxB[3])\n",
    "\n",
    "    # compute the area of intersection rectangle\n",
    "    interArea = abs(max((xB - xA, 0)) * max((yB - yA), 0))\n",
    "    if interArea == 0:\n",
    "        return 0\n",
    "    # compute the area of both the prediction and ground-truth\n",
    "    # rectangles\n",
    "    boxAArea = abs((boxA[2] - boxA[0]) * (boxA[3] - boxA[1]))\n",
    "    boxBArea = abs((boxB[2] - boxB[0]) * (boxB[3] - boxB[1]))\n",
    "\n",
    "    # compute the intersection over union by taking the intersection\n",
    "    # area and dividing it by the sum of prediction + ground-truth\n",
    "    # areas - the interesection area\n",
    "    iou = interArea / float(boxAArea + boxBArea - interArea)\n",
    "\n",
    "    # return the intersection over union value\n",
    "    return iou"
   ]
  },
  {
   "cell_type": "code",
   "execution_count": 20,
   "id": "7df7faae",
   "metadata": {},
   "outputs": [
    {
     "name": "stderr",
     "output_type": "stream",
     "text": [
      "100%|█████████████████████████████████████████████████████████████████████████████████████████████████████████████████████████████████████████████████████████████████████████████████████████████████| 49856/49856 [00:13<00:00, 3819.30it/s]\n"
     ]
    }
   ],
   "source": [
    "#Load the corresponding vinvl features:\n",
    "split_category = [\"train\", \"testB\", \"testA\", \"val\"]\n",
    "split = \"val\"\n",
    "\n",
    "refcoco_plus_final = []\n",
    "for x in tqdm(reference):\n",
    "    new_data_point = {}\n",
    "    #current_split = x['split']\n",
    "    #Process the data\n",
    "    #if current_split == split:\n",
    "    current_split = x['split']\n",
    "    image_file_name = \"_\".join(x['file_name'].split(\"_\")[:-1])+\".jpg\"\n",
    "    image_id = int(image_file_name.split('_')[2].split('.')[0])\n",
    "    #Find the corresponding annotation\n",
    "    ann_id = x['ann_id']\n",
    "    current_annotation = refcoco_plus_ann[ann_id]\n",
    "    #(xtl,ytl,weidth,height)\n",
    "    #print(current_annotation[\"bbox\"])\n",
    "    gt_bbox = [current_annotation[\"bbox\"][0],current_annotation[\"bbox\"][1],\n",
    "               current_annotation[\"bbox\"][0]+current_annotation[\"bbox\"][2],\n",
    "               current_annotation[\"bbox\"][1]+current_annotation[\"bbox\"][3]\n",
    "              ]\n",
    "        \n",
    "    #print(gt_bbox)\n",
    "    #verify the image id matches\n",
    "    assert current_annotation['image_id'] == image_id\n",
    "    #Get the corresponding vinvl_prediction\n",
    "    vinvl_pred = json.loads(relevant_pred[image_id])\n",
    "    max_iou = 0\n",
    "    max_index = 0\n",
    "    valid_index = []\n",
    "    for i, obj in enumerate(vinvl_pred[\"objects\"]):\n",
    "        candidate_bbox = obj[\"rect\"]\n",
    "        #compute iou\n",
    "        current_iou = bb_intersection_over_union(candidate_bbox, gt_bbox)\n",
    "        if current_iou > max_iou:\n",
    "            max_iou = current_iou\n",
    "            max_index = i\n",
    "        if current_iou > 0.5:\n",
    "            valid_index.append(i)\n",
    "    #Only take the iou larger than 0.5\n",
    "    if max_iou > 0.5 and max_index < 100:\n",
    "        new_data_point[\"file_name\"] = image_file_name\n",
    "        new_data_point[\"image_id\"] = image_id\n",
    "        new_data_point[\"ann_id\"] = ann_id\n",
    "        new_data_point[\"bbox\"] = current_annotation[\"bbox\"]\n",
    "        new_data_point[\"gt_proposal\"] = max_index\n",
    "        new_data_point[\"valid_proposals\"] = valid_index\n",
    "        new_data_point[\"sentences\"] = x[\"sentences\"]\n",
    "        new_data_point[\"split\"] = current_split\n",
    "        refcoco_plus_final.append(new_data_point)\n",
    "    #print(new_data_point)\n",
    "    #break\n",
    "        "
   ]
  },
  {
   "cell_type": "code",
   "execution_count": 21,
   "id": "1541bb46",
   "metadata": {},
   "outputs": [
    {
     "name": "stdout",
     "output_type": "stream",
     "text": [
      "48352\n",
      "24945\n",
      "7\n"
     ]
    }
   ],
   "source": [
    "print(len(refcoco_plus_final))\n",
    "more_gt = 0\n",
    "max_gt = 0\n",
    "for x in refcoco_plus_final:\n",
    "    valid_proposals = x['valid_proposals']\n",
    "    if len(valid_proposals) > 1:\n",
    "        more_gt += 1\n",
    "    if len(valid_proposals) > max_gt:\n",
    "        max_gt = len(valid_proposals)\n",
    "\n",
    "print(more_gt)\n",
    "print(max_gt)\n",
    "        "
   ]
  },
  {
   "cell_type": "code",
   "execution_count": 22,
   "id": "0e195f34",
   "metadata": {},
   "outputs": [],
   "source": [
    "pad_id = 100\n",
    "pad_length = 7\n",
    "#Pad the Index \n",
    "for x in refcoco_plus_final:\n",
    "    x[\"valid_proposals\"] += (pad_length-len(x[\"valid_proposals\"]))*[pad_id]"
   ]
  },
  {
   "cell_type": "code",
   "execution_count": 23,
   "id": "66e4dba1",
   "metadata": {},
   "outputs": [],
   "source": [
    "#Save this augmented reference\n",
    "output_path = os.path.join(data_path,\"refcoco_plus_final.json\")\n",
    "with open(output_path, \"w\") as f:\n",
    "    json.dump(refcoco_plus_final, f)"
   ]
  },
  {
   "cell_type": "code",
   "execution_count": null,
   "id": "4e9923a3",
   "metadata": {},
   "outputs": [],
   "source": []
  }
 ],
 "metadata": {
  "kernelspec": {
   "display_name": "mmf",
   "language": "python",
   "name": "mmf"
  },
  "language_info": {
   "codemirror_mode": {
    "name": "ipython",
    "version": 3
   },
   "file_extension": ".py",
   "mimetype": "text/x-python",
   "name": "python",
   "nbconvert_exporter": "python",
   "pygments_lexer": "ipython3",
   "version": "3.7.10"
  }
 },
 "nbformat": 4,
 "nbformat_minor": 5
}
