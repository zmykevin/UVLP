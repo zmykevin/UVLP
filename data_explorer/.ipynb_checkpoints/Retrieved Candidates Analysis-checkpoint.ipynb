{
 "cells": [
  {
   "cell_type": "code",
   "execution_count": 13,
   "id": "49efc4d0",
   "metadata": {},
   "outputs": [],
   "source": [
    "import csv\n",
    "import os\n",
    "import json\n",
    "\n",
    "import numpy as np\n",
    "\n",
    "data_path = \"/home/zmykevin/fb_intern/data/mingyang_data/CC\"\n",
    "\n",
    "# with open(\"/data/home/zmykevin/vinvl_data/CC/cc_objects_captions_sorted.json\", \"r\") as f:\n",
    "#     cc_objects_captions_sorted = json.load(f)\n",
    "with open(os.path.join(data_path, \"cc_objects_captions_sorted.json\"), \"r\") as f:\n",
    "    cc_objects_captions_sorted = json.load(f)\n",
    "    \n",
    "with open(os.path.join(data_path,\"cc_objects_captions.json\"), \"r\") as f:\n",
    "    cc_objects_captions = json.load(f)\n",
    "\n",
    "with open(os.path.join(data_path,\"bookcorpus_sentences.json\"), \"r\") as f:\n",
    "    cc_objects_bc_captions = json.load(f)"
   ]
  },
  {
   "cell_type": "code",
   "execution_count": 3,
   "id": "f87f9f87",
   "metadata": {},
   "outputs": [],
   "source": [
    "def load_csv(csv_path):\n",
    "    loaded_data = []\n",
    "    with open(csv_path, \"r\") as csv_file:\n",
    "        csv_reader = csv.reader(csv_file,delimiter=',')\n",
    "        for i, row in enumerate(csv_reader):\n",
    "            if i == 0:\n",
    "                header_info = row\n",
    "            else:\n",
    "                current_data_point = {}\n",
    "                for j, x in enumerate(row):\n",
    "                    current_data_point[header_info[j]] = x\n",
    "                loaded_data.append(current_data_point)\n",
    "    return loaded_data\n",
    "\n",
    "def save_csv(visualization, output_path):\n",
    "    #csv_columns = ['original_id', \"original_obj\", \"original_caption\", \"retrieved_1\", \"retrieved_2\", \"retrieved_3\", \"original_url\", \"retrieved_url_1\"]\n",
    "    csv_columns = list(visualization[0].keys())\n",
    "    with open(output_path, \"w\") as csvfile:\n",
    "        writer = csv.DictWriter(csvfile, fieldnames=csv_columns)\n",
    "        writer.writeheader()\n",
    "        for data in visualization:\n",
    "            writer.writerow(data)"
   ]
  },
  {
   "cell_type": "code",
   "execution_count": 4,
   "id": "0247b591",
   "metadata": {},
   "outputs": [],
   "source": [
    "#Load the Original Annotation:\n",
    "original_cc_val_path = os.path.join(data_path,\"Validation_GCC-1.1.0-Validation.tsv\")\n",
    "original_cc_train_path = os.path.join(data_path,\"Train_GCC-training.tsv\")\n",
    "val = []\n",
    "train = []\n",
    "with open(original_cc_val_path) as fd:\n",
    "    rd = csv.reader(fd, delimiter=\"\\t\", quotechar='\"')\n",
    "    for row in rd:\n",
    "        val.append(row)\n",
    "\n",
    "with open(original_cc_train_path) as fd:\n",
    "    rd = csv.reader(fd, delimiter=\"\\t\", quotechar='\"')\n",
    "    for row in rd:\n",
    "        train.append(row)\n",
    "        \n",
    "caption_url_mapping = {}\n",
    "for x in val+train:\n",
    "    caption = x[0]\n",
    "    url = x[1]\n",
    "    caption_url_mapping[caption] = url"
   ]
  },
  {
   "cell_type": "code",
   "execution_count": 23,
   "id": "8d87c51c",
   "metadata": {},
   "outputs": [],
   "source": [
    "#Visualize the Best and Worst CLIP Scores using each method;\n",
    "clip_score_path = os.path.join(data_path,\"cc_clip_score_bookcorpus.json\")\n",
    "#clip_score_path = os.path.join(data_path, \"clip_scores/cc_clip_score_sentencebert_sorted.json\")\n",
    "with open(clip_score_path, \"r\") as f:\n",
    "    clip_score = json.load(f)\n",
    "    \n",
    "#Get the clip score information\n",
    "clip_score_ids = []\n",
    "clip_score_list = []\n",
    "for k,v in clip_score.items():\n",
    "    clip_score_ids.append(k)\n",
    "    clip_score_list.append(v)\n",
    "clip_score_arg = np.argsort(np.array(clip_score_list))\n",
    "best_scores_id = [clip_score_ids[x] for x in clip_score_arg[-200:]]\n",
    "worst_scores_id = [clip_score_ids[x] for x in clip_score_arg[:200]]"
   ]
  },
  {
   "cell_type": "code",
   "execution_count": 19,
   "id": "2682cf7b",
   "metadata": {},
   "outputs": [],
   "source": [
    "##Visualize these examples\n",
    "#retrieved_caption_path = \"/data/home/zmykevin/vinvl_data/CC/captions_retrieved_bertembedding_bookcorpus_sorted.json\"\n",
    "retrieved_caption_path = os.path.join(data_path, \"captions_retrieved_bertembedding_sorted.json\")\n",
    "with open(retrieved_caption_path, \"r\") as f:\n",
    "    retrieved_captions = json.load(f)\n",
    "    \n",
    "retrieved_caption_bookcorpus_path = os.path.join(data_path, \"captions_retrieved_bertembedding_bookcorpus_sorted.json\")\n",
    "with open(retrieved_caption_bookcorpus_path, \"r\") as f:\n",
    "    retrieved_bookcorpus_captions = json.load(f)"
   ]
  },
  {
   "cell_type": "code",
   "execution_count": 20,
   "id": "bfe0f261",
   "metadata": {},
   "outputs": [
    {
     "name": "stdout",
     "output_type": "stream",
     "text": [
      "3000600\n",
      "3116254\n"
     ]
    }
   ],
   "source": [
    "print(len(retrieved_captions))\n",
    "print(len(retrieved_bookcorpus_captions))"
   ]
  },
  {
   "cell_type": "code",
   "execution_count": 21,
   "id": "8302e55f",
   "metadata": {},
   "outputs": [],
   "source": [
    "score_log = []\n",
    "for original_id in best_scores_id:\n",
    "    #original_objects = cc_caption_objects[original_id][\"objects_no_rep\"]\n",
    "    original_objects = cc_objects_captions_sorted[original_id][\"objects_no_rep\"]\n",
    "    original_caption = cc_objects_captions_sorted[original_id][\"caption\"]\n",
    "    retrieved_ids = retrieved_captions[original_id][:5]\n",
    "    retrieved_bc_ids = retrieved_bookcorpus_captions[original_id][:5]\n",
    "#     retrieved_captions = []\n",
    "    rcs = [cc_objects_captions[retrieved_id][\"caption\"] for retrieved_id in retrieved_ids]\n",
    "    rcs_bc = [cc_objects_bc_captions[retrieved_id][\"caption\"] for retrieved_id in retrieved_bc_ids]\n",
    "    \n",
    "    original_image_url = caption_url_mapping[original_caption]\n",
    "    current_data = {\"original_id\": original_id, \n",
    "                    \"original_objects\": original_objects, \n",
    "                    \"original_caption\": original_caption,  \n",
    "                    \"original_image_url\": original_image_url}\n",
    "    for i,rc in enumerate(rcs):\n",
    "        current_data[\"retrieved_caption_{}\".format(i)] = rc\n",
    "        \n",
    "    for i,rc_bc in enumerate(rcs_bc):\n",
    "        current_data[\"retrieved_caption_bc_{}\".format(i)] = rc_bc\n",
    "    score_log.append(current_data)"
   ]
  },
  {
   "cell_type": "code",
   "execution_count": 22,
   "id": "a82df09a",
   "metadata": {},
   "outputs": [],
   "source": [
    "save_csv(score_log, os.path.join(data_path,\"best_captions_sbert_bookcorpus_top200.csv\"))"
   ]
  },
  {
   "cell_type": "code",
   "execution_count": null,
   "id": "b29ea607",
   "metadata": {},
   "outputs": [],
   "source": []
  }
 ],
 "metadata": {
  "kernelspec": {
   "display_name": "mmf",
   "language": "python",
   "name": "mmf"
  },
  "language_info": {
   "codemirror_mode": {
    "name": "ipython",
    "version": 3
   },
   "file_extension": ".py",
   "mimetype": "text/x-python",
   "name": "python",
   "nbconvert_exporter": "python",
   "pygments_lexer": "ipython3",
   "version": "3.7.10"
  }
 },
 "nbformat": 4,
 "nbformat_minor": 5
}
