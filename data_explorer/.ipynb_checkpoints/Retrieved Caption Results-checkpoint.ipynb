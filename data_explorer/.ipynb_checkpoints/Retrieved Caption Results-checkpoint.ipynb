{
 "cells": [
  {
   "cell_type": "code",
   "execution_count": 1,
   "id": "b8bfe688",
   "metadata": {},
   "outputs": [],
   "source": [
    "import csv\n",
    "import os\n",
    "import json"
   ]
  },
  {
   "cell_type": "code",
   "execution_count": 6,
   "id": "2fc5b25c",
   "metadata": {},
   "outputs": [],
   "source": [
    "def save_csv(visualization, output_path):\n",
    "    csv_columns = ['original_id', \"original_obj\", \"original_caption\", \"retrieved_1\", \"retrieved_2\", \"retrieved_3\"]\n",
    "    with open(output_path, \"w\") as csvfile:\n",
    "        writer = csv.DictWriter(csvfile, fieldnames=csv_columns)\n",
    "        writer.writeheader()\n",
    "        for data in visualization:\n",
    "            writer.writerow(data)"
   ]
  },
  {
   "cell_type": "code",
   "execution_count": 5,
   "id": "54a5fa79",
   "metadata": {},
   "outputs": [
    {
     "name": "stdout",
     "output_type": "stream",
     "text": [
      "900000\n"
     ]
    }
   ],
   "source": [
    "data_path = \"/data/home/zmykevin/vinvl_data/CC\"\n",
    "csv_path = os.path.join(data_path, \"captions_retrieved_backup.csv\")\n",
    "\n",
    "loaded_data = []\n",
    "with open(csv_path, \"r\") as csv_file:\n",
    "    csv_reader = csv.reader(csv_file,delimiter=',')\n",
    "    for i, row in enumerate(csv_reader):\n",
    "        if i == 0:\n",
    "            header_info = row\n",
    "        else:\n",
    "            current_data_point = {}\n",
    "            for j, x in enumerate(row):\n",
    "                current_data_point[header_info[j]] = x\n",
    "            loaded_data.append(current_data_point)\n",
    "\n",
    "print(len(loaded_data))"
   ]
  },
  {
   "cell_type": "code",
   "execution_count": null,
   "id": "094568dd",
   "metadata": {},
   "outputs": [],
   "source": [
    "loaded_data_sub = loaded_data[:1000]\n",
    "\n",
    "save_csv(loaded_data_sub, os.path.join(data_path, \"captions_retrieved_1000.csv\"))"
   ]
  }
 ],
 "metadata": {
  "kernelspec": {
   "display_name": "Python (mmf)",
   "language": "python",
   "name": "mmf"
  },
  "language_info": {
   "codemirror_mode": {
    "name": "ipython",
    "version": 3
   },
   "file_extension": ".py",
   "mimetype": "text/x-python",
   "name": "python",
   "nbconvert_exporter": "python",
   "pygments_lexer": "ipython3",
   "version": "3.7.10"
  }
 },
 "nbformat": 4,
 "nbformat_minor": 5
}
