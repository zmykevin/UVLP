{
 "cells": [
  {
   "cell_type": "code",
   "execution_count": 1,
   "id": "7d7ecaf1",
   "metadata": {},
   "outputs": [],
   "source": [
    "import json\n",
    "import os\n",
    "from tqdm import tqdm\n",
    "\n",
    "import numpy as np"
   ]
  },
  {
   "cell_type": "code",
   "execution_count": 3,
   "id": "29bd1fa5",
   "metadata": {},
   "outputs": [],
   "source": [
    "annotation_path = \"/home/zmykevin/fb_intern/data/vinvl_data/CC/model_0060000/annotations/0\"\n",
    "with open(os.path.join(annotation_path, \"dataset_cc.json\"), \"r\") as f:\n",
    "    annotation = json.load(f)\n",
    "    "
   ]
  },
  {
   "cell_type": "code",
   "execution_count": 4,
   "id": "60d2856d",
   "metadata": {},
   "outputs": [],
   "source": [
    "#Load the CC_Caption_Objects\n",
    "with open(\"/data/home/zmykevin/vinvl_data/CC/cc_objects_captions.json\", \"r\") as f:\n",
    "    cc_objects_captions = json.load(f)"
   ]
  },
  {
   "cell_type": "code",
   "execution_count": 13,
   "id": "df857f52",
   "metadata": {},
   "outputs": [],
   "source": [
    "#Load the original caption annotation file:\n",
    "original_annotation = np.load(\"/fsx/zmykevin/data/mmf_data/datasets/cc/defaults/annotations/train_all.npy\", allow_pickle=True)"
   ]
  },
  {
   "cell_type": "code",
   "execution_count": 16,
   "id": "71f501c8",
   "metadata": {},
   "outputs": [
    {
     "name": "stdout",
     "output_type": "stream",
     "text": [
      "3087707\n",
      "2181767\n"
     ]
    }
   ],
   "source": [
    "original_captions = {}\n",
    "print(len(original_annotation))\n",
    "for d in original_annotation:\n",
    "    img_id = d['image_id']\n",
    "    caption = d['captions'][0]\n",
    "    if original_captions.get(caption, None) is None:\n",
    "        original_captions[caption] = [img_id]\n",
    "    else:\n",
    "        original_captions[caption].append(img_id)\n",
    "print(len(original_captions))"
   ]
  },
  {
   "cell_type": "code",
   "execution_count": 5,
   "id": "439dbfda",
   "metadata": {},
   "outputs": [
    {
     "name": "stdout",
     "output_type": "stream",
     "text": [
      "dict_keys(['images', 'dataset'])\n"
     ]
    }
   ],
   "source": [
    "print(annotation.keys())"
   ]
  },
  {
   "cell_type": "code",
   "execution_count": 5,
   "id": "5e27ffc3",
   "metadata": {},
   "outputs": [
    {
     "name": "stdout",
     "output_type": "stream",
     "text": [
      "3334173\n"
     ]
    }
   ],
   "source": [
    "images = annotation[\"images\"]\n",
    "print(len(images))"
   ]
  },
  {
   "cell_type": "code",
   "execution_count": 6,
   "id": "d742813a",
   "metadata": {},
   "outputs": [
    {
     "name": "stderr",
     "output_type": "stream",
     "text": [
      "100%|██████████| 3334173/3334173 [00:14<00:00, 236394.58it/s]\n"
     ]
    }
   ],
   "source": [
    "captions = {}\n",
    "for x in tqdm(images):\n",
    "    img_id = x['imgid']\n",
    "    caption = \" \".join(x['sentences'][0]['tokens'])\n",
    "    #print(caption)\n",
    "    if captions.get(caption, None) is None:\n",
    "        captions[caption] = [img_id]\n",
    "    else:\n",
    "        captions[caption].append(img_id)\n",
    "   "
   ]
  },
  {
   "cell_type": "code",
   "execution_count": 7,
   "id": "5e935371",
   "metadata": {},
   "outputs": [
    {
     "name": "stdout",
     "output_type": "stream",
     "text": [
      "2361004\n"
     ]
    }
   ],
   "source": [
    "print(len(captions))"
   ]
  },
  {
   "cell_type": "code",
   "execution_count": 10,
   "id": "a8e039ca",
   "metadata": {},
   "outputs": [
    {
     "name": "stdout",
     "output_type": "stream",
     "text": [
      "[2, 448204, 1032989]\n",
      "bathtub scarf pillow glasses hanger handle jean woman shirt bag clothing window floor hand girl closet clothes piano tub door rug drawer fence hair cabinet\n",
      "towel belt scarf finger jean wall woman shirt jacket face arm hand girl nose shelf clothes head sleeve tie eye hair\n",
      "floor scarf shirt head towel hand girl nose tie eye shelf closet clothes magazine hair jean finger wall cabinet woman\n"
     ]
    }
   ],
   "source": [
    "for key, value in captions.items():\n",
    "    if len(value) > 1:\n",
    "        print(value)\n",
    "        for v in value:\n",
    "            print(cc_objects_captions[str(v)][\"objects_no_rep\"])\n",
    "        break"
   ]
  },
  {
   "cell_type": "code",
   "execution_count": 21,
   "id": "746ca916",
   "metadata": {},
   "outputs": [
    {
     "name": "stdout",
     "output_type": "stream",
     "text": [
      "{'imgid': 448204, 'sentences': [{'tokens': ['young', 'confused', 'girl', 'standing', 'in', 'front', 'of', 'a', 'wardrobe'], 'raw': 'young confused girl standing in front of a wardrobe', 'deptree': [[2, 0], [2, 1], [-1, 2], [2, 3], [5, 4], [3, 5], [8, 6], [8, 7], [5, 8]]}], 'filename': '00448204.jpg', 'split': 'train'}\n",
      "{'imgid': 2, 'sentences': [{'tokens': ['young', 'confused', 'girl', 'standing', 'in', 'front', 'of', 'a', 'wardrobe'], 'raw': 'young confused girl standing in front of a wardrobe', 'deptree': [[2, 0], [2, 1], [-1, 2], [2, 3], [5, 4], [3, 5], [8, 6], [8, 7], [5, 8]]}], 'filename': '00000002.jpg', 'split': 'train'}\n"
     ]
    }
   ],
   "source": [
    "print(images[448204])\n",
    "print(images[2])"
   ]
  },
  {
   "cell_type": "code",
   "execution_count": 23,
   "id": "e0d81435",
   "metadata": {},
   "outputs": [],
   "source": [
    "with open(os.path.join(annotation_path, \"repeated_captions.json\"), \"w\") as f:\n",
    "    json.dump(captions, f)"
   ]
  },
  {
   "cell_type": "code",
   "execution_count": 2,
   "id": "59364e55",
   "metadata": {},
   "outputs": [
    {
     "name": "stderr",
     "output_type": "stream",
     "text": [
      "Reusing dataset bookcorpus (/data/home/zmykevin/.cache/huggingface/datasets/bookcorpus/plain_text/1.0.0/af844be26c089fb64810e9f2cd841954fd8bd596d6ddd26326e4c70e2b8c96fc)\n"
     ]
    }
   ],
   "source": [
    "#Load the BookCorpus\n",
    "from datasets import load_dataset\n",
    "dataset = load_dataset('bookcorpus')\n",
    "    \n"
   ]
  },
  {
   "cell_type": "code",
   "execution_count": 12,
   "id": "e18160ac",
   "metadata": {},
   "outputs": [
    {
     "name": "stdout",
     "output_type": "stream",
     "text": [
      "(speaks directly to the audience)what say you my good dear man?\n"
     ]
    }
   ],
   "source": [
    "#Load the bookcorpus from the doc\n",
    "import textract\n",
    "#import docx2txt\n",
    "#text = textract.process(\"/data/home/zmykevin/vinvl_data/book_corpus/bc1g.doc\")\n",
    "#bookcorpus_text = docx2txt.process(\"/data/home/zmykevin/vinvl_data/book_corpus/bc1g.doc\")\n",
    "stop_point = 2500000\n",
    "corpus = []\n",
    "with open(\"/data/home/zmykevin/vinvl_data/book_corpus/bc1g.doc\", 'r', encoding=\"utf-8\") as f:\n",
    "    all_text = f.read().lower()\n",
    "    for i, l in tqqdm(enumerate(all_text.split(\"\\n\"))):\n",
    "        #print(l.strip('\\n').strip('\\r').strip('\\n'))\n",
    "        corpus.append(l)\n",
    "        if i > stop_point:\n",
    "            break\n",
    "    #corpus.extend([l.strip('\\n').strip('\\r').strip('\\n') for l in all_text.split(\"\\n\")])"
   ]
  },
  {
   "cell_type": "code",
   "execution_count": 14,
   "id": "06636dca",
   "metadata": {},
   "outputs": [],
   "source": [
    "all_text_lines = all_text.split(\"\\n\")\n",
    "#print(all_text.split(\"\\n\")[0])"
   ]
  },
  {
   "cell_type": "code",
   "execution_count": 27,
   "id": "68f9cc1b",
   "metadata": {},
   "outputs": [
    {
     "name": "stderr",
     "output_type": "stream",
     "text": [
      "100%|██████████| 14024119/14024119 [00:06<00:00, 2061619.65it/s]"
     ]
    },
    {
     "name": "stdout",
     "output_type": "stream",
     "text": [
      "1455876\n"
     ]
    },
    {
     "name": "stderr",
     "output_type": "stream",
     "text": [
      "\n"
     ]
    }
   ],
   "source": [
    "total_words = 0\n",
    "passage_count = 0\n",
    "for l in tqdm(all_text_lines):\n",
    "    l.strip('\\n').strip('\\r').strip('\\n')\n",
    "    if len(l) == 0:\n",
    "        passage_count += 1\n",
    "print(passage_count)\n",
    "    "
   ]
  },
  {
   "cell_type": "code",
   "execution_count": 25,
   "id": "873939ce",
   "metadata": {},
   "outputs": [
    {
     "name": "stdout",
     "output_type": "stream",
     "text": [
      "3372383.140625\n"
     ]
    }
   ],
   "source": [
    "print(total_words/64)"
   ]
  },
  {
   "cell_type": "code",
   "execution_count": 13,
   "id": "c63d911e",
   "metadata": {},
   "outputs": [
    {
     "name": "stdout",
     "output_type": "stream",
     "text": [
      "<class 'dict'>\n"
     ]
    }
   ],
   "source": [
    "# print(dataset[\"train\"][5])\n",
    "#Load the bookcorpus captions\n",
    "with open(os.path.join(\"/data/home/zmykevin/vinvl_data/CC\", \"cc_bookcorpus_captions.json\"), \"r\") as f:\n",
    "    bookcorpus_captions=json.load(f)\n",
    "    \n",
    "print(type(bookcorpus_captions))"
   ]
  },
  {
   "cell_type": "code",
   "execution_count": 16,
   "id": "d10eac01",
   "metadata": {},
   "outputs": [],
   "source": [
    "with open(os.path.join(\"/data/home/zmykevin/vinvl_data/CC\", \"captions_retrieved_bertembedding_bookcorpus_sorted.json\"), \"r\") as f:\n",
    "    sorted_ids=json.load(f)\n",
    "        \n",
    "        "
   ]
  },
  {
   "cell_type": "code",
   "execution_count": 19,
   "id": "43a6eb49",
   "metadata": {},
   "outputs": [
    {
     "name": "stdout",
     "output_type": "stream",
     "text": [
      "0\n",
      "['1020150', '1345877', '698597', '2220547', '1591376', '2113218', '1785144', '890382', '2448213', '1915891']\n"
     ]
    }
   ],
   "source": [
    "for k,v in sorted_ids.items():\n",
    "    print(k)\n",
    "    print(v)\n",
    "    break"
   ]
  },
  {
   "cell_type": "code",
   "execution_count": 23,
   "id": "fd450741",
   "metadata": {},
   "outputs": [
    {
     "name": "stdout",
     "output_type": "stream",
     "text": [
      "{'caption': 'on the other side of the road a worried looking passenger boarded a bus and nodded .', 'objects_no_rep': None}\n"
     ]
    }
   ],
   "source": [
    "# for k,v in bookcorpus_captions.items():\n",
    "#     print(k)\n",
    "#     print(v)\n",
    "#     break\n"
   ]
  },
  {
   "cell_type": "code",
   "execution_count": 15,
   "id": "d37e5b09",
   "metadata": {},
   "outputs": [
    {
     "name": "stdout",
     "output_type": "stream",
     "text": [
      "{'text': 'the half-ling book one in the fall of igneeria series kaylee soderburg copyright 2013 kaylee soderburg all rights reserved .'}\n"
     ]
    }
   ],
   "source": [
    "print(dataset['train'][0])"
   ]
  },
  {
   "cell_type": "code",
   "execution_count": 17,
   "id": "22f5e7c3",
   "metadata": {},
   "outputs": [
    {
     "name": "stdout",
     "output_type": "stream",
     "text": [
      "74004228\n"
     ]
    }
   ],
   "source": [
    "print(len(dataset['train']))"
   ]
  },
  {
   "cell_type": "code",
   "execution_count": 6,
   "id": "e516dc19",
   "metadata": {},
   "outputs": [
    {
     "ename": "KeyError",
     "evalue": "0",
     "output_type": "error",
     "traceback": [
      "\u001b[0;31m---------------------------------------------------------------------------\u001b[0m",
      "\u001b[0;31mKeyError\u001b[0m                                  Traceback (most recent call last)",
      "\u001b[0;32m<ipython-input-6-f17272de324c>\u001b[0m in \u001b[0;36m<module>\u001b[0;34m\u001b[0m\n\u001b[1;32m      6\u001b[0m \u001b[0;34m\u001b[0m\u001b[0m\n\u001b[1;32m      7\u001b[0m \u001b[0;31m# annotation_path = \"/fsx/zmykevin/data/mmf_data/datasets/cc/defaults/annotations\"\u001b[0m\u001b[0;34m\u001b[0m\u001b[0;34m\u001b[0m\u001b[0;34m\u001b[0m\u001b[0m\n\u001b[0;32m----> 8\u001b[0;31m \u001b[0mprint\u001b[0m\u001b[0;34m(\u001b[0m\u001b[0mcc_objects_captions\u001b[0m\u001b[0;34m[\u001b[0m\u001b[0;36m0\u001b[0m\u001b[0;34m]\u001b[0m\u001b[0;34m)\u001b[0m\u001b[0;34m\u001b[0m\u001b[0;34m\u001b[0m\u001b[0m\n\u001b[0m",
      "\u001b[0;31mKeyError\u001b[0m: 0"
     ]
    }
   ],
   "source": [
    "import json\n",
    "with open(\"/data/home/zmykevin/vinvl_data/CC/cc_objects_captions.json\", \"r\") as f:\n",
    "    cc_objects_captions = json.load(f)\n",
    "    \n",
    "total_sample = 2500000\n",
    "\n"
   ]
  },
  {
   "cell_type": "code",
   "execution_count": 9,
   "id": "e3b02b05",
   "metadata": {},
   "outputs": [],
   "source": [
    "import numpy as np\n",
    "data_path = \"/fsx/zmykevin/data/mmf_data/datasets/cc/defaults/annotations\"\n",
    "npy_path = os.path.join(data_path, \"train_vinvl_0.npy\")\n",
    "val_vinvl = np.load(npy_path, allow_pickle=True)"
   ]
  },
  {
   "cell_type": "code",
   "execution_count": 12,
   "id": "7cf184db",
   "metadata": {},
   "outputs": [],
   "source": [
    "fixed_image_id = val_vinvl[0][\"image_id\"]"
   ]
  },
  {
   "cell_type": "code",
   "execution_count": 20,
   "id": "12bea2a5",
   "metadata": {},
   "outputs": [],
   "source": [
    "book_corpus_vinvl = []\n",
    "for i, x in enumerate(dataset[\"train\"]):\n",
    "    current_caption = x[\"text\"]\n",
    "    current_object_list = cc_objects_captions[str(fixed_image_id)]['object_list']\n",
    "    book_corpus_vinvl.append({\"image_id\": fixed_image_id, \"captions\": current_caption})\n",
    "    if i == total_sample:\n",
    "        break"
   ]
  },
  {
   "cell_type": "code",
   "execution_count": 21,
   "id": "1ac901b1",
   "metadata": {},
   "outputs": [
    {
     "name": "stdout",
     "output_type": "stream",
     "text": [
      "2500001\n",
      "{'image_id': 0, 'captions': 'the half-ling book one in the fall of igneeria series kaylee soderburg copyright 2013 kaylee soderburg all rights reserved .'}\n"
     ]
    }
   ],
   "source": [
    "print(len(book_corpus_vinvl))\n",
    "print(book_corpus_vinvl[0])"
   ]
  },
  {
   "cell_type": "code",
   "execution_count": 23,
   "id": "634e9ad2",
   "metadata": {},
   "outputs": [],
   "source": [
    "with open(\"/fsx/zmykevin/data/mmf_data/datasets/cc/defaults/annotations/vinvl_bookcorpus_train\", \"wb\") as f:\n",
    "    np.save(f, book_corpus_vinvl)"
   ]
  },
  {
   "cell_type": "code",
   "execution_count": null,
   "id": "2520e5f4",
   "metadata": {},
   "outputs": [],
   "source": []
  }
 ],
 "metadata": {
  "kernelspec": {
   "display_name": "mmf",
   "language": "python",
   "name": "mmf"
  },
  "language_info": {
   "codemirror_mode": {
    "name": "ipython",
    "version": 3
   },
   "file_extension": ".py",
   "mimetype": "text/x-python",
   "name": "python",
   "nbconvert_exporter": "python",
   "pygments_lexer": "ipython3",
   "version": "3.7.10"
  }
 },
 "nbformat": 4,
 "nbformat_minor": 5
}
