{
 "cells": [
  {
   "cell_type": "code",
   "execution_count": 1,
   "id": "stainless-warehouse",
   "metadata": {},
   "outputs": [],
   "source": [
    "import numpy as np\n",
    "import lmdb\n",
    "import os\n",
    "import pickle\n",
    "import torch\n",
    "# from mmf.utils.file_io import PathManager\n",
    "from iopath.common.file_io import PathManager as pm\n",
    "\n",
    "PathManager = pm()"
   ]
  },
  {
   "cell_type": "code",
   "execution_count": 2,
   "id": "comfortable-recovery",
   "metadata": {},
   "outputs": [],
   "source": [
    "data_path = \"/fsx/zmykevin/data/mmf_data/datasets/vqa2/defaults/annotations/imdb_minival2014.npy\""
   ]
  },
  {
   "cell_type": "code",
   "execution_count": 3,
   "id": "happy-secondary",
   "metadata": {},
   "outputs": [],
   "source": [
    "val_annotation = np.load(data_path, allow_pickle=True)"
   ]
  },
  {
   "cell_type": "code",
   "execution_count": 4,
   "id": "armed-single",
   "metadata": {},
   "outputs": [
    {
     "name": "stdout",
     "output_type": "stream",
     "text": [
      "(3001,)\n"
     ]
    }
   ],
   "source": [
    "print(val_annotation.shape)"
   ]
  },
  {
   "cell_type": "code",
   "execution_count": 5,
   "id": "scenic-oriental",
   "metadata": {},
   "outputs": [
    {
     "name": "stdout",
     "output_type": "stream",
     "text": [
      "{'image_name': 'COCO_val2014_000000573843', 'image_id': 573843, 'question_id': 573843005, 'feature_path': 'COCO_val2014_000000573843.npy', 'question_str': 'Are there clouds?', 'question_tokens': ['are', 'there', 'clouds'], 'all_answers': ['yes', 'yes', 'no', 'yes', 'yes', 'yes', 'yes', 'yes', 'yes', 'yes'], 'ocr_tokens': [], 'answers': ['yes', 'yes', 'no', 'yes', 'yes', 'yes', 'yes', 'yes', 'yes', 'yes']}\n"
     ]
    }
   ],
   "source": [
    "print(val_annotation[1])"
   ]
  },
  {
   "cell_type": "code",
   "execution_count": null,
   "id": "elect-documentation",
   "metadata": {},
   "outputs": [],
   "source": []
  },
  {
   "cell_type": "code",
   "execution_count": 8,
   "id": "great-teddy",
   "metadata": {},
   "outputs": [],
   "source": [
    "class PaddedFasterRCNNFeatureReader:\n",
    "    def __init__(self, max_loc):\n",
    "        self.max_loc = max_loc\n",
    "        self.first = True\n",
    "        self.take_item = False\n",
    "\n",
    "    def _load(self, image_feat_path):\n",
    "        image_info = {}\n",
    "        image_info[\"features\"] = load_feat(image_feat_path)\n",
    "\n",
    "        info_path = \"{}_info.npy\".format(image_feat_path.split(\".npy\")[0])\n",
    "        if PathManager.exists(info_path):\n",
    "            image_info.update(load_feat(info_path).item())\n",
    "\n",
    "        return image_info\n",
    "\n",
    "    def read(self, image_feat_path):\n",
    "        image_info = self._load(image_feat_path)\n",
    "        if self.first:\n",
    "            self.first = False\n",
    "            if (\n",
    "                image_info[\"features\"].size == 1\n",
    "                and \"image_feat\" in image_info[\"features\"].item()\n",
    "            ):\n",
    "                self.take_item = True\n",
    "\n",
    "        image_feature = image_info[\"features\"]\n",
    "#         print(image_info[\"features\"].size)\n",
    "        if self.take_item:\n",
    "            item = image_info[\"features\"].item()\n",
    "            if \"image_text\" in item:\n",
    "                image_info[\"image_text\"] = item[\"image_text\"]\n",
    "                image_info[\"is_ocr\"] = item[\"image_bbox_source\"]\n",
    "                image_feature = item[\"image_feat\"]\n",
    "\n",
    "            if \"info\" in item:\n",
    "                if \"image_text\" in item[\"info\"]:\n",
    "                    image_info.update(item[\"info\"])\n",
    "                image_feature = item[\"feature\"]\n",
    "\n",
    "        # Handle case of features with class probs\n",
    "        if (\n",
    "            image_info[\"features\"].size == 1\n",
    "            and \"features\" in image_info[\"features\"].item()\n",
    "        ):\n",
    "            item = image_info[\"features\"].item()\n",
    "            image_feature = item[\"features\"]\n",
    "            image_info[\"image_height\"] = item[\"image_height\"]\n",
    "            image_info[\"image_width\"] = item[\"image_width\"]\n",
    "\n",
    "            # Resize these to self.max_loc\n",
    "            image_loc, _ = image_feature.shape\n",
    "            image_info[\"cls_prob\"] = np.zeros(\n",
    "                (self.max_loc, item[\"cls_prob\"].shape[1]), dtype=np.float32\n",
    "            )\n",
    "            image_info[\"cls_prob\"][0:image_loc,] = item[\"cls_prob\"][: self.max_loc, :]\n",
    "            image_info[\"bbox\"] = np.zeros(\n",
    "                (self.max_loc, item[\"bbox\"].shape[1]), dtype=np.float32\n",
    "            )\n",
    "            image_info[\"bbox\"][0:image_loc,] = item[\"bbox\"][: self.max_loc, :]\n",
    "            image_info[\"num_boxes\"] = item[\"num_boxes\"]\n",
    "\n",
    "        # Handle the case of ResNet152 features\n",
    "        if len(image_feature.shape) > 2:\n",
    "            shape = image_feature.shape\n",
    "            image_feature = image_feature.reshape(-1, shape[-1])\n",
    "\n",
    "        image_loc, image_dim = image_feature.shape\n",
    "        tmp_image_feat = np.zeros((self.max_loc, image_dim), dtype=np.float32)\n",
    "        tmp_image_feat[0:image_loc,] = image_feature[: self.max_loc, :]  # noqa\n",
    "        image_feature = torch.from_numpy(tmp_image_feat)\n",
    "\n",
    "        del image_info[\"features\"]\n",
    "        image_info[\"max_features\"] = torch.tensor(image_loc, dtype=torch.long)\n",
    "        return image_feature, image_info\n",
    "\n",
    "\n",
    "class LMDBFeatureReader(PaddedFasterRCNNFeatureReader):\n",
    "    def __init__(self, max_loc, base_path):\n",
    "        super().__init__(max_loc)\n",
    "        self.db_path = base_path\n",
    "\n",
    "        if not PathManager.exists(self.db_path):\n",
    "            raise RuntimeError(\n",
    "                \"{} path specified for LMDB features doesn't exists.\".format(\n",
    "                    self.db_path\n",
    "                )\n",
    "            )\n",
    "        self.env = None\n",
    "\n",
    "    def _init_db(self):\n",
    "        self.env = lmdb.open(\n",
    "            self.db_path,\n",
    "            subdir=os.path.isdir(self.db_path),\n",
    "            readonly=True,\n",
    "            lock=False,\n",
    "            readahead=False,\n",
    "            meminit=False,\n",
    "        )\n",
    "        with self.env.begin(write=False, buffers=True) as txn:\n",
    "            self.image_ids = pickle.loads(txn.get(b\"keys\"))\n",
    "            self.image_id_indices = {\n",
    "                self.image_ids[i]: i for i in range(0, len(self.image_ids))\n",
    "            }\n",
    "\n",
    "    def _load(self, image_file_path):\n",
    "        #print(\"env is: {}\".format(self.env))\n",
    "        if self.env is None:\n",
    "            #print(\"initialize db\")\n",
    "            self._init_db()\n",
    "\n",
    "        split = os.path.relpath(image_file_path, self.db_path).split(\".npy\")[0]\n",
    "\n",
    "        try:\n",
    "            image_id = int(split.split(\"_\")[-1])\n",
    "            # Try fetching to see if it actually exists otherwise fall back to\n",
    "            # default\n",
    "            img_id_idx = self.image_id_indices[str(image_id).encode()]\n",
    "        except (ValueError, KeyError):\n",
    "            # The image id is complex or involves folder, use it directly\n",
    "            image_id = str(split).encode()\n",
    "            img_id_idx = self.image_id_indices[image_id]\n",
    "\n",
    "        with self.env.begin(write=False, buffers=True) as txn:\n",
    "            image_info = pickle.loads(txn.get(self.image_ids[img_id_idx]))\n",
    "\n",
    "        return image_info"
   ]
  },
  {
   "cell_type": "code",
   "execution_count": 9,
   "id": "nonprofit-branch",
   "metadata": {},
   "outputs": [],
   "source": [
    "base_path = \"/fsx/zmykevin/data/mmf_data/datasets/coco/defaults/features/test2015_vinvl_nopadding.lmdb\""
   ]
  },
  {
   "cell_type": "code",
   "execution_count": 10,
   "id": "heated-spice",
   "metadata": {},
   "outputs": [],
   "source": [
    "#Load the Image Feature\n",
    "feature_reader = LMDBFeatureReader(30, base_path)"
   ]
  },
  {
   "cell_type": "code",
   "execution_count": null,
   "id": "blocked-complement",
   "metadata": {},
   "outputs": [],
   "source": []
  },
  {
   "cell_type": "code",
   "execution_count": 11,
   "id": "hungry-zealand",
   "metadata": {},
   "outputs": [],
   "source": [
    "feats, info = feature_reader.read(\"/fsx/zmykevin/data/mmf_data/datasets/coco/defaults/features/test2015_vinvl_nopadding.lmdb/COCO_test2015_000000262144.npy\")"
   ]
  },
  {
   "cell_type": "code",
   "execution_count": 12,
   "id": "first-demographic",
   "metadata": {},
   "outputs": [
    {
     "name": "stdout",
     "output_type": "stream",
     "text": [
      "torch.Size([30, 2048])\n"
     ]
    }
   ],
   "source": [
    "print(feats.size())"
   ]
  },
  {
   "cell_type": "code",
   "execution_count": 13,
   "id": "pending-comparison",
   "metadata": {},
   "outputs": [
    {
     "name": "stdout",
     "output_type": "stream",
     "text": [
      "(30, 1601)\n"
     ]
    }
   ],
   "source": [
    "print(info['cls_prob'].shape)"
   ]
  },
  {
   "cell_type": "code",
   "execution_count": 14,
   "id": "global-plane",
   "metadata": {},
   "outputs": [
    {
     "name": "stdout",
     "output_type": "stream",
     "text": [
      "tensor(51)\n"
     ]
    }
   ],
   "source": [
    "print(info['max_features'])"
   ]
  },
  {
   "cell_type": "code",
   "execution_count": 15,
   "id": "artistic-cement",
   "metadata": {},
   "outputs": [
    {
     "name": "stdout",
     "output_type": "stream",
     "text": [
      "dict_keys(['feature_path', 'image_height', 'image_width', 'num_boxes', 'objects', 'bbox', 'cls_prob', 'max_features'])\n"
     ]
    }
   ],
   "source": [
    "print(info.keys())"
   ]
  },
  {
   "cell_type": "code",
   "execution_count": 21,
   "id": "lasting-performance",
   "metadata": {},
   "outputs": [
    {
     "name": "stdout",
     "output_type": "stream",
     "text": [
      "(30, 4)\n"
     ]
    }
   ],
   "source": [
    "print(info['bbox'].shape)  #bbox should be the normalized detected bounding box rect;"
   ]
  },
  {
   "cell_type": "code",
   "execution_count": 22,
   "id": "insured-separation",
   "metadata": {},
   "outputs": [
    {
     "name": "stdout",
     "output_type": "stream",
     "text": [
      "38\n"
     ]
    }
   ],
   "source": [
    "print(info['num_boxes'])"
   ]
  },
  {
   "cell_type": "code",
   "execution_count": 23,
   "id": "bizarre-bargain",
   "metadata": {},
   "outputs": [
    {
     "name": "stdout",
     "output_type": "stream",
     "text": [
      "COCO_test2015_000000000001\n"
     ]
    }
   ],
   "source": [
    "print(info['feature_path'])"
   ]
  },
  {
   "cell_type": "code",
   "execution_count": 49,
   "id": "educated-means",
   "metadata": {},
   "outputs": [
    {
     "name": "stdout",
     "output_type": "stream",
     "text": [
      "[0 0 0 0 0 0 0 0 0 0 0 0 0 0 0 0 0 0 0 0 0 0 0 0 0 0 0 0 0 0 0 0 0 0 0 0 0\n",
      " 0 0 0 0 0 0 0 0 0]\n"
     ]
    }
   ],
   "source": [
    "print(info['objects'])"
   ]
  },
  {
   "cell_type": "code",
   "execution_count": null,
   "id": "undefined-chassis",
   "metadata": {},
   "outputs": [],
   "source": []
  }
 ],
 "metadata": {
  "kernelspec": {
   "display_name": "Python 3",
   "language": "python",
   "name": "python3"
  },
  "language_info": {
   "codemirror_mode": {
    "name": "ipython",
    "version": 3
   },
   "file_extension": ".py",
   "mimetype": "text/x-python",
   "name": "python",
   "nbconvert_exporter": "python",
   "pygments_lexer": "ipython3",
   "version": "3.6.9"
  }
 },
 "nbformat": 4,
 "nbformat_minor": 5
}
