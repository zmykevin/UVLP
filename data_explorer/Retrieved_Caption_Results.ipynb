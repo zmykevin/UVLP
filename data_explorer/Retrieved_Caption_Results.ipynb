{
 "cells": [
  {
   "cell_type": "code",
   "execution_count": 4,
   "id": "1e3d3714",
   "metadata": {},
   "outputs": [],
   "source": [
    "import csv\n",
    "import os\n",
    "import json\n",
    "\n",
    "import numpy as np"
   ]
  },
  {
   "cell_type": "code",
   "execution_count": 5,
   "id": "9054c6e4",
   "metadata": {},
   "outputs": [],
   "source": [
    "def load_csv(csv_path):\n",
    "    loaded_data = []\n",
    "    with open(csv_path, \"r\") as csv_file:\n",
    "        csv_reader = csv.reader(csv_file,delimiter=',')\n",
    "        for i, row in enumerate(csv_reader):\n",
    "            if i == 0:\n",
    "                header_info = row\n",
    "            else:\n",
    "                current_data_point = {}\n",
    "                for j, x in enumerate(row):\n",
    "                    current_data_point[header_info[j]] = x\n",
    "                loaded_data.append(current_data_point)\n",
    "    return loaded_data"
   ]
  },
  {
   "cell_type": "code",
   "execution_count": 6,
   "id": "f9f61fe3",
   "metadata": {},
   "outputs": [],
   "source": [
    "def save_csv(visualization, output_path):\n",
    "    #csv_columns = ['original_id', \"original_obj\", \"original_caption\", \"retrieved_1\", \"retrieved_2\", \"retrieved_3\", \"original_url\", \"retrieved_url_1\"]\n",
    "    csv_columns = list(visualization[0].keys())\n",
    "    with open(output_path, \"w\") as csvfile:\n",
    "        writer = csv.DictWriter(csvfile, fieldnames=csv_columns)\n",
    "        writer.writeheader()\n",
    "        for data in visualization:\n",
    "            writer.writerow(data)"
   ]
  },
  {
   "cell_type": "code",
   "execution_count": 7,
   "id": "6673159a",
   "metadata": {},
   "outputs": [],
   "source": [
    "with open(\"/data/home/zmykevin/vinvl_data/CC/cc_objects_captions_sorted.json\", \"r\") as f:\n",
    "    cc_objects_captions_sorted = json.load(f)\n",
    "\n",
    "with open(\"/data/home/zmykevin/vinvl_data/CC/cc_objects_captions.json\", \"r\") as f:\n",
    "    cc_objects_captions = json.load(f)"
   ]
  },
  {
   "cell_type": "code",
   "execution_count": 8,
   "id": "16f3f880",
   "metadata": {},
   "outputs": [
    {
     "name": "stdout",
     "output_type": "stream",
     "text": [
      "road bus street building car man person\n",
      "pant street building shirt man person hat car roof sign door van window road balcony boat bus\n",
      "\n",
      "\n",
      "poster woman drum girl person dress wall leg shirt skirt man hair arm\n",
      "man neck wall woman shirt skirt face top shoe arm person poster hand girl dress tripod drum hair leg picture microphone\n",
      "\n",
      "\n",
      "closet floor clothes cabinet piano scarf woman tub bathtub shirt window fence jean hanger\n",
      "bathtub scarf pillow glasses hanger handle jean woman shirt bag clothing window floor hand girl closet clothes piano tub door rug drawer fence hair cabinet\n",
      "\n",
      "\n",
      "building wall room brick ceiling floor fireplace desk bar shadow ledge log fire\n",
      "floor ceiling fireplace building room bar log desk brick word shadow ledge fire sign tile letter bench wall light\n",
      "\n",
      "\n",
      "sky leg boot string word handlebar\n",
      "string word foot handle letter handlebar sky leg boot\n",
      "\n",
      "\n"
     ]
    }
   ],
   "source": [
    "valid_count = 0\n",
    "for cc_a, cc_b in zip(cc_objects_captions_sorted.values(), cc_objects_captions.values()):\n",
    "    cc_a_objects = cc_a['objects_no_rep']\n",
    "    cc_b_objects = cc_b['objects_no_rep']\n",
    "    print(cc_a_objects)\n",
    "    print(cc_b_objects)\n",
    "    print(\"\\n\")\n",
    "    valid_count +=1 \n",
    "    if valid_count == 5:\n",
    "        break\n",
    "    "
   ]
  },
  {
   "cell_type": "code",
   "execution_count": 10,
   "id": "657bba5b",
   "metadata": {},
   "outputs": [
    {
     "name": "stdout",
     "output_type": "stream",
     "text": [
      "['author : a life in photography -- in pictures', 'https://i.pinimg.com/736x/66/01/6c/66016c3ba27c0e04f39e2bd81a934e3e--anita-ekberg-bob-hope.jpg']\n",
      "['a very typical bus station', 'http://lh6.ggpht.com/-IvRtNLNcG8o/TpFyrudaT6I/AAAAAAAAM6o/_11MuAAKalQ/IMG_3422.JPG?imgmax=800']\n"
     ]
    }
   ],
   "source": [
    "#Load the Original Annotation:\n",
    "original_cc_val_path = \"/data/home/zmykevin/vinvl_data/CC/Validation_GCC-1.1.0-Validation.tsv\"\n",
    "original_cc_train_path = \"/data/home/zmykevin/vinvl_data/CC/Train_GCC-training.tsv\"\n",
    "val = []\n",
    "train = []\n",
    "with open(original_cc_val_path) as fd:\n",
    "    rd = csv.reader(fd, delimiter=\"\\t\", quotechar='\"')\n",
    "    for row in rd:\n",
    "        val.append(row)\n",
    "\n",
    "with open(original_cc_train_path) as fd:\n",
    "    rd = csv.reader(fd, delimiter=\"\\t\", quotechar='\"')\n",
    "    for row in rd:\n",
    "        train.append(row)\n",
    "print(val[0])\n",
    "print(train[0])"
   ]
  },
  {
   "cell_type": "code",
   "execution_count": 11,
   "id": "655a016a",
   "metadata": {},
   "outputs": [],
   "source": [
    "#Get the caption -> url mapping\n",
    "caption_url_mapping = {}\n",
    "for x in val+train:\n",
    "    caption = x[0]\n",
    "    url = x[1]\n",
    "    caption_url_mapping[caption] = url"
   ]
  },
  {
   "cell_type": "code",
   "execution_count": null,
   "id": "8b2fa16b",
   "metadata": {},
   "outputs": [],
   "source": []
  },
  {
   "cell_type": "code",
   "execution_count": 12,
   "id": "3d0578a4",
   "metadata": {},
   "outputs": [],
   "source": [
    "data_path = \"/data/home/zmykevin/vinvl_data/CC\"\n",
    "csv_path = os.path.join(data_path, \"captions_retrieved_bertembedding_bookcorpus_sorted.csv\")\n",
    "\n",
    "loaded_data = load_csv(csv_path)"
   ]
  },
  {
   "cell_type": "code",
   "execution_count": 14,
   "id": "6e9f6465",
   "metadata": {},
   "outputs": [
    {
     "name": "stdout",
     "output_type": "stream",
     "text": [
      "1000\n"
     ]
    }
   ],
   "source": [
    "loaded_data_sub = loaded_data[:1000]\n",
    "loaded_data_sub_updated = []\n",
    "for x in loaded_data_sub:\n",
    "    #print(x)\n",
    "    #original_caption = x['original_caption']\n",
    "    retrieved_1_caption = x['retrieved_1']\n",
    "    #original_url = caption_url_mapping[original_caption]\n",
    "    #retrieved_url = caption_url_mapping[retrieved_1_caption]\n",
    "    #x['original_url'] = original_url\n",
    "    #x['retrieved_url_1'] = retrieved_url\n",
    "    loaded_data_sub_updated.append(x)\n",
    "print(len(loaded_data_sub_updated))"
   ]
  },
  {
   "cell_type": "code",
   "execution_count": 15,
   "id": "2791d252",
   "metadata": {},
   "outputs": [
    {
     "name": "stdout",
     "output_type": "stream",
     "text": [
      "{'original_id': '0', 'original_obj': '', 'original_caption': 'the half-ling book one in the fall of igneeria series kaylee soderburg copyright 2013 kaylee soderburg all rights reserved .', 'retrieved_1': 'on the other side of the road a worried looking passenger boarded a bus and nodded .', 'retrieved_2': 'the bus driver said .', 'retrieved_3': 'as he circled around the bus this time , he caught a glimpse of a black-clothed figure moving from the office to the warehouse .'}\n"
     ]
    }
   ],
   "source": [
    "print(loaded_data_sub_updated[0])\n",
    "save_csv(loaded_data_sub_updated, os.path.join(data_path, \"captions_retrieved_bertembedding_sorted_bookcorpus_1000.csv\"))"
   ]
  },
  {
   "cell_type": "code",
   "execution_count": 41,
   "id": "f225cbd1",
   "metadata": {},
   "outputs": [],
   "source": [
    "#Visualize the Best and Worst CLIP Scores using each method;\n",
    "clip_score_path = \"/data/home/zmykevin/vinvl_data/CC/cc_clip_score_tfidf.json\"\n",
    "with open(clip_score_path, \"r\") as f:\n",
    "    clip_score = json.load(f)"
   ]
  },
  {
   "cell_type": "code",
   "execution_count": 5,
   "id": "253beb33",
   "metadata": {},
   "outputs": [],
   "source": [
    "cc_caption_objects_path = \"/data/home/zmykevin/vinvl_data/CC/cc_objects_captions.json\"\n",
    "with open(cc_caption_objects_path, \"r\") as f:\n",
    "    cc_caption_objects = json.load(f)"
   ]
  },
  {
   "cell_type": "code",
   "execution_count": 42,
   "id": "d4402c54",
   "metadata": {},
   "outputs": [],
   "source": [
    "clip_score_ids = []\n",
    "clip_score_list = []\n",
    "for k,v in clip_score.items():\n",
    "    clip_score_ids.append(k)\n",
    "    clip_score_list.append(v)"
   ]
  },
  {
   "cell_type": "code",
   "execution_count": 43,
   "id": "8d2fc4a7",
   "metadata": {},
   "outputs": [],
   "source": [
    "clip_score_arg = np.argsort(np.array(clip_score_list))"
   ]
  },
  {
   "cell_type": "code",
   "execution_count": 44,
   "id": "9eaf17b1",
   "metadata": {},
   "outputs": [
    {
     "name": "stdout",
     "output_type": "stream",
     "text": [
      "['16503', '23133', '12732', '4012', '31495', '31830', '31300', '31085', '25412', '28371']\n",
      "['34063', '28646', '27320', '1646', '15691', '7035', '35159', '7513', '26745', '30458']\n"
     ]
    }
   ],
   "source": [
    "best_scores_id = [clip_score_ids[x] for x in clip_score_arg[-10:]]\n",
    "worst_scores_id = [clip_score_ids[x] for x in clip_score_arg[:10]]\n",
    "print(best_scores_id)\n",
    "print(worst_scores_id)"
   ]
  },
  {
   "cell_type": "code",
   "execution_count": 45,
   "id": "76c0c439",
   "metadata": {},
   "outputs": [],
   "source": [
    "#Visualize these examples\n",
    "retrieved_caption_path = \"/data/home/zmykevin/vinvl_data/CC/captions_retrieved_bertembedding_top10_sorted.json\"\n",
    "with open(retrieved_caption_path, \"r\") as f:\n",
    "    retrieved_captions = json.load(f)"
   ]
  },
  {
   "cell_type": "code",
   "execution_count": 48,
   "id": "16845b86",
   "metadata": {},
   "outputs": [],
   "source": [
    "score_log = []\n",
    "for original_id in best_scores_id:\n",
    "    original_objects = cc_caption_objects[original_id][\"objects_no_rep\"]\n",
    "    original_caption = cc_caption_objects[original_id][\"caption\"]\n",
    "    retrieved_id = retrieved_captions[original_id][0]\n",
    "    retrieved_caption = cc_caption_objects[retrieved_id][\"caption\"]\n",
    "    \n",
    "    original_image_url = caption_url_mapping[original_caption]\n",
    "    retrieved_image_url = caption_url_mapping[retrieved_caption]\n",
    "    score_log.append({\"original_id\": original_id, \n",
    "                           \"original_objects\": original_objects, \n",
    "                           \"original_caption\": original_caption, \n",
    "                           \"retrieved_caption\": retrieved_caption, \n",
    "                           \"original_image_url\": original_image_url, \n",
    "                           \"retrieved_image_url\": retrieved_image_url})\n"
   ]
  },
  {
   "cell_type": "code",
   "execution_count": 49,
   "id": "f1ac92e3",
   "metadata": {},
   "outputs": [],
   "source": [
    "save_csv(score_log, \"/data/home/zmykevin/vinvl_data/CC/best_captions_tfidf.csv\")"
   ]
  },
  {
   "cell_type": "code",
   "execution_count": null,
   "id": "cd117701",
   "metadata": {},
   "outputs": [],
   "source": []
  }
 ],
 "metadata": {
  "kernelspec": {
   "display_name": "mmf",
   "language": "python",
   "name": "mmf"
  },
  "language_info": {
   "codemirror_mode": {
    "name": "ipython",
    "version": 3
   },
   "file_extension": ".py",
   "mimetype": "text/x-python",
   "name": "python",
   "nbconvert_exporter": "python",
   "pygments_lexer": "ipython3",
   "version": "3.7.10"
  }
 },
 "nbformat": 4,
 "nbformat_minor": 5
}
